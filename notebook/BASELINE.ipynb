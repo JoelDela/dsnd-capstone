{
 "cells": [
  {
   "cell_type": "markdown",
   "metadata": {},
   "source": [
    "### PRELIMINARY ETL PIPELINE"
   ]
  },
  {
   "cell_type": "code",
   "execution_count": 30,
   "metadata": {},
   "outputs": [],
   "source": [
    "import pandas as pd\n",
    "import numpy as np\n",
    "import os\n",
    "import glob\n",
    "from tqdm import tqdm\n",
    "from sklearn.model_selection import train_test_split\n",
    "from sklearn.model_selection import GridSearchCV, KFold\n",
    "from sklearn.ensemble import RandomForestRegressor\n",
    "from sklearn.metrics import make_scorer\n",
    "from sklearn.metrics import mean_absolute_error\n",
    "import matplotlib.pyplot as plt"
   ]
  },
  {
   "cell_type": "code",
   "execution_count": 2,
   "metadata": {},
   "outputs": [
    {
     "data": {
      "text/plain": [
       "'C:\\\\Users\\\\bonano1m\\\\Desktop\\\\capstone\\\\data'"
      ]
     },
     "execution_count": 2,
     "metadata": {},
     "output_type": "execute_result"
    }
   ],
   "source": [
    "os.getcwd().replace('notebook','data')"
   ]
  },
  {
   "cell_type": "code",
   "execution_count": 3,
   "metadata": {
    "scrolled": true
   },
   "outputs": [
    {
     "name": "stderr",
     "output_type": "stream",
     "text": [
      "C:\\ProgramData\\Anaconda3\\lib\\site-packages\\ipykernel_launcher.py:9: FutureWarning: Sorting because non-concatenation axis is not aligned. A future version\n",
      "of pandas will change to not sort by default.\n",
      "\n",
      "To accept the future behavior, pass 'sort=True'.\n",
      "\n",
      "To retain the current behavior and silence the warning, pass sort=False\n",
      "\n",
      "  if __name__ == '__main__':\n"
     ]
    }
   ],
   "source": [
    "file_name_1 = 'elspot-prices_'\n",
    "file_name_2 = '_hourly_dkk.csv'\n",
    "years = ['2013','2014','2015']\n",
    "data_folder = os.getcwd().replace('notebook','data\\\\')\n",
    "all_data=[]\n",
    "for year in years:\n",
    "    file_name_tot = data_folder + file_name_1 + year + file_name_2\n",
    "    all_data.append(pd.read_csv(file_name_tot,encoding = \"ISO-8859-1\",sep=';',decimal=','))\n",
    "df = pd.concat(all_data, ignore_index=True)"
   ]
  },
  {
   "cell_type": "code",
   "execution_count": 4,
   "metadata": {},
   "outputs": [
    {
     "data": {
      "text/html": [
       "<div>\n",
       "<style scoped>\n",
       "    .dataframe tbody tr th:only-of-type {\n",
       "        vertical-align: middle;\n",
       "    }\n",
       "\n",
       "    .dataframe tbody tr th {\n",
       "        vertical-align: top;\n",
       "    }\n",
       "\n",
       "    .dataframe thead th {\n",
       "        text-align: right;\n",
       "    }\n",
       "</style>\n",
       "<table border=\"1\" class=\"dataframe\">\n",
       "  <thead>\n",
       "    <tr style=\"text-align: right;\">\n",
       "      <th></th>\n",
       "      <th>Bergen</th>\n",
       "      <th>DK1</th>\n",
       "      <th>DK2</th>\n",
       "      <th>EE</th>\n",
       "      <th>ELE</th>\n",
       "      <th>FI</th>\n",
       "      <th>FRE</th>\n",
       "      <th>Hours</th>\n",
       "      <th>Kr.sand</th>\n",
       "      <th>LT</th>\n",
       "      <th>...</th>\n",
       "      <th>Molde</th>\n",
       "      <th>Oslo</th>\n",
       "      <th>SE1</th>\n",
       "      <th>SE2</th>\n",
       "      <th>SE3</th>\n",
       "      <th>SE4</th>\n",
       "      <th>SYS</th>\n",
       "      <th>Tr.heim</th>\n",
       "      <th>Tromsø</th>\n",
       "      <th>datetime</th>\n",
       "    </tr>\n",
       "  </thead>\n",
       "  <tbody>\n",
       "    <tr>\n",
       "      <th>0</th>\n",
       "      <td>246.01</td>\n",
       "      <td>104.66</td>\n",
       "      <td>104.66</td>\n",
       "      <td>232.14</td>\n",
       "      <td>232.14</td>\n",
       "      <td>231.54</td>\n",
       "      <td>NaN</td>\n",
       "      <td>00 - 01</td>\n",
       "      <td>246.01</td>\n",
       "      <td>182.16</td>\n",
       "      <td>...</td>\n",
       "      <td>231.54</td>\n",
       "      <td>246.01</td>\n",
       "      <td>231.54</td>\n",
       "      <td>231.54</td>\n",
       "      <td>231.54</td>\n",
       "      <td>231.54</td>\n",
       "      <td>231.62</td>\n",
       "      <td>231.54</td>\n",
       "      <td>231.54</td>\n",
       "      <td>01/01/2013</td>\n",
       "    </tr>\n",
       "    <tr>\n",
       "      <th>1</th>\n",
       "      <td>245.94</td>\n",
       "      <td>82.50</td>\n",
       "      <td>82.50</td>\n",
       "      <td>228.34</td>\n",
       "      <td>228.34</td>\n",
       "      <td>205.21</td>\n",
       "      <td>NaN</td>\n",
       "      <td>01 - 02</td>\n",
       "      <td>245.94</td>\n",
       "      <td>176.19</td>\n",
       "      <td>...</td>\n",
       "      <td>229.83</td>\n",
       "      <td>245.94</td>\n",
       "      <td>205.21</td>\n",
       "      <td>205.21</td>\n",
       "      <td>205.21</td>\n",
       "      <td>205.21</td>\n",
       "      <td>227.29</td>\n",
       "      <td>229.83</td>\n",
       "      <td>229.83</td>\n",
       "      <td>01/01/2013</td>\n",
       "    </tr>\n",
       "    <tr>\n",
       "      <th>2</th>\n",
       "      <td>243.11</td>\n",
       "      <td>63.41</td>\n",
       "      <td>63.41</td>\n",
       "      <td>182.31</td>\n",
       "      <td>182.31</td>\n",
       "      <td>182.31</td>\n",
       "      <td>NaN</td>\n",
       "      <td>02 - 03</td>\n",
       "      <td>243.11</td>\n",
       "      <td>178.51</td>\n",
       "      <td>...</td>\n",
       "      <td>229.53</td>\n",
       "      <td>243.11</td>\n",
       "      <td>182.31</td>\n",
       "      <td>182.31</td>\n",
       "      <td>182.31</td>\n",
       "      <td>182.31</td>\n",
       "      <td>215.73</td>\n",
       "      <td>229.53</td>\n",
       "      <td>229.53</td>\n",
       "      <td>01/01/2013</td>\n",
       "    </tr>\n",
       "    <tr>\n",
       "      <th>3</th>\n",
       "      <td>235.20</td>\n",
       "      <td>0.75</td>\n",
       "      <td>0.75</td>\n",
       "      <td>162.69</td>\n",
       "      <td>162.69</td>\n",
       "      <td>162.69</td>\n",
       "      <td>NaN</td>\n",
       "      <td>03 - 04</td>\n",
       "      <td>235.20</td>\n",
       "      <td>177.91</td>\n",
       "      <td>...</td>\n",
       "      <td>229.08</td>\n",
       "      <td>235.20</td>\n",
       "      <td>162.69</td>\n",
       "      <td>162.69</td>\n",
       "      <td>162.69</td>\n",
       "      <td>162.69</td>\n",
       "      <td>207.97</td>\n",
       "      <td>229.08</td>\n",
       "      <td>229.08</td>\n",
       "      <td>01/01/2013</td>\n",
       "    </tr>\n",
       "    <tr>\n",
       "      <th>4</th>\n",
       "      <td>227.81</td>\n",
       "      <td>14.99</td>\n",
       "      <td>14.99</td>\n",
       "      <td>166.87</td>\n",
       "      <td>166.87</td>\n",
       "      <td>166.87</td>\n",
       "      <td>NaN</td>\n",
       "      <td>04 - 05</td>\n",
       "      <td>227.81</td>\n",
       "      <td>173.51</td>\n",
       "      <td>...</td>\n",
       "      <td>228.48</td>\n",
       "      <td>227.81</td>\n",
       "      <td>166.87</td>\n",
       "      <td>166.87</td>\n",
       "      <td>166.87</td>\n",
       "      <td>166.87</td>\n",
       "      <td>201.11</td>\n",
       "      <td>228.48</td>\n",
       "      <td>228.48</td>\n",
       "      <td>01/01/2013</td>\n",
       "    </tr>\n",
       "  </tbody>\n",
       "</table>\n",
       "<p>5 rows × 21 columns</p>\n",
       "</div>"
      ],
      "text/plain": [
       "   Bergen     DK1     DK2      EE     ELE      FI  FRE    Hours  Kr.sand  \\\n",
       "0  246.01  104.66  104.66  232.14  232.14  231.54  NaN  00 - 01   246.01   \n",
       "1  245.94   82.50   82.50  228.34  228.34  205.21  NaN  01 - 02   245.94   \n",
       "2  243.11   63.41   63.41  182.31  182.31  182.31  NaN  02 - 03   243.11   \n",
       "3  235.20    0.75    0.75  162.69  162.69  162.69  NaN  03 - 04   235.20   \n",
       "4  227.81   14.99   14.99  166.87  166.87  166.87  NaN  04 - 05   227.81   \n",
       "\n",
       "       LT     ...       Molde    Oslo     SE1     SE2     SE3     SE4     SYS  \\\n",
       "0  182.16     ...      231.54  246.01  231.54  231.54  231.54  231.54  231.62   \n",
       "1  176.19     ...      229.83  245.94  205.21  205.21  205.21  205.21  227.29   \n",
       "2  178.51     ...      229.53  243.11  182.31  182.31  182.31  182.31  215.73   \n",
       "3  177.91     ...      229.08  235.20  162.69  162.69  162.69  162.69  207.97   \n",
       "4  173.51     ...      228.48  227.81  166.87  166.87  166.87  166.87  201.11   \n",
       "\n",
       "   Tr.heim  Tromsø    datetime  \n",
       "0   231.54  231.54  01/01/2013  \n",
       "1   229.83  229.83  01/01/2013  \n",
       "2   229.53  229.53  01/01/2013  \n",
       "3   229.08  229.08  01/01/2013  \n",
       "4   228.48  228.48  01/01/2013  \n",
       "\n",
       "[5 rows x 21 columns]"
      ]
     },
     "execution_count": 4,
     "metadata": {},
     "output_type": "execute_result"
    }
   ],
   "source": [
    "df.head()"
   ]
  },
  {
   "cell_type": "code",
   "execution_count": 5,
   "metadata": {},
   "outputs": [
    {
     "data": {
      "text/plain": [
       "(26283, 21)"
      ]
     },
     "execution_count": 5,
     "metadata": {},
     "output_type": "execute_result"
    }
   ],
   "source": [
    "df.shape"
   ]
  },
  {
   "cell_type": "code",
   "execution_count": 12,
   "metadata": {},
   "outputs": [],
   "source": [
    "df_bergen = df[['datetime','Hours','Bergen']]"
   ]
  },
  {
   "cell_type": "code",
   "execution_count": 13,
   "metadata": {},
   "outputs": [],
   "source": [
    "pd.options.mode.chained_assignment = None"
   ]
  },
  {
   "cell_type": "code",
   "execution_count": 14,
   "metadata": {},
   "outputs": [
    {
     "data": {
      "text/html": [
       "<div>\n",
       "<style scoped>\n",
       "    .dataframe tbody tr th:only-of-type {\n",
       "        vertical-align: middle;\n",
       "    }\n",
       "\n",
       "    .dataframe tbody tr th {\n",
       "        vertical-align: top;\n",
       "    }\n",
       "\n",
       "    .dataframe thead th {\n",
       "        text-align: right;\n",
       "    }\n",
       "</style>\n",
       "<table border=\"1\" class=\"dataframe\">\n",
       "  <thead>\n",
       "    <tr style=\"text-align: right;\">\n",
       "      <th></th>\n",
       "      <th>datetime</th>\n",
       "      <th>Hours</th>\n",
       "      <th>Bergen</th>\n",
       "    </tr>\n",
       "  </thead>\n",
       "  <tbody>\n",
       "    <tr>\n",
       "      <th>0</th>\n",
       "      <td>01/01/2013</td>\n",
       "      <td>00 - 01</td>\n",
       "      <td>246.01</td>\n",
       "    </tr>\n",
       "    <tr>\n",
       "      <th>1</th>\n",
       "      <td>01/01/2013</td>\n",
       "      <td>01 - 02</td>\n",
       "      <td>245.94</td>\n",
       "    </tr>\n",
       "    <tr>\n",
       "      <th>2</th>\n",
       "      <td>01/01/2013</td>\n",
       "      <td>02 - 03</td>\n",
       "      <td>243.11</td>\n",
       "    </tr>\n",
       "    <tr>\n",
       "      <th>3</th>\n",
       "      <td>01/01/2013</td>\n",
       "      <td>03 - 04</td>\n",
       "      <td>235.20</td>\n",
       "    </tr>\n",
       "    <tr>\n",
       "      <th>4</th>\n",
       "      <td>01/01/2013</td>\n",
       "      <td>04 - 05</td>\n",
       "      <td>227.81</td>\n",
       "    </tr>\n",
       "  </tbody>\n",
       "</table>\n",
       "</div>"
      ],
      "text/plain": [
       "     datetime    Hours  Bergen\n",
       "0  01/01/2013  00 - 01  246.01\n",
       "1  01/01/2013  01 - 02  245.94\n",
       "2  01/01/2013  02 - 03  243.11\n",
       "3  01/01/2013  03 - 04  235.20\n",
       "4  01/01/2013  04 - 05  227.81"
      ]
     },
     "execution_count": 14,
     "metadata": {},
     "output_type": "execute_result"
    }
   ],
   "source": [
    "df_bergen.head()"
   ]
  },
  {
   "cell_type": "code",
   "execution_count": 15,
   "metadata": {},
   "outputs": [],
   "source": [
    "df_bergen.loc[:,'Bergen_1'] = df_bergen.Bergen.shift(1)\n",
    "df_bergen.loc[:,'Bergen_2'] = df_bergen.Bergen.shift(2)\n",
    "df_bergen.loc[:,'Bergen_3'] = df_bergen.Bergen.shift(3)\n",
    "df_bergen.loc[:,'Bergen_4'] = df_bergen.Bergen.shift(4)\n",
    "df_bergen.loc[:,'Bergen_5'] = df_bergen.Bergen.shift(5)\n",
    "df_bergen.loc[:,'Bergen_6'] = df_bergen.Bergen.shift(6)"
   ]
  },
  {
   "cell_type": "code",
   "execution_count": 16,
   "metadata": {},
   "outputs": [
    {
     "data": {
      "text/html": [
       "<div>\n",
       "<style scoped>\n",
       "    .dataframe tbody tr th:only-of-type {\n",
       "        vertical-align: middle;\n",
       "    }\n",
       "\n",
       "    .dataframe tbody tr th {\n",
       "        vertical-align: top;\n",
       "    }\n",
       "\n",
       "    .dataframe thead th {\n",
       "        text-align: right;\n",
       "    }\n",
       "</style>\n",
       "<table border=\"1\" class=\"dataframe\">\n",
       "  <thead>\n",
       "    <tr style=\"text-align: right;\">\n",
       "      <th></th>\n",
       "      <th>datetime</th>\n",
       "      <th>Hours</th>\n",
       "      <th>Bergen</th>\n",
       "      <th>Bergen_1</th>\n",
       "      <th>Bergen_2</th>\n",
       "      <th>Bergen_3</th>\n",
       "      <th>Bergen_4</th>\n",
       "      <th>Bergen_5</th>\n",
       "      <th>Bergen_6</th>\n",
       "    </tr>\n",
       "  </thead>\n",
       "  <tbody>\n",
       "    <tr>\n",
       "      <th>0</th>\n",
       "      <td>01/01/2013</td>\n",
       "      <td>00 - 01</td>\n",
       "      <td>246.01</td>\n",
       "      <td>NaN</td>\n",
       "      <td>NaN</td>\n",
       "      <td>NaN</td>\n",
       "      <td>NaN</td>\n",
       "      <td>NaN</td>\n",
       "      <td>NaN</td>\n",
       "    </tr>\n",
       "    <tr>\n",
       "      <th>1</th>\n",
       "      <td>01/01/2013</td>\n",
       "      <td>01 - 02</td>\n",
       "      <td>245.94</td>\n",
       "      <td>246.01</td>\n",
       "      <td>NaN</td>\n",
       "      <td>NaN</td>\n",
       "      <td>NaN</td>\n",
       "      <td>NaN</td>\n",
       "      <td>NaN</td>\n",
       "    </tr>\n",
       "    <tr>\n",
       "      <th>2</th>\n",
       "      <td>01/01/2013</td>\n",
       "      <td>02 - 03</td>\n",
       "      <td>243.11</td>\n",
       "      <td>245.94</td>\n",
       "      <td>246.01</td>\n",
       "      <td>NaN</td>\n",
       "      <td>NaN</td>\n",
       "      <td>NaN</td>\n",
       "      <td>NaN</td>\n",
       "    </tr>\n",
       "    <tr>\n",
       "      <th>3</th>\n",
       "      <td>01/01/2013</td>\n",
       "      <td>03 - 04</td>\n",
       "      <td>235.20</td>\n",
       "      <td>243.11</td>\n",
       "      <td>245.94</td>\n",
       "      <td>246.01</td>\n",
       "      <td>NaN</td>\n",
       "      <td>NaN</td>\n",
       "      <td>NaN</td>\n",
       "    </tr>\n",
       "    <tr>\n",
       "      <th>4</th>\n",
       "      <td>01/01/2013</td>\n",
       "      <td>04 - 05</td>\n",
       "      <td>227.81</td>\n",
       "      <td>235.20</td>\n",
       "      <td>243.11</td>\n",
       "      <td>245.94</td>\n",
       "      <td>246.01</td>\n",
       "      <td>NaN</td>\n",
       "      <td>NaN</td>\n",
       "    </tr>\n",
       "    <tr>\n",
       "      <th>5</th>\n",
       "      <td>01/01/2013</td>\n",
       "      <td>05 - 06</td>\n",
       "      <td>223.26</td>\n",
       "      <td>227.81</td>\n",
       "      <td>235.20</td>\n",
       "      <td>243.11</td>\n",
       "      <td>245.94</td>\n",
       "      <td>246.01</td>\n",
       "      <td>NaN</td>\n",
       "    </tr>\n",
       "    <tr>\n",
       "      <th>6</th>\n",
       "      <td>01/01/2013</td>\n",
       "      <td>06 - 07</td>\n",
       "      <td>225.50</td>\n",
       "      <td>223.26</td>\n",
       "      <td>227.81</td>\n",
       "      <td>235.20</td>\n",
       "      <td>243.11</td>\n",
       "      <td>245.94</td>\n",
       "      <td>246.01</td>\n",
       "    </tr>\n",
       "    <tr>\n",
       "      <th>7</th>\n",
       "      <td>01/01/2013</td>\n",
       "      <td>07 - 08</td>\n",
       "      <td>221.85</td>\n",
       "      <td>225.50</td>\n",
       "      <td>223.26</td>\n",
       "      <td>227.81</td>\n",
       "      <td>235.20</td>\n",
       "      <td>243.11</td>\n",
       "      <td>245.94</td>\n",
       "    </tr>\n",
       "    <tr>\n",
       "      <th>8</th>\n",
       "      <td>01/01/2013</td>\n",
       "      <td>08 - 09</td>\n",
       "      <td>226.02</td>\n",
       "      <td>221.85</td>\n",
       "      <td>225.50</td>\n",
       "      <td>223.26</td>\n",
       "      <td>227.81</td>\n",
       "      <td>235.20</td>\n",
       "      <td>243.11</td>\n",
       "    </tr>\n",
       "    <tr>\n",
       "      <th>9</th>\n",
       "      <td>01/01/2013</td>\n",
       "      <td>09 - 10</td>\n",
       "      <td>223.79</td>\n",
       "      <td>226.02</td>\n",
       "      <td>221.85</td>\n",
       "      <td>225.50</td>\n",
       "      <td>223.26</td>\n",
       "      <td>227.81</td>\n",
       "      <td>235.20</td>\n",
       "    </tr>\n",
       "  </tbody>\n",
       "</table>\n",
       "</div>"
      ],
      "text/plain": [
       "     datetime    Hours  Bergen  Bergen_1  Bergen_2  Bergen_3  Bergen_4  \\\n",
       "0  01/01/2013  00 - 01  246.01       NaN       NaN       NaN       NaN   \n",
       "1  01/01/2013  01 - 02  245.94    246.01       NaN       NaN       NaN   \n",
       "2  01/01/2013  02 - 03  243.11    245.94    246.01       NaN       NaN   \n",
       "3  01/01/2013  03 - 04  235.20    243.11    245.94    246.01       NaN   \n",
       "4  01/01/2013  04 - 05  227.81    235.20    243.11    245.94    246.01   \n",
       "5  01/01/2013  05 - 06  223.26    227.81    235.20    243.11    245.94   \n",
       "6  01/01/2013  06 - 07  225.50    223.26    227.81    235.20    243.11   \n",
       "7  01/01/2013  07 - 08  221.85    225.50    223.26    227.81    235.20   \n",
       "8  01/01/2013  08 - 09  226.02    221.85    225.50    223.26    227.81   \n",
       "9  01/01/2013  09 - 10  223.79    226.02    221.85    225.50    223.26   \n",
       "\n",
       "   Bergen_5  Bergen_6  \n",
       "0       NaN       NaN  \n",
       "1       NaN       NaN  \n",
       "2       NaN       NaN  \n",
       "3       NaN       NaN  \n",
       "4       NaN       NaN  \n",
       "5    246.01       NaN  \n",
       "6    245.94    246.01  \n",
       "7    243.11    245.94  \n",
       "8    235.20    243.11  \n",
       "9    227.81    235.20  "
      ]
     },
     "execution_count": 16,
     "metadata": {},
     "output_type": "execute_result"
    }
   ],
   "source": [
    "df_bergen.head(10)"
   ]
  },
  {
   "cell_type": "code",
   "execution_count": 17,
   "metadata": {},
   "outputs": [
    {
     "name": "stdout",
     "output_type": "stream",
     "text": [
      "(26283, 9)\n",
      "(26256, 9)\n"
     ]
    }
   ],
   "source": [
    "print(df_bergen.shape)\n",
    "df_clean = df_bergen.dropna()\n",
    "print(df_clean.shape)"
   ]
  },
  {
   "cell_type": "code",
   "execution_count": 18,
   "metadata": {},
   "outputs": [],
   "source": [
    "test_size = 8000\n",
    "train_size = df_clean.shape[0]-test_size\n",
    "\n",
    "X_train = df_clean.drop(['Bergen','Hours','datetime'],axis=1).head(train_size)\n",
    "y_train = df_clean['Bergen'].head(train_size)\n",
    "X_test = df_clean.drop(['Bergen','Hours','datetime'],axis=1).tail(test_size)\n",
    "y_test = df_clean['Bergen'].tail(test_size)"
   ]
  },
  {
   "cell_type": "code",
   "execution_count": 19,
   "metadata": {},
   "outputs": [
    {
     "data": {
      "text/html": [
       "<div>\n",
       "<style scoped>\n",
       "    .dataframe tbody tr th:only-of-type {\n",
       "        vertical-align: middle;\n",
       "    }\n",
       "\n",
       "    .dataframe tbody tr th {\n",
       "        vertical-align: top;\n",
       "    }\n",
       "\n",
       "    .dataframe thead th {\n",
       "        text-align: right;\n",
       "    }\n",
       "</style>\n",
       "<table border=\"1\" class=\"dataframe\">\n",
       "  <thead>\n",
       "    <tr style=\"text-align: right;\">\n",
       "      <th></th>\n",
       "      <th>Bergen_1</th>\n",
       "      <th>Bergen_2</th>\n",
       "      <th>Bergen_3</th>\n",
       "      <th>Bergen_4</th>\n",
       "      <th>Bergen_5</th>\n",
       "      <th>Bergen_6</th>\n",
       "    </tr>\n",
       "  </thead>\n",
       "  <tbody>\n",
       "    <tr>\n",
       "      <th>6</th>\n",
       "      <td>223.26</td>\n",
       "      <td>227.81</td>\n",
       "      <td>235.20</td>\n",
       "      <td>243.11</td>\n",
       "      <td>245.94</td>\n",
       "      <td>246.01</td>\n",
       "    </tr>\n",
       "    <tr>\n",
       "      <th>7</th>\n",
       "      <td>225.50</td>\n",
       "      <td>223.26</td>\n",
       "      <td>227.81</td>\n",
       "      <td>235.20</td>\n",
       "      <td>243.11</td>\n",
       "      <td>245.94</td>\n",
       "    </tr>\n",
       "    <tr>\n",
       "      <th>8</th>\n",
       "      <td>221.85</td>\n",
       "      <td>225.50</td>\n",
       "      <td>223.26</td>\n",
       "      <td>227.81</td>\n",
       "      <td>235.20</td>\n",
       "      <td>243.11</td>\n",
       "    </tr>\n",
       "    <tr>\n",
       "      <th>9</th>\n",
       "      <td>226.02</td>\n",
       "      <td>221.85</td>\n",
       "      <td>225.50</td>\n",
       "      <td>223.26</td>\n",
       "      <td>227.81</td>\n",
       "      <td>235.20</td>\n",
       "    </tr>\n",
       "    <tr>\n",
       "      <th>10</th>\n",
       "      <td>223.79</td>\n",
       "      <td>226.02</td>\n",
       "      <td>221.85</td>\n",
       "      <td>225.50</td>\n",
       "      <td>223.26</td>\n",
       "      <td>227.81</td>\n",
       "    </tr>\n",
       "  </tbody>\n",
       "</table>\n",
       "</div>"
      ],
      "text/plain": [
       "    Bergen_1  Bergen_2  Bergen_3  Bergen_4  Bergen_5  Bergen_6\n",
       "6     223.26    227.81    235.20    243.11    245.94    246.01\n",
       "7     225.50    223.26    227.81    235.20    243.11    245.94\n",
       "8     221.85    225.50    223.26    227.81    235.20    243.11\n",
       "9     226.02    221.85    225.50    223.26    227.81    235.20\n",
       "10    223.79    226.02    221.85    225.50    223.26    227.81"
      ]
     },
     "execution_count": 19,
     "metadata": {},
     "output_type": "execute_result"
    }
   ],
   "source": [
    "X_train.head()"
   ]
  },
  {
   "cell_type": "code",
   "execution_count": 20,
   "metadata": {},
   "outputs": [
    {
     "data": {
      "text/plain": [
       "6     225.50\n",
       "7     221.85\n",
       "8     226.02\n",
       "9     223.79\n",
       "10    239.60\n",
       "Name: Bergen, dtype: float64"
      ]
     },
     "execution_count": 20,
     "metadata": {},
     "output_type": "execute_result"
    }
   ],
   "source": [
    "y_train.head()"
   ]
  },
  {
   "cell_type": "code",
   "execution_count": 26,
   "metadata": {},
   "outputs": [],
   "source": [
    "# Number of trees in random forest\n",
    "n_estimators = [10,50,200]\n",
    "# Number of features to consider at every split\n",
    "max_features = ['sqrt']\n",
    "# Maximum number of levels in tree\n",
    "max_depth = [3,6,9]\n",
    "# Minimum number of samples required to split a node\n",
    "min_samples_split = [2, 5, 10]\n",
    "# Minimum number of samples required at each leaf node\n",
    "min_samples_leaf = [1, 2, 4]\n",
    "# Method of selecting samples for training each tree\n",
    "bootstrap = [True, False]\n",
    "# Create the random grid\n",
    "param_grid = {'n_estimators': n_estimators,\n",
    "               'max_features': max_features,\n",
    "               'max_depth': max_depth,\n",
    "               'min_samples_split': min_samples_split,\n",
    "               'min_samples_leaf': min_samples_leaf,\n",
    "               'bootstrap': bootstrap}"
   ]
  },
  {
   "cell_type": "code",
   "execution_count": 27,
   "metadata": {},
   "outputs": [
    {
     "name": "stdout",
     "output_type": "stream",
     "text": [
      "Fitting 4 folds for each of 162 candidates, totalling 648 fits\n"
     ]
    },
    {
     "name": "stderr",
     "output_type": "stream",
     "text": [
      "[Parallel(n_jobs=-1)]: Done 114 tasks      | elapsed:   22.8s\n",
      "[Parallel(n_jobs=-1)]: Done 317 tasks      | elapsed:   39.6s\n",
      "[Parallel(n_jobs=-1)]: Done 600 tasks      | elapsed:  1.1min\n",
      "[Parallel(n_jobs=-1)]: Done 648 out of 648 | elapsed:  1.3min finished\n"
     ]
    },
    {
     "data": {
      "text/plain": [
       "GridSearchCV(cv=KFold(n_splits=4, random_state=None, shuffle=False),\n",
       "       error_score='raise',\n",
       "       estimator=RandomForestRegressor(bootstrap=True, criterion='mse', max_depth=None,\n",
       "           max_features='auto', max_leaf_nodes=None,\n",
       "           min_impurity_decrease=0.0, min_impurity_split=None,\n",
       "           min_samples_leaf=1, min_samples_split=2,\n",
       "           min_weight_fraction_leaf=0.0, n_estimators=10, n_jobs=1,\n",
       "           oob_score=False, random_state=None, verbose=0, warm_start=False),\n",
       "       fit_params=None, iid=True, n_jobs=-1,\n",
       "       param_grid={'n_estimators': [10, 50, 200], 'max_features': ['sqrt'], 'max_depth': [3, 6, 9], 'min_samples_split': [2, 5, 10], 'min_samples_leaf': [1, 2, 4], 'bootstrap': [True, False]},\n",
       "       pre_dispatch='2*n_jobs', refit=True, return_train_score='warn',\n",
       "       scoring=make_scorer(mean_absolute_error), verbose=2)"
      ]
     },
     "execution_count": 27,
     "metadata": {},
     "output_type": "execute_result"
    }
   ],
   "source": [
    "# Use the random grid to search for best hyperparameters\n",
    "# First create the base model to tune\n",
    "rf = RandomForestRegressor()\n",
    "cv = KFold(4)\n",
    "scorer = make_scorer(mean_absolute_error)\n",
    "# Random search of parameters, using 3 fold cross validation, \n",
    "# search across 100 different combinations, and use all available cores\n",
    "rf_random = GridSearchCV(estimator = rf, param_grid = param_grid, cv = cv, scoring = scorer, verbose=2, n_jobs = -1)\n",
    "# Fit the random search model\n",
    "rf_random.fit(X_train, y_train)"
   ]
  },
  {
   "cell_type": "code",
   "execution_count": 28,
   "metadata": {},
   "outputs": [
    {
     "name": "stdout",
     "output_type": "stream",
     "text": [
      "21.353919321771695\n"
     ]
    }
   ],
   "source": [
    "y_pred = rf_random.best_estimator_.predict(X_test)\n",
    "\n",
    "print(mean_absolute_error(y_test,y_pred))"
   ]
  },
  {
   "cell_type": "code",
   "execution_count": 35,
   "metadata": {},
   "outputs": [
    {
     "data": {
      "image/png": "[encoded data removed]",
      "text/plain": [
       "<Figure size 1080x504 with 1 Axes>"
      ]
     },
     "metadata": {},
     "output_type": "display_data"
    }
   ],
   "source": [
    "plot_samples = 100\n",
    "\n",
    "plt.figure(figsize=(15,7))\n",
    "plt.scatter(range(plot_samples),y_test[:plot_samples],color='b')\n",
    "plt.scatter(range(plot_samples),y_pred[:plot_samples],color='r')\n",
    "plt.show()"
   ]
  },
  {
   "cell_type": "code",
   "execution_count": null,
   "metadata": {},
   "outputs": [],
   "source": []
  }
 ],
 "metadata": {
  "kernelspec": {
   "display_name": "Python 3",
   "language": "python",
   "name": "python3"
  },
  "language_info": {
   "codemirror_mode": {
    "name": "ipython",
    "version": 3
   },
   "file_extension": ".py",
   "mimetype": "text/x-python",
   "name": "python",
   "nbconvert_exporter": "python",
   "pygments_lexer": "ipython3",
   "version": "3.6.5"
  }
 },
 "nbformat": 4,
 "nbformat_minor": 2
}
