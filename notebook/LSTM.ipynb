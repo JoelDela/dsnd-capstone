{
 "cells": [
  {
   "cell_type": "markdown",
   "metadata": {},
   "source": [
<<<<<<< HEAD
    "### LONG SHORT TERM MEMORY NEURAL NETWORK"
=======
    "## HOURLY ELECTRICITY PRICE FORECASTING MODEL\n",
    "\n",
    "**Scope**\n",
    "\n",
    "Develop a model based on LSTM Neural Networks for short-term electricity price forecasting.\n",
    "The model can be fitted on any kind of regional price data downloaded from the North Pool website.\n",
    "The baseline is a persistence model (explained in *BASELINE.ipynb* notebook). \n",
    "\n",
    "**Main Insights**\n",
    "* LSTM for Time Series proved to be a good approach for this use case\n",
    "* LSTM performance 2-5h ahead of actual market hour are far way better than persistence model performance"
   ]
  },
  {
   "cell_type": "markdown",
   "metadata": {},
   "source": [
    "### REQUIRED LIBRARIES"
>>>>>>> bcc39e2312f4ea14b0cb2792f7897dcfb2100d61
   ]
  },
  {
   "cell_type": "code",
   "execution_count": 9,
   "metadata": {},
   "outputs": [],
   "source": [
    "# Import required libraries\n",
    "import numpy as np\n",
    "import pandas as pd\n",
    "from pandas import DataFrame\n",
    "from pandas import Series\n",
    "from pandas import concat\n",
    "from pandas import read_csv\n",
    "from pandas import datetime\n",
    "from sklearn.metrics import mean_squared_error, mean_absolute_error\n",
    "from sklearn.preprocessing import MinMaxScaler\n",
    "from keras.models import Sequential\n",
    "from keras.layers import Dense\n",
    "from keras.layers import LSTM\n",
    "from math import sqrt\n",
    "from matplotlib import pyplot\n",
    "import numpy\n",
    "import os\n",
    "import platform"
   ]
  },
  {
   "cell_type": "markdown",
   "metadata": {},
   "source": [
    "### REQUIRED FUNCTIONS\n",
    "\n",
    "##### LOADING DATA"
   ]
  },
  {
   "cell_type": "code",
   "execution_count": 10,
   "metadata": {},
   "outputs": [],
   "source": [
<<<<<<< HEAD
    "def load_bergen_data(years = ['2013','2014','2015']):\n",
    "    file_name_1 = 'elspot-prices_'\n",
    "    file_name_2 = '_hourly_dkk.csv'\n",
=======
    "def load_data(params,years = ['2013','2014','2015','2016','2017']):\n",
    "    \"\"\"\n",
    "    This function extracts annual datasets of hourly electricity price (source North Pool).\n",
    "    \n",
    "    Args:\n",
    "        1) years -> list of dataset to be included in trainset and validationset\n",
    "    Out:\n",
    "        1) hourly electricity price dataset of the selected region\n",
    "    \"\"\"\n",
    "    mkt = params['mkt']\n",
    "    file_name_1 = params['path_to_file']['data_prefix']\n",
    "    file_name_2 = params['path_to_file']['data_suffix']\n",
    "    data_folder = params['path_to_file']['path_to_data']\n",
>>>>>>> bcc39e2312f4ea14b0cb2792f7897dcfb2100d61
    "    if platform.system()=='Linux':\n",
    "        data_folder = os.getcwd().replace('notebook','data/')\n",
    "    else:\n",
    "        data_folder = os.getcwd().replace('notebook','data\\\\')\n",
    "    \n",
    "    all_data=[]\n",
    "    for year in years:\n",
    "        file_name_tot = data_folder + file_name_1 + year + file_name_2\n",
    "        all_data.append(pd.read_csv(file_name_tot,encoding = \"ISO-8859-1\",sep=';',decimal=','))\n",
    "    df = pd.concat(all_data, ignore_index=True,sort= True)\n",
    "    df = df[['datetime','Hours','Bergen']]\n",
    "    return df"
   ]
  },
  {
   "cell_type": "markdown",
   "metadata": {},
   "source": [
    "##### LSTM PREPROCESSING FUNCTIONS"
   ]
  },
  {
   "cell_type": "code",
   "execution_count": 5,
   "metadata": {},
   "outputs": [],
   "source": [
    "def generate_shifted_features(df,time_shift,colname):\n",
    "    pd.options.mode.chained_assignment = None\n",
    "    df = df[['datetime','Hours','Bergen']]\n",
    "    for t in time_shift:\n",
    "        df.loc[:,colname+'_'+str(t)] = df.Bergen.shift(t)\n",
    "    return df"
   ]
  },
  {
   "cell_type": "code",
   "execution_count": 6,
   "metadata": {},
   "outputs": [],
   "source": [
    "def create_train_test(df,test_size = 8000):\n",
    "    df = df.dropna()\n",
    "    train_size = df.shape[0]-test_size\n",
    "    \n",
    "    X_train = df.drop(['Bergen','Hours','datetime'],axis=1).head(train_size)\n",
    "    y_train = df['Bergen'].head(train_size)\n",
    "    X_test = df.drop(['Bergen','Hours','datetime'],axis=1).tail(test_size)\n",
    "    y_test = df['Bergen'].tail(test_size)\n",
    "    \n",
    "    return X_train, y_train, X_test, y_test"
   ]
  },
  {
   "cell_type": "code",
   "execution_count": 7,
   "metadata": {},
   "outputs": [],
   "source": [
    "# date-time parsing function for loading the dataset\n",
    "def parser(x):\n",
    "    return datetime.strptime('190'+x, '%Y-%m')\n",
    "\n",
    "# frame a sequence as a supervised learning problem\n",
    "def timeseries_to_supervised(data, lag=1):\n",
    "    df = DataFrame(data)\n",
    "    columns = [df.shift(i) for i in range(1, lag+1)]\n",
    "    columns.append(df)\n",
    "    df = concat(columns, axis=1)\n",
    "    df.fillna(0, inplace=True)\n",
    "    #df = df.dropna()\n",
    "    return df\n",
    "\n",
    "# create a differenced series\n",
    "def difference(dataset, interval=1):\n",
    "    diff = list()\n",
    "    for i in range(interval, len(dataset)):\n",
    "        value = dataset.iloc[i] - dataset.iloc[i - interval]\n",
    "        diff.append(value)\n",
    "    return Series(diff)\n",
    "\n",
<<<<<<< HEAD
    "# invert differenced value\n",
    "def inverse_difference(history, yhat, interval=1):\n",
    "    return yhat + history.iloc[-interval]\n",
    "\n",
    "# scale train and test data to [-1, 1]\n",
    "def scale(train, test):\n",
=======
    "def inverse_difference(history, yhat, interval):\n",
    "    \"\"\"\n",
    "    This function invert differenced values.\n",
    "    \n",
    "    Args:\n",
    "        1) history -> time series to be predicted\n",
    "        2) yhat -> predicted value\n",
    "        3) interval -> difference interval\n",
    "    \n",
    "    Out:\n",
    "        1) Anti-transformed predicted value\n",
    "    \"\"\"\n",
    "    return yhat + history.iloc[-interval]\n"
   ]
  },
  {
   "cell_type": "markdown",
   "metadata": {},
   "source": [
    "##### SCALER FUNCTIONS"
   ]
  },
  {
   "cell_type": "code",
   "execution_count": null,
   "metadata": {},
   "outputs": [],
   "source": [
    "def scale_fit(dataset, scaler=MinMaxScaler(feature_range=(-1, 1))):\n",
    "    \"\"\"\n",
    "    Fit a scaler on a dataset\n",
    "    \n",
    "    Args:\n",
    "        1) dataset --> train dataset\n",
    "        2) scaler --> scaler to be fitted\n",
    "        \n",
    "    Out:\n",
    "        1) scaler -> fitted scaler\n",
    "    \"\"\"\n",
    "    \n",
>>>>>>> bcc39e2312f4ea14b0cb2792f7897dcfb2100d61
    "    # fit scaler\n",
    "    scaler = MinMaxScaler(feature_range=(-1, 1))\n",
    "    scaler = scaler.fit(train)\n",
    "    # transform train\n",
    "    train = train.reshape(train.shape[0], train.shape[1])\n",
    "    train_scaled = scaler.transform(train)\n",
    "    # transform test\n",
    "    test = test.reshape(test.shape[0], test.shape[1])\n",
    "    test_scaled = scaler.transform(test)\n",
    "    return scaler, train_scaled, test_scaled\n",
    "\n",
    "# inverse scaling for a forecasted value\n",
    "def invert_scale(scaler, X, value):\n",
    "    new_row = [x for x in X] + [value]\n",
    "    array = numpy.array(new_row)\n",
    "    array = array.reshape(1, len(array))\n",
    "    inverted = scaler.inverse_transform(array)\n",
    "    return inverted[0, -1]"
   ]
  },
  {
   "cell_type": "markdown",
   "metadata": {},
   "source": [
    "##### LSTM MODEL FUNCTIONS"
   ]
  },
  {
   "cell_type": "code",
   "execution_count": null,
   "metadata": {},
   "outputs": [],
   "source": [
    "def split_features_label(dataset):\n",
    "    features, label = dataset[:, 0:-1], dataset[:, -1]\n",
    "    features = features.reshape(features.shape[0], 1, features.shape[1])\n",
    "    return features,label\n",
    "\n",
    "# fit an LSTM network to training data\n",
    "def fit_lstm(train, val, batch_size, nb_epoch, neurons):\n",
    "    X, y = split_features_label(train)\n",
    "    X_val, y_val = split_features_label(val)\n",
    "    model = Sequential()\n",
    "    model.add(LSTM(neurons, batch_input_shape=(batch_size, X.shape[1], X.shape[2]), stateful=True))\n",
    "    model.add(Dense(1))\n",
    "    model.compile(loss='mean_squared_error', optimizer='adam')\n",
    "    for i in range(nb_epoch):\n",
    "        model.fit(X, y, epochs=1, batch_size=batch_size, verbose=1, shuffle=False, validation_data=(X_val,y_val))\n",
    "        model.reset_states()\n",
    "    return model\n",
    "\n",
    "# make a one-step forecast\n",
    "def forecast_lstm(model, batch_size, X):\n",
    "    X = X.reshape(1, 1, len(X))\n",
    "    yhat = model.predict(X, batch_size=batch_size)\n",
    "    return yhat[0,0]\n"
   ]
  },
  {
   "cell_type": "markdown",
   "metadata": {},
   "source": [
<<<<<<< HEAD
    "#### LSTM MODEL"
=======
    "### INPUT PARAMETERS\n",
    "\n",
    "Model parameters are provided as a dict, so that every function/class is independent from input type. \n",
    "Any change can be easily made using a config file where the user can modify dict values. "
>>>>>>> bcc39e2312f4ea14b0cb2792f7897dcfb2100d61
   ]
  },
  {
   "cell_type": "code",
<<<<<<< HEAD
   "execution_count": 40,
   "metadata": {},
   "outputs": [],
   "source": [
    "df = load_bergen_data()\n",
    "\n",
    "raw_values = df['Bergen'].dropna()"
=======
   "execution_count": 4,
   "metadata": {},
   "outputs": [],
   "source": [
    "params = {\n",
    "    'mkt': 'Bergen',\n",
    "    'path_to_file' : {\n",
    "        'path_to_pickle' : '../saved_session/',\n",
    "        'pickle_name' : 'electric_mkt_data.pkl',\n",
    "        'path_to_data' : '../data/',\n",
    "        'data_prefix' : 'elspot-prices_',\n",
    "        'data_suffix' : '_hourly_dkk.csv'\n",
    "    },\n",
    "    'dataset' : {\n",
    "        'val_share' : 0.2,\n",
    "        'n_steps' : 24,\n",
    "        'time_ahead' : 1\n",
    "    },\n",
    "    'arch' : {\n",
    "        'n_ensemble' : 1,\n",
    "        'neurons' : 3,\n",
    "        'epochs' : 5,\n",
    "        'batch_size': 1\n",
    "    }\n",
    "}"
   ]
  },
  {
   "cell_type": "markdown",
   "metadata": {},
   "source": [
    "### ETL PIPELINE\n",
    "\n",
    "1. Extract data from CSV files\n",
    "2. Transform data to be consistent with LSTM input format\n",
    "3. Split data into train and validation set\n",
    "4. Dump data to pkl file"
>>>>>>> bcc39e2312f4ea14b0cb2792f7897dcfb2100d61
   ]
  },
  {
   "cell_type": "code",
   "execution_count": 41,
   "metadata": {},
   "outputs": [],
   "source": [
<<<<<<< HEAD
    "diff_values = difference(raw_values, 1)"
=======
    "def etl_pipeline(params):\n",
    "    \n",
    "    # internal paramters for the LSTM model\n",
    "    n_shift = params['dataset']['n_steps'] + params['dataset']['time_ahead'] - 1\n",
    "    n_ahead = range(0,params['dataset']['time_ahead'])\n",
    "    \n",
    "    # data loading and feature extraction\n",
    "    df = load_data(params)\n",
    "    raw_values = df[params['mkt']].dropna()\n",
    "    diff_values = difference(raw_values, interval = params['dataset']['time_ahead'])\n",
    "    supervised = timeseries_to_supervised(diff_values, n_shift)\n",
    "    supervised_values = supervised.values\n",
    "    \n",
    "    # train - validation split\n",
    "    test_size = round(params['dataset']['val_share']*supervised_values.shape[0])\n",
    "    train_size = supervised_values.shape[0]-test_size\n",
    "    train, test = supervised_values[0:train_size,:], supervised_values[train_size:,:]\n",
    "    if len(n_ahead)>0:\n",
    "        train, test = np.delete(train, n_ahead, axis = 1),np.delete(test, n_ahead, axis = 1)\n",
    "        \n",
    "    # feature scaling\n",
    "    scaler = scale_fit(train)\n",
    "    train_scaled = scale_transform(train, scaler)\n",
    "    test_scaled = scale_transform(test, scaler)\n",
    "    \n",
    "    # dump session\n",
    "    pickle_file = params['path_to_file']['path_to_pickle']+params['path_to_file']['pickle_name']\n",
    "    data = {'scaler': scaler, \n",
    "            'train_scaled': train_scaled, \n",
    "            'test_scaled': test_scaled, \n",
    "            'train': train, \n",
    "            'test': test,\n",
    "            'raw_values': raw_values}\n",
    "    with open(pickle_file, \"wb\") as f:\n",
    "        pickle.dump(data, f)\n",
    "    \n",
    "    return"
>>>>>>> bcc39e2312f4ea14b0cb2792f7897dcfb2100d61
   ]
  },
  {
   "cell_type": "code",
   "execution_count": 42,
   "metadata": {},
   "outputs": [],
   "source": [
    "n_shift = 24\n",
    "\n",
    "supervised = timeseries_to_supervised(diff_values, n_shift)\n",
    "supervised_values = supervised.values"
   ]
  },
  {
   "cell_type": "code",
   "execution_count": 43,
   "metadata": {},
   "outputs": [],
   "source": [
<<<<<<< HEAD
    "test_size = 8000\n",
    "\n",
    "n_ahead = []\n",
    "\n",
    "train_size = len(supervised_values)-test_size\n",
    "train, test = supervised_values[0:train_size,:], supervised_values[train_size:,:]\n",
    "if len(n_ahead)>0:\n",
    "    train, test = np.delete(train, n_ahead, axis = 1),np.delete(test, n_ahead, axis = 1)"
=======
    "### LSTM MODEL\n",
    "\n",
    "1. Load data coming from the ETL process\n",
    "2. fit an LSTM (or an ensemble of models)"
>>>>>>> bcc39e2312f4ea14b0cb2792f7897dcfb2100d61
   ]
  },
  {
   "cell_type": "code",
<<<<<<< HEAD
   "execution_count": 44,
=======
   "execution_count": 27,
>>>>>>> bcc39e2312f4ea14b0cb2792f7897dcfb2100d61
   "metadata": {},
   "outputs": [],
   "source": [
    "scaler, train_scaled, test_scaled = scale(train, test)"
   ]
  },
  {
   "cell_type": "code",
<<<<<<< HEAD
   "execution_count": 45,
   "metadata": {},
   "outputs": [
    {
=======
   "execution_count": 28,
   "metadata": {},
   "outputs": [
    {
     "data": {
      "application/vnd.jupyter.widget-view+json": {
       "model_id": "b56edb48be0f4e52a1cd974a11631697",
       "version_major": 2,
       "version_minor": 0
      },
      "text/plain": [
       "HBox(children=(IntProgress(value=0, max=1), HTML(value='')))"
      ]
     },
     "metadata": {},
     "output_type": "display_data"
    },
    {
     "data": {
      "application/vnd.jupyter.widget-view+json": {
       "model_id": "",
       "version_major": 2,
       "version_minor": 0
      },
      "text/plain": [
       "HBox(children=(IntProgress(value=0, max=5), HTML(value='')))"
      ]
     },
     "metadata": {},
     "output_type": "display_data"
    },
    {
>>>>>>> bcc39e2312f4ea14b0cb2792f7897dcfb2100d61
     "name": "stdout",
     "output_type": "stream",
     "text": [
      "Train on 18279 samples, validate on 8000 samples\n",
      "Epoch 1/1\n",
      "18279/18279 [==============================] - 26s 1ms/step - loss: 0.0013 - val_loss: 9.4895e-04\n",
      "Train on 18279 samples, validate on 8000 samples\n",
      "Epoch 1/1\n",
      "18279/18279 [==============================] - 23s 1ms/step - loss: 0.0010 - val_loss: 9.3054e-04\n",
      "Train on 18279 samples, validate on 8000 samples\n",
      "Epoch 1/1\n",
      "18279/18279 [==============================] - 27s 1ms/step - loss: 9.9738e-04 - val_loss: 9.2714e-04\n",
      "Train on 18279 samples, validate on 8000 samples\n",
      "Epoch 1/1\n",
      "18279/18279 [==============================] - 25s 1ms/step - loss: 9.7951e-04 - val_loss: 9.2588e-04\n",
      "Train on 18279 samples, validate on 8000 samples\n",
      "Epoch 1/1\n",
      "18279/18279 [==============================] - 26s 1ms/step - loss: 9.6860e-04 - val_loss: 9.2378e-04\n"
     ]
    }
   ],
   "source": [
    "# fit the model\n",
    "lstm_model = fit_lstm(train_scaled,test_scaled, 1, 5, 2)\n",
    "# forecast the entire training dataset to build up state for forecasting\n",
    "train_reshaped = train_scaled[:, 0].reshape(len(train_scaled), 1, 1)\n",
    "#lstm_model.predict(train_reshaped, batch_size=1)"
   ]
  },
  {
   "cell_type": "markdown",
   "metadata": {},
   "source": [
<<<<<<< HEAD
    "#### MODEL PERFORMANCE "
=======
    "### MODEL PERFORMANCE \n",
    "\n",
    "1. Predict electricity price (validation set)\n",
    "2. Use performance metrics to assess model behaviour"
>>>>>>> bcc39e2312f4ea14b0cb2792f7897dcfb2100d61
   ]
  },
  {
   "cell_type": "code",
   "execution_count": 46,
<<<<<<< HEAD
   "metadata": {},
   "outputs": [
    {
=======
   "metadata": {},
   "outputs": [],
   "source": [
    "def make_predictions(lstm_model,test_scaled,scaler,raw_values):\n",
    "    \"\"\"\n",
    "    This function makes prediction on a test dataset using a fitted LSTM model\n",
    "    \n",
    "    Args:\n",
    "        1) lstm_model -> fitted model\n",
    "        2) test_scaled -> test dataset already preprocessed and scaled\n",
    "        3) scaler --> required to unscale model input data\n",
    "        4) raw_values --> required to undo time difference\n",
    "    Out:\n",
    "        1) predictions -> model forecasted values for the testset\n",
    "    \n",
    "    \"\"\"\n",
    "    \n",
    "    # walk-forward validation on the test data\n",
    "    predictions = list() \n",
    "    for i in range(len(test_scaled)):\n",
    "        # make one-step forecast\n",
    "        X, y = test_scaled[i, 0:-1], test_scaled[i, -1]\n",
    "        yhat = forecast_lstm(lstm_model, 1, X)\n",
    "        # invert scaling\n",
    "        yhat = invert_scale(scaler, X, yhat)\n",
    "        # invert differencing\n",
    "        yhat = inverse_difference(raw_values, yhat, len(test_scaled)+1-i)\n",
    "        # store forecast\n",
    "        predictions.append(yhat)\n",
    "    return predictions"
   ]
  },
  {
   "cell_type": "code",
   "execution_count": 45,
   "metadata": {},
   "outputs": [],
   "source": [
    "def evaluate_model_performance(lstm_ensemble, test_scaled, raw_values, scaler):\n",
    "    \"\"\"\n",
    "    This function estimates model performance, calculating relevant metrics\n",
    "    \n",
    "    Args:\n",
    "        1) lstm_ensemble --> a list of models to be evaluated\n",
    "        2) test_scaled --> test set to be used for metrics calculation\n",
    "        3) raw_values --> inital unscaled dataset for benchmark\n",
    "        4) scaler --> fitted scaler (necessary to unscale model input data)\n",
    "        \n",
    "    Out:\n",
    "        1) rmse_ensemble --> a list of RMSE (one for each model)\n",
    "        2) mae_ensemble --> a list of MAE (one for each model)\n",
    "        3) predictions_ensemble --> a list of predicted values (one for each model)\n",
    "    \n",
    "    This function supports the evaluation of a single model (one-item list)\n",
    "    \n",
    "    \"\"\"\n",
    "    rmse_ensemble = list()\n",
    "    mae_ensemble = list()\n",
    "    predictions_ensemble = list()\n",
    "    test_samples = test_scaled.shape[0]\n",
    "    for i in tqdm_notebook(range(len(lstm_ensemble))):\n",
    "        predictions = make_predictions(lstm_ensemble[i],test_scaled, scaler,raw_values)\n",
    "        predictions_ensemble.append(predictions)\n",
    "        rmse = sqrt(mean_squared_error(raw_values[-test_samples:], predictions))\n",
    "        rmse_ensemble.append(rmse)\n",
    "        mae = mean_absolute_error(raw_values[-test_samples:], predictions)\n",
    "        mae_ensemble.append(mae)\n",
    "    return rmse_ensemble, mae_ensemble, predictions_ensemble    "
   ]
  },
  {
   "cell_type": "code",
   "execution_count": 42,
   "metadata": {},
   "outputs": [
    {
     "data": {
      "application/vnd.jupyter.widget-view+json": {
       "model_id": "e847190c59a4411c9aad135c3cafaac2",
       "version_major": 2,
       "version_minor": 0
      },
      "text/plain": [
       "HBox(children=(IntProgress(value=0, max=1), HTML(value='')))"
      ]
     },
     "metadata": {},
     "output_type": "display_data"
    },
    {
>>>>>>> bcc39e2312f4ea14b0cb2792f7897dcfb2100d61
     "name": "stdout",
     "output_type": "stream",
     "text": [
      "Predicted=213.761628, Expected=216.010000\n",
      "Predicted=180.504432, Expected=181.140000\n",
      "Predicted=165.964445, Expected=155.700000\n",
      "Predicted=70.787045, Expected=69.960000\n",
      "Predicted=60.761024, Expected=58.580000\n",
      "Predicted=93.112326, Expected=83.590000\n",
      "Predicted=156.118457, Expected=158.880000\n",
      "Predicted=212.988226, Expected=222.000000\n"
     ]
    }
   ],
   "source": [
<<<<<<< HEAD
    "# walk-forward validation on the test data\n",
    "predictions = list()\n",
    "n_lag = n_shift \n",
    "for i in range(len(test_scaled)):\n",
    "    # make one-step forecast\n",
    "    X, y = test_scaled[i, 0:-1], test_scaled[i, -1]\n",
    "    yhat = forecast_lstm(lstm_model, 1, X)\n",
    "    # invert scaling\n",
    "    yhat = invert_scale(scaler, X, yhat)\n",
    "    # invert differencing\n",
    "    yhat = inverse_difference(raw_values, yhat, len(test_scaled)+1-i)\n",
    "    # store forecast\n",
    "    predictions.append(yhat)\n",
    "    expected = raw_values.iloc[len(train) + i + 1]\n",
    "    if (i % 1000 == 0):\n",
    "        print('Predicted=%f, Expected=%f' % (yhat, expected))"
=======
    "rmse_ensemble, mae_ensemble, predictions_ensemble = evaluate_model_performance(lstm_ensemble, \n",
    "                                                                               saved_data['test_scaled'], \n",
    "                                                                               saved_data['raw_values'],\n",
    "                                                                               saved_data['scaler'])"
>>>>>>> bcc39e2312f4ea14b0cb2792f7897dcfb2100d61
   ]
  },
  {
   "cell_type": "code",
   "execution_count": 47,
<<<<<<< HEAD
=======
   "metadata": {},
   "outputs": [],
   "source": [
    "def print_performance_metrics(rmse_ensemble,mae_ensemble):\n",
    "    if len(rmse_ensemble)==len(mae_ensemble):\n",
    "        if len(rmse_ensemble)>1:\n",
    "            rmse = np.mean(np.array(rmse_ensemble))\n",
    "            std_rmse = np.std(np.array(rmse_ensemble))\n",
    "            mae = np.mean(np.array(mae_ensemble))\n",
    "            std_mae = np.std(np.array(mae_ensemble))\n",
    "            msg = 'AVG RMSE: {} STD RMSE: {} \\n AVG MAE: {} STD MAE: {}'\n",
    "            print(msg.format(rmse,std_rmse,mae,std_mae))\n",
    "        else:\n",
    "            msg = 'RMSE: {} \\n MAE: {}'\n",
    "            rmse = rmse_ensemble[0]\n",
    "            mae = mae_ensemble[0]\n",
    "            print(msg.format(rmse,mae))\n",
    "    else:\n",
    "        print('Array size mismatch!')\n",
    "    return rmse, mae"
   ]
  },
  {
   "cell_type": "code",
   "execution_count": 44,
>>>>>>> bcc39e2312f4ea14b0cb2792f7897dcfb2100d61
   "metadata": {},
   "outputs": [
    {
     "name": "stdout",
     "output_type": "stream",
     "text": [
<<<<<<< HEAD
      "Test RMSE: 9.539\n",
      "Test MAE: 3.703\n"
=======
      "RMSE: 10.038014829724492 \n",
      " MAE: 3.978810666496377\n"
>>>>>>> bcc39e2312f4ea14b0cb2792f7897dcfb2100d61
     ]
    }
   ],
   "source": [
<<<<<<< HEAD
    "# report performance\n",
    "rmse = sqrt(mean_squared_error(raw_values[-test_size:], predictions))\n",
    "mae = mean_absolute_error(raw_values[-test_size:], predictions)\n",
    "print('Test RMSE: %.3f' % rmse)\n",
    "print('Test MAE: %.3f' % mae)"
=======
    "rmse, mae =  print_performance_metrics(rmse_ensemble,mae_ensemble)"
   ]
  },
  {
   "cell_type": "markdown",
   "metadata": {},
   "source": [
    "### DATA VISUALIZATION\n",
    "\n",
    "Show examples of model output"
>>>>>>> bcc39e2312f4ea14b0cb2792f7897dcfb2100d61
   ]
  },
  {
   "cell_type": "code",
   "execution_count": 48,
   "metadata": {},
   "outputs": [
    {
     "data": {
      "image/png": "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\n",
      "text/plain": [
       "<Figure size 1080x504 with 1 Axes>"
      ]
     },
     "metadata": {
      "needs_background": "light"
     },
     "output_type": "display_data"
    }
   ],
   "source": [
    "# line plot of observed vs predicted\n",
    "pyplot.figure(figsize=(15,7))\n",
    "subset= 200\n",
    "pyplot.plot(range(subset),raw_values[-subset:],color = 'b')\n",
    "pyplot.plot(range(subset),predictions[-subset:], color = 'r')\n",
    "pyplot.show()"
   ]
  },
  {
<<<<<<< HEAD
=======
   "cell_type": "markdown",
   "metadata": {},
   "source": [
    "## FORECAST HORIZON IMPACT ON MODEL PERFORMANCE"
   ]
  },
  {
   "cell_type": "code",
   "execution_count": 52,
   "metadata": {},
   "outputs": [],
   "source": [
    "t_try = 24\n",
    "rmse_list = list()\n",
    "mae_list = list()"
   ]
  },
  {
   "cell_type": "code",
   "execution_count": 56,
   "metadata": {},
   "outputs": [
    {
     "data": {
      "application/vnd.jupyter.widget-view+json": {
       "model_id": "0a2160fe79204f7988bbc2b16cf089a8",
       "version_major": 2,
       "version_minor": 0
      },
      "text/plain": [
       "HBox(children=(IntProgress(value=0, max=24), HTML(value='')))"
      ]
     },
     "metadata": {},
     "output_type": "display_data"
    },
    {
     "data": {
      "application/vnd.jupyter.widget-view+json": {
       "model_id": "e5ee2cc44c53438686cb6755ac4e6ec8",
       "version_major": 2,
       "version_minor": 0
      },
      "text/plain": [
       "HBox(children=(IntProgress(value=0, max=1), HTML(value='')))"
      ]
     },
     "metadata": {},
     "output_type": "display_data"
    },
    {
     "data": {
      "application/vnd.jupyter.widget-view+json": {
       "model_id": "4d3fd6318e264614a44adcd2c48f367c",
       "version_major": 2,
       "version_minor": 0
      },
      "text/plain": [
       "HBox(children=(IntProgress(value=0, max=5), HTML(value='')))"
      ]
     },
     "metadata": {},
     "output_type": "display_data"
    },
    {
     "ename": "KeyboardInterrupt",
     "evalue": "",
     "output_type": "error",
     "traceback": [
      "\u001b[1;31m---------------------------------------------------------------------------\u001b[0m",
      "\u001b[1;31mKeyboardInterrupt\u001b[0m                         Traceback (most recent call last)",
      "\u001b[1;32m<ipython-input-56-cb045d5d0352>\u001b[0m in \u001b[0;36m<module>\u001b[1;34m()\u001b[0m\n\u001b[0;32m     16\u001b[0m                               \u001b[0mparams\u001b[0m\u001b[1;33m[\u001b[0m\u001b[1;34m'arch'\u001b[0m\u001b[1;33m]\u001b[0m\u001b[1;33m[\u001b[0m\u001b[1;34m'batch_size'\u001b[0m\u001b[1;33m]\u001b[0m\u001b[1;33m,\u001b[0m\u001b[1;33m\u001b[0m\u001b[0m\n\u001b[0;32m     17\u001b[0m                               \u001b[0mparams\u001b[0m\u001b[1;33m[\u001b[0m\u001b[1;34m'arch'\u001b[0m\u001b[1;33m]\u001b[0m\u001b[1;33m[\u001b[0m\u001b[1;34m'epochs'\u001b[0m\u001b[1;33m]\u001b[0m\u001b[1;33m,\u001b[0m\u001b[1;33m\u001b[0m\u001b[0m\n\u001b[1;32m---> 18\u001b[1;33m                               params['arch']['neurons'])\n\u001b[0m\u001b[0;32m     19\u001b[0m         \u001b[0mlstm_ensemble\u001b[0m\u001b[1;33m.\u001b[0m\u001b[0mappend\u001b[0m\u001b[1;33m(\u001b[0m\u001b[0mlstm_model\u001b[0m\u001b[1;33m)\u001b[0m\u001b[1;33m\u001b[0m\u001b[0m\n\u001b[0;32m     20\u001b[0m \u001b[1;33m\u001b[0m\u001b[0m\n",
      "\u001b[1;32m<ipython-input-3-8fc2fbfb19b9>\u001b[0m in \u001b[0;36mfit_lstm\u001b[1;34m(train, val, batch_size, nb_epoch, neurons)\u001b[0m\n\u001b[0;32m    141\u001b[0m     \u001b[0mmodel\u001b[0m\u001b[1;33m.\u001b[0m\u001b[0mcompile\u001b[0m\u001b[1;33m(\u001b[0m\u001b[0mloss\u001b[0m\u001b[1;33m=\u001b[0m\u001b[1;34m'mean_squared_error'\u001b[0m\u001b[1;33m,\u001b[0m \u001b[0moptimizer\u001b[0m\u001b[1;33m=\u001b[0m\u001b[1;34m'adam'\u001b[0m\u001b[1;33m)\u001b[0m\u001b[1;33m\u001b[0m\u001b[0m\n\u001b[0;32m    142\u001b[0m     \u001b[1;32mfor\u001b[0m \u001b[0mi\u001b[0m \u001b[1;32min\u001b[0m \u001b[0mtqdm_notebook\u001b[0m\u001b[1;33m(\u001b[0m\u001b[0mrange\u001b[0m\u001b[1;33m(\u001b[0m\u001b[0mnb_epoch\u001b[0m\u001b[1;33m)\u001b[0m\u001b[1;33m,\u001b[0m\u001b[0mleave\u001b[0m\u001b[1;33m=\u001b[0m\u001b[1;32mFalse\u001b[0m\u001b[1;33m)\u001b[0m\u001b[1;33m:\u001b[0m\u001b[1;33m\u001b[0m\u001b[0m\n\u001b[1;32m--> 143\u001b[1;33m         \u001b[0mmodel\u001b[0m\u001b[1;33m.\u001b[0m\u001b[0mfit\u001b[0m\u001b[1;33m(\u001b[0m\u001b[0mX\u001b[0m\u001b[1;33m,\u001b[0m \u001b[0my\u001b[0m\u001b[1;33m,\u001b[0m \u001b[0mepochs\u001b[0m\u001b[1;33m=\u001b[0m\u001b[1;36m1\u001b[0m\u001b[1;33m,\u001b[0m \u001b[0mbatch_size\u001b[0m\u001b[1;33m=\u001b[0m\u001b[0mbatch_size\u001b[0m\u001b[1;33m,\u001b[0m \u001b[0mverbose\u001b[0m\u001b[1;33m=\u001b[0m\u001b[1;36m0\u001b[0m\u001b[1;33m,\u001b[0m \u001b[0mshuffle\u001b[0m\u001b[1;33m=\u001b[0m\u001b[1;32mFalse\u001b[0m\u001b[1;33m,\u001b[0m \u001b[0mvalidation_data\u001b[0m\u001b[1;33m=\u001b[0m\u001b[1;33m(\u001b[0m\u001b[0mX_val\u001b[0m\u001b[1;33m,\u001b[0m\u001b[0my_val\u001b[0m\u001b[1;33m)\u001b[0m\u001b[1;33m)\u001b[0m\u001b[1;33m\u001b[0m\u001b[0m\n\u001b[0m\u001b[0;32m    144\u001b[0m         \u001b[0mmodel\u001b[0m\u001b[1;33m.\u001b[0m\u001b[0mreset_states\u001b[0m\u001b[1;33m(\u001b[0m\u001b[1;33m)\u001b[0m\u001b[1;33m\u001b[0m\u001b[0m\n\u001b[0;32m    145\u001b[0m     \u001b[1;32mreturn\u001b[0m \u001b[0mmodel\u001b[0m\u001b[1;33m\u001b[0m\u001b[0m\n",
      "\u001b[1;32mC:\\ProgramData\\Anaconda3\\lib\\site-packages\\keras\\engine\\training.py\u001b[0m in \u001b[0;36mfit\u001b[1;34m(self, x, y, batch_size, epochs, verbose, callbacks, validation_split, validation_data, shuffle, class_weight, sample_weight, initial_epoch, steps_per_epoch, validation_steps, **kwargs)\u001b[0m\n\u001b[0;32m   1040\u001b[0m                                         \u001b[0minitial_epoch\u001b[0m\u001b[1;33m=\u001b[0m\u001b[0minitial_epoch\u001b[0m\u001b[1;33m,\u001b[0m\u001b[1;33m\u001b[0m\u001b[0m\n\u001b[0;32m   1041\u001b[0m                                         \u001b[0msteps_per_epoch\u001b[0m\u001b[1;33m=\u001b[0m\u001b[0msteps_per_epoch\u001b[0m\u001b[1;33m,\u001b[0m\u001b[1;33m\u001b[0m\u001b[0m\n\u001b[1;32m-> 1042\u001b[1;33m                                         validation_steps=validation_steps)\n\u001b[0m\u001b[0;32m   1043\u001b[0m \u001b[1;33m\u001b[0m\u001b[0m\n\u001b[0;32m   1044\u001b[0m     def evaluate(self, x=None, y=None,\n",
      "\u001b[1;32mC:\\ProgramData\\Anaconda3\\lib\\site-packages\\keras\\engine\\training_arrays.py\u001b[0m in \u001b[0;36mfit_loop\u001b[1;34m(model, f, ins, out_labels, batch_size, epochs, verbose, callbacks, val_f, val_ins, shuffle, callback_metrics, initial_epoch, steps_per_epoch, validation_steps)\u001b[0m\n\u001b[0;32m    193\u001b[0m                 \u001b[0mbatch_logs\u001b[0m\u001b[1;33m[\u001b[0m\u001b[1;34m'batch'\u001b[0m\u001b[1;33m]\u001b[0m \u001b[1;33m=\u001b[0m \u001b[0mbatch_index\u001b[0m\u001b[1;33m\u001b[0m\u001b[0m\n\u001b[0;32m    194\u001b[0m                 \u001b[0mbatch_logs\u001b[0m\u001b[1;33m[\u001b[0m\u001b[1;34m'size'\u001b[0m\u001b[1;33m]\u001b[0m \u001b[1;33m=\u001b[0m \u001b[0mlen\u001b[0m\u001b[1;33m(\u001b[0m\u001b[0mbatch_ids\u001b[0m\u001b[1;33m)\u001b[0m\u001b[1;33m\u001b[0m\u001b[0m\n\u001b[1;32m--> 195\u001b[1;33m                 \u001b[0mcallbacks\u001b[0m\u001b[1;33m.\u001b[0m\u001b[0mon_batch_begin\u001b[0m\u001b[1;33m(\u001b[0m\u001b[0mbatch_index\u001b[0m\u001b[1;33m,\u001b[0m \u001b[0mbatch_logs\u001b[0m\u001b[1;33m)\u001b[0m\u001b[1;33m\u001b[0m\u001b[0m\n\u001b[0m\u001b[0;32m    196\u001b[0m                 \u001b[1;32mfor\u001b[0m \u001b[0mi\u001b[0m \u001b[1;32min\u001b[0m \u001b[0mindices_for_conversion_to_dense\u001b[0m\u001b[1;33m:\u001b[0m\u001b[1;33m\u001b[0m\u001b[0m\n\u001b[0;32m    197\u001b[0m                     \u001b[0mins_batch\u001b[0m\u001b[1;33m[\u001b[0m\u001b[0mi\u001b[0m\u001b[1;33m]\u001b[0m \u001b[1;33m=\u001b[0m \u001b[0mins_batch\u001b[0m\u001b[1;33m[\u001b[0m\u001b[0mi\u001b[0m\u001b[1;33m]\u001b[0m\u001b[1;33m.\u001b[0m\u001b[0mtoarray\u001b[0m\u001b[1;33m(\u001b[0m\u001b[1;33m)\u001b[0m\u001b[1;33m\u001b[0m\u001b[0m\n",
      "\u001b[1;32mC:\\ProgramData\\Anaconda3\\lib\\site-packages\\keras\\callbacks.py\u001b[0m in \u001b[0;36mon_batch_begin\u001b[1;34m(self, batch, logs)\u001b[0m\n\u001b[0;32m     89\u001b[0m             \u001b[0mcallback\u001b[0m\u001b[1;33m.\u001b[0m\u001b[0mon_batch_begin\u001b[0m\u001b[1;33m(\u001b[0m\u001b[0mbatch\u001b[0m\u001b[1;33m,\u001b[0m \u001b[0mlogs\u001b[0m\u001b[1;33m)\u001b[0m\u001b[1;33m\u001b[0m\u001b[0m\n\u001b[0;32m     90\u001b[0m         \u001b[0mself\u001b[0m\u001b[1;33m.\u001b[0m\u001b[0m_delta_ts_batch_begin\u001b[0m\u001b[1;33m.\u001b[0m\u001b[0mappend\u001b[0m\u001b[1;33m(\u001b[0m\u001b[0mtime\u001b[0m\u001b[1;33m.\u001b[0m\u001b[0mtime\u001b[0m\u001b[1;33m(\u001b[0m\u001b[1;33m)\u001b[0m \u001b[1;33m-\u001b[0m \u001b[0mt_before_callbacks\u001b[0m\u001b[1;33m)\u001b[0m\u001b[1;33m\u001b[0m\u001b[0m\n\u001b[1;32m---> 91\u001b[1;33m         \u001b[0mdelta_t_median\u001b[0m \u001b[1;33m=\u001b[0m \u001b[0mnp\u001b[0m\u001b[1;33m.\u001b[0m\u001b[0mmedian\u001b[0m\u001b[1;33m(\u001b[0m\u001b[0mself\u001b[0m\u001b[1;33m.\u001b[0m\u001b[0m_delta_ts_batch_begin\u001b[0m\u001b[1;33m)\u001b[0m\u001b[1;33m\u001b[0m\u001b[0m\n\u001b[0m\u001b[0;32m     92\u001b[0m         if (self._delta_t_batch > 0. and\n\u001b[0;32m     93\u001b[0m            \u001b[0mdelta_t_median\u001b[0m \u001b[1;33m>\u001b[0m \u001b[1;36m0.95\u001b[0m \u001b[1;33m*\u001b[0m \u001b[0mself\u001b[0m\u001b[1;33m.\u001b[0m\u001b[0m_delta_t_batch\u001b[0m \u001b[1;32mand\u001b[0m\u001b[1;33m\u001b[0m\u001b[0m\n",
      "\u001b[1;32mC:\\ProgramData\\Anaconda3\\lib\\site-packages\\numpy\\lib\\function_base.py\u001b[0m in \u001b[0;36mmedian\u001b[1;34m(a, axis, out, overwrite_input, keepdims)\u001b[0m\n\u001b[0;32m   4117\u001b[0m     \"\"\"\n\u001b[0;32m   4118\u001b[0m     r, k = _ureduce(a, func=_median, axis=axis, out=out,\n\u001b[1;32m-> 4119\u001b[1;33m                     overwrite_input=overwrite_input)\n\u001b[0m\u001b[0;32m   4120\u001b[0m     \u001b[1;32mif\u001b[0m \u001b[0mkeepdims\u001b[0m\u001b[1;33m:\u001b[0m\u001b[1;33m\u001b[0m\u001b[0m\n\u001b[0;32m   4121\u001b[0m         \u001b[1;32mreturn\u001b[0m \u001b[0mr\u001b[0m\u001b[1;33m.\u001b[0m\u001b[0mreshape\u001b[0m\u001b[1;33m(\u001b[0m\u001b[0mk\u001b[0m\u001b[1;33m)\u001b[0m\u001b[1;33m\u001b[0m\u001b[0m\n",
      "\u001b[1;32mC:\\ProgramData\\Anaconda3\\lib\\site-packages\\numpy\\lib\\function_base.py\u001b[0m in \u001b[0;36m_ureduce\u001b[1;34m(a, func, **kwargs)\u001b[0m\n\u001b[0;32m   4031\u001b[0m         \u001b[0mkeepdim\u001b[0m \u001b[1;33m=\u001b[0m \u001b[1;33m(\u001b[0m\u001b[1;36m1\u001b[0m\u001b[1;33m,\u001b[0m\u001b[1;33m)\u001b[0m \u001b[1;33m*\u001b[0m \u001b[0ma\u001b[0m\u001b[1;33m.\u001b[0m\u001b[0mndim\u001b[0m\u001b[1;33m\u001b[0m\u001b[0m\n\u001b[0;32m   4032\u001b[0m \u001b[1;33m\u001b[0m\u001b[0m\n\u001b[1;32m-> 4033\u001b[1;33m     \u001b[0mr\u001b[0m \u001b[1;33m=\u001b[0m \u001b[0mfunc\u001b[0m\u001b[1;33m(\u001b[0m\u001b[0ma\u001b[0m\u001b[1;33m,\u001b[0m \u001b[1;33m**\u001b[0m\u001b[0mkwargs\u001b[0m\u001b[1;33m)\u001b[0m\u001b[1;33m\u001b[0m\u001b[0m\n\u001b[0m\u001b[0;32m   4034\u001b[0m     \u001b[1;32mreturn\u001b[0m \u001b[0mr\u001b[0m\u001b[1;33m,\u001b[0m \u001b[0mkeepdim\u001b[0m\u001b[1;33m\u001b[0m\u001b[0m\n\u001b[0;32m   4035\u001b[0m \u001b[1;33m\u001b[0m\u001b[0m\n",
      "\u001b[1;32mC:\\ProgramData\\Anaconda3\\lib\\site-packages\\numpy\\lib\\function_base.py\u001b[0m in \u001b[0;36m_median\u001b[1;34m(a, axis, out, overwrite_input)\u001b[0m\n\u001b[0;32m   4150\u001b[0m             \u001b[0mpart\u001b[0m \u001b[1;33m=\u001b[0m \u001b[0ma\u001b[0m\u001b[1;33m\u001b[0m\u001b[0m\n\u001b[0;32m   4151\u001b[0m     \u001b[1;32melse\u001b[0m\u001b[1;33m:\u001b[0m\u001b[1;33m\u001b[0m\u001b[0m\n\u001b[1;32m-> 4152\u001b[1;33m         \u001b[0mpart\u001b[0m \u001b[1;33m=\u001b[0m \u001b[0mpartition\u001b[0m\u001b[1;33m(\u001b[0m\u001b[0ma\u001b[0m\u001b[1;33m,\u001b[0m \u001b[0mkth\u001b[0m\u001b[1;33m,\u001b[0m \u001b[0maxis\u001b[0m\u001b[1;33m=\u001b[0m\u001b[0maxis\u001b[0m\u001b[1;33m)\u001b[0m\u001b[1;33m\u001b[0m\u001b[0m\n\u001b[0m\u001b[0;32m   4153\u001b[0m \u001b[1;33m\u001b[0m\u001b[0m\n\u001b[0;32m   4154\u001b[0m     \u001b[1;32mif\u001b[0m \u001b[0mpart\u001b[0m\u001b[1;33m.\u001b[0m\u001b[0mshape\u001b[0m \u001b[1;33m==\u001b[0m \u001b[1;33m(\u001b[0m\u001b[1;33m)\u001b[0m\u001b[1;33m:\u001b[0m\u001b[1;33m\u001b[0m\u001b[0m\n",
      "\u001b[1;32mC:\\ProgramData\\Anaconda3\\lib\\site-packages\\numpy\\core\\fromnumeric.py\u001b[0m in \u001b[0;36mpartition\u001b[1;34m(a, kth, axis, kind, order)\u001b[0m\n\u001b[0;32m    662\u001b[0m     \u001b[1;32melse\u001b[0m\u001b[1;33m:\u001b[0m\u001b[1;33m\u001b[0m\u001b[0m\n\u001b[0;32m    663\u001b[0m         \u001b[0ma\u001b[0m \u001b[1;33m=\u001b[0m \u001b[0masanyarray\u001b[0m\u001b[1;33m(\u001b[0m\u001b[0ma\u001b[0m\u001b[1;33m)\u001b[0m\u001b[1;33m.\u001b[0m\u001b[0mcopy\u001b[0m\u001b[1;33m(\u001b[0m\u001b[0morder\u001b[0m\u001b[1;33m=\u001b[0m\u001b[1;34m\"K\"\u001b[0m\u001b[1;33m)\u001b[0m\u001b[1;33m\u001b[0m\u001b[0m\n\u001b[1;32m--> 664\u001b[1;33m     \u001b[0ma\u001b[0m\u001b[1;33m.\u001b[0m\u001b[0mpartition\u001b[0m\u001b[1;33m(\u001b[0m\u001b[0mkth\u001b[0m\u001b[1;33m,\u001b[0m \u001b[0maxis\u001b[0m\u001b[1;33m=\u001b[0m\u001b[0maxis\u001b[0m\u001b[1;33m,\u001b[0m \u001b[0mkind\u001b[0m\u001b[1;33m=\u001b[0m\u001b[0mkind\u001b[0m\u001b[1;33m,\u001b[0m \u001b[0morder\u001b[0m\u001b[1;33m=\u001b[0m\u001b[0morder\u001b[0m\u001b[1;33m)\u001b[0m\u001b[1;33m\u001b[0m\u001b[0m\n\u001b[0m\u001b[0;32m    665\u001b[0m     \u001b[1;32mreturn\u001b[0m \u001b[0ma\u001b[0m\u001b[1;33m\u001b[0m\u001b[0m\n\u001b[0;32m    666\u001b[0m \u001b[1;33m\u001b[0m\u001b[0m\n",
      "\u001b[1;31mKeyboardInterrupt\u001b[0m: "
     ]
    }
   ],
   "source": [
    "for t in tqdm_notebook(range(t_try)):\n",
    "    \n",
    "    params['dataset']['time_ahead'] = t\n",
    "\n",
    "    etl_pipeline(params)\n",
    "\n",
    "    pickle_file = params['path_to_file']['path_to_pickle']+params['path_to_file']['pickle_name']\n",
    "    with open(pickle_file, \"rb\") as f:\n",
    "        saved_data = pickle.load(f)\n",
    "    \n",
    "    # fit the model\n",
    "    lstm_ensemble = list()\n",
    "    for n in tqdm_notebook(range(params['arch']['n_ensemble'])):\n",
    "        lstm_model = fit_lstm(saved_data['train_scaled'], \n",
    "                              saved_data['test_scaled'], \n",
    "                              params['arch']['batch_size'], \n",
    "                              params['arch']['epochs'], \n",
    "                              params['arch']['neurons'])\n",
    "        lstm_ensemble.append(lstm_model)\n",
    "\n",
    "    # validation set\n",
    "    rmse_ensemble, mae_ensemble, predictions_ensemble = evaluate_model_performance(lstm_ensemble, \n",
    "                                                                                   saved_data['test_scaled'], \n",
    "                                                                                   saved_data['raw_values'],\n",
    "                                                                                   saved_data['scaler'])\n",
    "\n",
    "    rmse, mae =  print_performance_metrics(rmse_ensemble,mae_ensemble)\n",
    "    \n",
    "    msg = 'model: time lag {}h, RMSE: {},MAE: {}'\n",
    "    print(msg.format(t, rmse, mae))\n",
    "    rmse_list.append(rmse)\n",
    "    mae_list.append(mae)"
   ]
  },
  {
   "cell_type": "code",
   "execution_count": 57,
   "metadata": {},
   "outputs": [
    {
     "data": {
      "text/html": [
       "<div>\n",
       "<style scoped>\n",
       "    .dataframe tbody tr th:only-of-type {\n",
       "        vertical-align: middle;\n",
       "    }\n",
       "\n",
       "    .dataframe tbody tr th {\n",
       "        vertical-align: top;\n",
       "    }\n",
       "\n",
       "    .dataframe thead th {\n",
       "        text-align: right;\n",
       "    }\n",
       "</style>\n",
       "<table border=\"1\" class=\"dataframe\">\n",
       "  <thead>\n",
       "    <tr style=\"text-align: right;\">\n",
       "      <th></th>\n",
       "      <th>lag</th>\n",
       "      <th>rmse</th>\n",
       "      <th>mae</th>\n",
       "    </tr>\n",
       "  </thead>\n",
       "  <tbody>\n",
       "    <tr>\n",
       "      <th>0</th>\n",
       "      <td>0</td>\n",
       "      <td>11.837159</td>\n",
       "      <td>4.340716</td>\n",
       "    </tr>\n",
       "    <tr>\n",
       "      <th>1</th>\n",
       "      <td>1</td>\n",
       "      <td>9.916233</td>\n",
       "      <td>3.991398</td>\n",
       "    </tr>\n",
       "    <tr>\n",
       "      <th>2</th>\n",
       "      <td>2</td>\n",
       "      <td>12.104911</td>\n",
       "      <td>5.798496</td>\n",
       "    </tr>\n",
       "    <tr>\n",
       "      <th>3</th>\n",
       "      <td>3</td>\n",
       "      <td>15.397185</td>\n",
       "      <td>8.228225</td>\n",
       "    </tr>\n",
       "    <tr>\n",
       "      <th>4</th>\n",
       "      <td>4</td>\n",
       "      <td>17.348745</td>\n",
       "      <td>9.715158</td>\n",
       "    </tr>\n",
       "  </tbody>\n",
       "</table>\n",
       "</div>"
      ],
      "text/plain": [
       "   lag       rmse       mae\n",
       "0    0  11.837159  4.340716\n",
       "1    1   9.916233  3.991398\n",
       "2    2  12.104911  5.798496\n",
       "3    3  15.397185  8.228225\n",
       "4    4  17.348745  9.715158"
      ]
     },
     "execution_count": 57,
     "metadata": {},
     "output_type": "execute_result"
    }
   ],
   "source": [
    "df_lstm_performance = pd.DataFrame({'lag':range(24),'rmse':rmse_list,'mae':mae_list})\n",
    "df_lstm_performance.head()"
   ]
  },
  {
   "cell_type": "code",
   "execution_count": 58,
   "metadata": {},
   "outputs": [],
   "source": [
    "results_pickle = params['path_to_file']['path_to_pickle']+'lstm_results.pkl'\n",
    "with open(results_pickle, \"wb\") as f:\n",
    "    pickle.dump(df_lstm_performance, f)"
   ]
  },
  {
>>>>>>> bcc39e2312f4ea14b0cb2792f7897dcfb2100d61
   "cell_type": "code",
   "execution_count": null,
   "metadata": {},
   "outputs": [],
   "source": []
  }
 ],
 "metadata": {
  "kernelspec": {
   "display_name": "Python 3",
   "language": "python",
   "name": "python3"
  },
  "language_info": {
   "codemirror_mode": {
    "name": "ipython",
    "version": 3
   },
   "file_extension": ".py",
   "mimetype": "text/x-python",
   "name": "python",
   "nbconvert_exporter": "python",
   "pygments_lexer": "ipython3",
   "version": "3.6.5"
  }
 },
 "nbformat": 4,
 "nbformat_minor": 2
}
