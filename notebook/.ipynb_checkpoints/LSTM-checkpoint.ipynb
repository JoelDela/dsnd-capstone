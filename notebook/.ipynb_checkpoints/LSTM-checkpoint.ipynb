{
 "cells": [
  {
   "cell_type": "markdown",
   "metadata": {},
   "source": [
    "## HOURLY ELECTRICITY PRICE FORECASTING MODEL\n",
    "\n",
    "**Scope**\n",
    "\n",
    "Develop a model based on LSTM Neural Networks for short-term electricity price forecasting.\n",
    "The model can be fitted on any kind of regional price data downloaded from the North Pool website.\n",
    "The baseline is a persistence model (explained in *BASELINE.ipynb* notebook). \n",
    "\n",
    "**Main Insights**\n",
    "* LSTM for Time Series proved to be a good approach for this use case\n",
    "* LSTM performance 2-5h ahead of actual market hour are far way better than persistence model performance"
   ]
  },
  {
   "cell_type": "markdown",
   "metadata": {},
   "source": [
    "### REQUIRED LIBRARIES"
   ]
  },
  {
   "cell_type": "code",
   "execution_count": 1,
   "metadata": {},
   "outputs": [
    {
     "name": "stderr",
     "output_type": "stream",
     "text": [
      "Using TensorFlow backend.\n"
     ]
    }
   ],
   "source": [
    "# Import required libraries\n",
    "from tqdm import tqdm_notebook\n",
    "import numpy as np\n",
    "import pandas as pd\n",
    "from pandas import DataFrame\n",
    "from pandas import Series\n",
    "from pandas import concat\n",
    "from pandas import read_csv\n",
    "from pandas import datetime\n",
    "from sklearn.metrics import mean_squared_error, mean_absolute_error\n",
    "from sklearn.preprocessing import MinMaxScaler\n",
    "from keras.models import Sequential\n",
    "from keras.layers import Dense\n",
    "from keras.layers import LSTM\n",
    "from math import sqrt\n",
    "from matplotlib import pyplot as plt\n",
    "import numpy\n",
    "import os\n",
    "import platform\n",
    "import pickle"
   ]
  },
  {
   "cell_type": "markdown",
   "metadata": {},
   "source": [
    "### REQUIRED FUNCTIONS\n",
    "\n",
    "##### LOADING DATA"
   ]
  },
  {
   "cell_type": "code",
   "execution_count": 2,
   "metadata": {},
   "outputs": [],
   "source": [
    "def load_data(params,years = ['2013','2014','2015','2016','2017']):\n",
    "    \"\"\"\n",
    "    This function extracts annual datasets of hourly electricity price (source North Pool).\n",
    "    \n",
    "    Args:\n",
    "        1) years -> list of dataset to be included in trainset and validationset\n",
    "    Out:\n",
    "        1) hourly electricity price dataset of the selected region\n",
    "    \"\"\"\n",
    "    mkt = params['mkt']\n",
    "    file_name_1 = params['path_to_file']['data_prefix']\n",
    "    file_name_2 = params['path_to_file']['data_suffix']\n",
    "    data_folder = params['path_to_file']['path_to_data']\n",
    "    if platform.system()=='Linux':\n",
    "        data_folder = os.getcwd().replace('notebook','data/')\n",
    "    else:\n",
    "        data_folder = os.getcwd().replace('notebook','data\\\\')\n",
    "    \n",
    "    all_data=[]\n",
    "    for year in years:\n",
    "        file_name_tot = data_folder + file_name_1 + year + file_name_2\n",
    "        all_data.append(pd.read_csv(file_name_tot,encoding = \"ISO-8859-1\",sep=';',decimal=','))\n",
    "    df = pd.concat(all_data, ignore_index=True,sort= True)\n",
    "    df = df[['datetime','Hours',mkt]]\n",
    "    return df"
   ]
  },
  {
   "cell_type": "markdown",
   "metadata": {},
   "source": [
    "##### LSTM PREPROCESSING FUNCTIONS"
   ]
  },
  {
   "cell_type": "code",
   "execution_count": 3,
   "metadata": {},
   "outputs": [],
   "source": [
    "def timeseries_to_supervised(data, lag=1):\n",
    "    \"\"\"\n",
    "    This function frames a sequence as a supervised learning problem\n",
    "    \n",
    "    Args:\n",
    "        1) data --> time series\n",
    "        2) lag --> number of lagged features to be generated\n",
    "    Out:\n",
    "        1) df -> dataframe containing all the lagged features (from the more recent to the more lagged)\n",
    "                 the last column of the dataframe is the initial time series (target of the supervised learning model)\n",
    "    \n",
    "    Lagged features are generated as continous in time. Id est, if 3 is the number of lagged features and t is the actual time, \n",
    "    generated features will be the actual series lagged at t-1, t-2, t-3\n",
    "    \"\"\"\n",
    "    df = DataFrame(data)\n",
    "    columns = [df.shift(i) for i in range(1, lag+1)]\n",
    "    columns.append(df)\n",
    "    df = concat(columns, axis=1)\n",
    "    df.fillna(0, inplace=True)\n",
    "    #df = df.dropna()\n",
    "    return df\n",
    "\n",
    "def difference(dataset, interval=1):\n",
    "    \"\"\"\n",
    "    This function create a differenced series to remove seasonality effects\n",
    "    \n",
    "    Args:\n",
    "        1) dataset -> time series\n",
    "    Out:\n",
    "        1) Pandas Series of the differenced initial dataframe\n",
    "    \"\"\"\n",
    "    diff = list()\n",
    "    for i in range(interval, len(dataset)):\n",
    "        value = dataset.iloc[i] - dataset.iloc[i - interval]\n",
    "        diff.append(value)\n",
    "    return Series(diff)\n",
    "\n",
    "def inverse_difference(history, yhat, interval):\n",
    "    \"\"\"\n",
    "    This function invert differenced values.\n",
    "    \n",
    "    Args:\n",
    "        1) history -> time series to be predicted\n",
    "        2) yhat -> predicted value\n",
    "        3) interval -> difference interval\n",
    "    \n",
    "    Out:\n",
    "        1) Anti-transformed predicted value\n",
    "    \"\"\"\n",
    "    return yhat + history.iloc[-interval]\n"
   ]
  },
  {
   "cell_type": "markdown",
   "metadata": {},
   "source": [
    "##### SCALER FUNCTIONS"
   ]
  },
  {
   "cell_type": "code",
   "execution_count": null,
   "metadata": {},
   "outputs": [],
   "source": [
    "def scale_fit(dataset, scaler=MinMaxScaler(feature_range=(-1, 1))):\n",
    "    \"\"\"\n",
    "    Fit a scaler on a dataset\n",
    "    \n",
    "    Args:\n",
    "        1) dataset --> train dataset\n",
    "        2) scaler --> scaler to be fitted\n",
    "        \n",
    "    Out:\n",
    "        1) scaler -> fitted scaler\n",
    "    \"\"\"\n",
    "    \n",
    "    # fit scaler\n",
    "    scaler = scaler.fit(dataset)\n",
    "    \n",
    "    return scaler\n",
    "\n",
    "def scale_transform(dataset, scaler):\n",
    "    \"\"\"\n",
    "    Apply fitted scaler to a dataset\n",
    "    \n",
    "    Args:\n",
    "        1) dataset to be transformed\n",
    "        2) scaler (alreasy fitted)\n",
    "        \n",
    "    Out:\n",
    "        1) fitted dataset\n",
    "    \"\"\"\n",
    "    dataset = dataset.reshape(dataset.shape[0], dataset.shape[1])\n",
    "    dataset_scaled = scaler.transform(dataset)\n",
    "    \n",
    "    return dataset_scaled\n",
    "\n",
    "\n",
    "def invert_scale(scaler, X, value):\n",
    "    \"\"\"\n",
    "    This function performs inverse scaling for a forecasted value\n",
    "    \n",
    "    Args:\n",
    "        1) scaler -> fitted scaler with scale() function\n",
    "        2) X -->\n",
    "        3) value -->\n",
    "    Out:\n",
    "        1) unscaled value\n",
    "    \"\"\"\n",
    "    new_row = [x for x in X] + [value]\n",
    "    array = numpy.array(new_row)\n",
    "    array = array.reshape(1, len(array))\n",
    "    inverted = scaler.inverse_transform(array)\n",
    "    return inverted[0, -1]"
   ]
  },
  {
   "cell_type": "markdown",
   "metadata": {},
   "source": [
    "##### LSTM MODEL FUNCTIONS"
   ]
  },
  {
   "cell_type": "code",
   "execution_count": null,
   "metadata": {},
   "outputs": [],
   "source": [
    "def split_features_label(dataset):\n",
    "    \"\"\"\n",
    "    This function splits datafrema in label and features\n",
    "    \n",
    "    Args:\n",
    "        1) dataset -> input dataset, target variable is the last column\n",
    "    Out:\n",
    "        1) features -> model features matrix\n",
    "        2) label -> supervised model label array\n",
    "    \n",
    "    IMPORTANT: assumptions about labels:\n",
    "        1) Only one output (forecast at time t+n, when n is the number of steps ahead)\n",
    "        2) label array must be the last column of the dataset matrix\n",
    "        \n",
    "    \"\"\"\n",
    "    features, label = dataset[:, 0:-1], dataset[:, -1]\n",
    "    features = features.reshape(features.shape[0], 1, features.shape[1])\n",
    "    return features,label\n",
    "\n",
    "def fit_lstm(train, val, batch_size, nb_epoch, neurons):\n",
    "    \"\"\"\n",
    "    This function fits an LSTM network to training data\n",
    "    \n",
    "    Args:\n",
    "        1) train --> training dataset\n",
    "        2) val --> validation dataset\n",
    "        3) batch_size\n",
    "        4) nb_epochs --> number of epochs\n",
    "        5) neurons --> number of neurons in the hidden layer\n",
    "    \n",
    "    Out:\n",
    "        1) model --> trained model\n",
    "    \"\"\"\n",
    "    X, y = split_features_label(train)\n",
    "    X_val, y_val = split_features_label(val)\n",
    "    model = Sequential()\n",
    "    model.add(LSTM(neurons, batch_input_shape=(batch_size, X.shape[1], X.shape[2]), stateful=True))\n",
    "    model.add(Dense(1))\n",
    "    model.compile(loss='mean_squared_error', optimizer='adam')\n",
    "    for i in tqdm_notebook(range(nb_epoch),leave=False):\n",
    "        model.fit(X, y, epochs=1, batch_size=batch_size, verbose=0, shuffle=False, validation_data=(X_val,y_val))\n",
    "        model.reset_states()\n",
    "    return model\n",
    "\n",
    "def forecast_lstm(model, batch_size, X):\n",
    "    \"\"\"\n",
    "    This function makes a one-step forecast\n",
    "    \n",
    "    Args:\n",
    "        1) model --> supervised model (fitted by fit_lstm function)\n",
    "        2) batch_size\n",
    "        3) X --> input features\n",
    "    \"\"\"\n",
    "    X = X.reshape(1, 1, len(X))\n",
    "    yhat = model.predict(X, batch_size=batch_size)\n",
    "    return yhat[0,0]\n"
   ]
  },
  {
   "cell_type": "markdown",
   "metadata": {},
   "source": [
    "### INPUT PARAMETERS\n",
    "\n",
    "Model parameters are provided as a dict, so that every function/class is independent from input type. \n",
    "Any change can be easily made using a config file where the user can modify dict values. "
   ]
  },
  {
   "cell_type": "code",
   "execution_count": 4,
   "metadata": {},
   "outputs": [],
   "source": [
    "params = {\n",
    "    'mkt': 'Bergen',\n",
    "    'path_to_file' : {\n",
    "        'path_to_pickle' : '../saved_session/',\n",
    "        'pickle_name' : 'electric_mkt_data.pkl',\n",
    "        'path_to_data' : '../data/',\n",
    "        'data_prefix' : 'elspot-prices_',\n",
    "        'data_suffix' : '_hourly_dkk.csv'\n",
    "    },\n",
    "    'dataset' : {\n",
    "        'val_share' : 0.2,\n",
    "        'n_steps' : 24,\n",
    "        'time_ahead' : 1\n",
    "    },\n",
    "    'arch' : {\n",
    "        'n_ensemble' : 1,\n",
    "        'neurons' : 3,\n",
    "        'epochs' : 5,\n",
    "        'batch_size': 1\n",
    "    }\n",
    "}"
   ]
  },
  {
   "cell_type": "markdown",
   "metadata": {},
   "source": [
    "### ETL PIPELINE\n",
    "\n",
    "1. Extract data from CSV files\n",
    "2. Transform data to be consistent with LSTM input format\n",
    "3. Split data into train and validation set\n",
    "4. Dump data to pkl file"
   ]
  },
  {
   "cell_type": "code",
   "execution_count": 25,
   "metadata": {},
   "outputs": [],
   "source": [
    "def etl_pipeline(params):\n",
    "    \n",
    "    # internal paramters for the LSTM model\n",
    "    n_shift = params['dataset']['n_steps'] + params['dataset']['time_ahead'] - 1\n",
    "    n_ahead = range(0,params['dataset']['time_ahead'])\n",
    "    \n",
    "    # data loading and feature extraction\n",
    "    df = load_data(params)\n",
    "    raw_values = df[params['mkt']].dropna()\n",
    "    diff_values = difference(raw_values, interval = params['dataset']['time_ahead'])\n",
    "    supervised = timeseries_to_supervised(diff_values, n_shift)\n",
    "    supervised_values = supervised.values\n",
    "    \n",
    "    # train - validation split\n",
    "    test_size = round(params['dataset']['val_share']*supervised_values.shape[0])\n",
    "    train_size = supervised_values.shape[0]-test_size\n",
    "    train, test = supervised_values[0:train_size,:], supervised_values[train_size:,:]\n",
    "    if len(n_ahead)>0:\n",
    "        train, test = np.delete(train, n_ahead, axis = 1),np.delete(test, n_ahead, axis = 1)\n",
    "        \n",
    "    # feature scaling\n",
    "    scaler = scale_fit(train)\n",
    "    train_scaled = scale_transform(train, scaler)\n",
    "    test_scaled = scale_transform(test, scaler)\n",
    "    \n",
    "    # dump session\n",
    "    pickle_file = params['path_to_file']['path_to_pickle']+params['path_to_file']['pickle_name']\n",
    "    data = {'scaler': scaler, \n",
    "            'train_scaled': train_scaled, \n",
    "            'test_scaled': test_scaled, \n",
    "            'train': train, \n",
    "            'test': test,\n",
    "            'raw_values': raw_values}\n",
    "    with open(pickle_file, \"wb\") as f:\n",
    "        pickle.dump(data, f)\n",
    "    \n",
    "    return"
   ]
  },
  {
   "cell_type": "code",
   "execution_count": 26,
   "metadata": {},
   "outputs": [],
   "source": [
    "etl_pipeline(params)"
   ]
  },
  {
   "cell_type": "markdown",
   "metadata": {},
   "source": [
    "### LSTM MODEL\n",
    "\n",
    "1. Load data coming from the ETL process\n",
    "2. fit an LSTM (or an ensemble of models)"
   ]
  },
  {
   "cell_type": "code",
   "execution_count": 27,
   "metadata": {},
   "outputs": [],
   "source": [
    "pickle_file = params['path_to_file']['path_to_pickle']+params['path_to_file']['pickle_name']\n",
    "with open(pickle_file, \"rb\") as f:\n",
    "    saved_data = pickle.load(f)"
   ]
  },
  {
   "cell_type": "code",
   "execution_count": 28,
   "metadata": {},
   "outputs": [
    {
     "data": {
      "application/vnd.jupyter.widget-view+json": {
       "model_id": "b56edb48be0f4e52a1cd974a11631697",
       "version_major": 2,
       "version_minor": 0
      },
      "text/plain": [
       "HBox(children=(IntProgress(value=0, max=1), HTML(value='')))"
      ]
     },
     "metadata": {},
     "output_type": "display_data"
    },
    {
     "data": {
      "application/vnd.jupyter.widget-view+json": {
       "model_id": "",
       "version_major": 2,
       "version_minor": 0
      },
      "text/plain": [
       "HBox(children=(IntProgress(value=0, max=5), HTML(value='')))"
      ]
     },
     "metadata": {},
     "output_type": "display_data"
    },
    {
     "name": "stdout",
     "output_type": "stream",
     "text": [
      "\n"
     ]
    }
   ],
   "source": [
    "# fit the model\n",
    "lstm_ensemble = list()\n",
    "for n in tqdm_notebook(range(params['arch']['n_ensemble'])):\n",
    "    lstm_model = fit_lstm(saved_data['train_scaled'], \n",
    "                          saved_data['test_scaled'], \n",
    "                          params['arch']['batch_size'], \n",
    "                          params['arch']['epochs'], \n",
    "                          params['arch']['neurons'])\n",
    "    lstm_ensemble.append(lstm_model)"
   ]
  },
  {
   "cell_type": "markdown",
   "metadata": {},
   "source": [
    "### MODEL PERFORMANCE \n",
    "\n",
    "1. Predict electricity price (validation set)\n",
    "2. Use performance metrics to assess model behaviour"
   ]
  },
  {
   "cell_type": "code",
   "execution_count": 46,
   "metadata": {},
   "outputs": [],
   "source": [
    "def make_predictions(lstm_model,test_scaled,scaler,raw_values):\n",
    "    \"\"\"\n",
    "    This function makes prediction on a test dataset using a fitted LSTM model\n",
    "    \n",
    "    Args:\n",
    "        1) lstm_model -> fitted model\n",
    "        2) test_scaled -> test dataset already preprocessed and scaled\n",
    "        3) scaler --> required to unscale model input data\n",
    "        4) raw_values --> required to undo time difference\n",
    "    Out:\n",
    "        1) predictions -> model forecasted values for the testset\n",
    "    \n",
    "    \"\"\"\n",
    "    \n",
    "    # walk-forward validation on the test data\n",
    "    predictions = list() \n",
    "    for i in range(len(test_scaled)):\n",
    "        # make one-step forecast\n",
    "        X, y = test_scaled[i, 0:-1], test_scaled[i, -1]\n",
    "        yhat = forecast_lstm(lstm_model, 1, X)\n",
    "        # invert scaling\n",
    "        yhat = invert_scale(scaler, X, yhat)\n",
    "        # invert differencing\n",
    "        yhat = inverse_difference(raw_values, yhat, len(test_scaled)+1-i)\n",
    "        # store forecast\n",
    "        predictions.append(yhat)\n",
    "    return predictions"
   ]
  },
  {
   "cell_type": "code",
   "execution_count": 45,
   "metadata": {},
   "outputs": [],
   "source": [
    "def evaluate_model_performance(lstm_ensemble, test_scaled, raw_values, scaler):\n",
    "    \"\"\"\n",
    "    This function estimates model performance, calculating relevant metrics\n",
    "    \n",
    "    Args:\n",
    "        1) lstm_ensemble --> a list of models to be evaluated\n",
    "        2) test_scaled --> test set to be used for metrics calculation\n",
    "        3) raw_values --> inital unscaled dataset for benchmark\n",
    "        4) scaler --> fitted scaler (necessary to unscale model input data)\n",
    "        \n",
    "    Out:\n",
    "        1) rmse_ensemble --> a list of RMSE (one for each model)\n",
    "        2) mae_ensemble --> a list of MAE (one for each model)\n",
    "        3) predictions_ensemble --> a list of predicted values (one for each model)\n",
    "    \n",
    "    This function supports the evaluation of a single model (one-item list)\n",
    "    \n",
    "    \"\"\"\n",
    "    rmse_ensemble = list()\n",
    "    mae_ensemble = list()\n",
    "    predictions_ensemble = list()\n",
    "    test_samples = test_scaled.shape[0]\n",
    "    for i in tqdm_notebook(range(len(lstm_ensemble))):\n",
    "        predictions = make_predictions(lstm_ensemble[i],test_scaled, scaler,raw_values)\n",
    "        predictions_ensemble.append(predictions)\n",
    "        rmse = sqrt(mean_squared_error(raw_values[-test_samples:], predictions))\n",
    "        rmse_ensemble.append(rmse)\n",
    "        mae = mean_absolute_error(raw_values[-test_samples:], predictions)\n",
    "        mae_ensemble.append(mae)\n",
    "    return rmse_ensemble, mae_ensemble, predictions_ensemble    "
   ]
  },
  {
   "cell_type": "code",
   "execution_count": 42,
   "metadata": {},
   "outputs": [
    {
     "data": {
      "application/vnd.jupyter.widget-view+json": {
       "model_id": "e847190c59a4411c9aad135c3cafaac2",
       "version_major": 2,
       "version_minor": 0
      },
      "text/plain": [
       "HBox(children=(IntProgress(value=0, max=1), HTML(value='')))"
      ]
     },
     "metadata": {},
     "output_type": "display_data"
    },
    {
     "name": "stdout",
     "output_type": "stream",
     "text": [
      "\n"
     ]
    }
   ],
   "source": [
    "rmse_ensemble, mae_ensemble, predictions_ensemble = evaluate_model_performance(lstm_ensemble, \n",
    "                                                                               saved_data['test_scaled'], \n",
    "                                                                               saved_data['raw_values'],\n",
    "                                                                               saved_data['scaler'])"
   ]
  },
  {
   "cell_type": "code",
   "execution_count": 47,
   "metadata": {},
   "outputs": [],
   "source": [
    "def print_performance_metrics(rmse_ensemble,mae_ensemble):\n",
    "    if len(rmse_ensemble)==len(mae_ensemble):\n",
    "        if len(rmse_ensemble)>1:\n",
    "            rmse = np.mean(np.array(rmse_ensemble))\n",
    "            std_rmse = np.std(np.array(rmse_ensemble))\n",
    "            mae = np.mean(np.array(mae_ensemble))\n",
    "            std_mae = np.std(np.array(mae_ensemble))\n",
    "            msg = 'AVG RMSE: {} STD RMSE: {} \\n AVG MAE: {} STD MAE: {}'\n",
    "            print(msg.format(rmse,std_rmse,mae,std_mae))\n",
    "        else:\n",
    "            msg = 'RMSE: {} \\n MAE: {}'\n",
    "            rmse = rmse_ensemble[0]\n",
    "            mae = mae_ensemble[0]\n",
    "            print(msg.format(rmse,mae))\n",
    "    else:\n",
    "        print('Array size mismatch!')\n",
    "    return rmse, mae"
   ]
  },
  {
   "cell_type": "code",
   "execution_count": 44,
   "metadata": {},
   "outputs": [
    {
     "name": "stdout",
     "output_type": "stream",
     "text": [
      "RMSE: 10.038014829724492 \n",
      " MAE: 3.978810666496377\n"
     ]
    }
   ],
   "source": [
    "rmse, mae =  print_performance_metrics(rmse_ensemble,mae_ensemble)"
   ]
  },
  {
   "cell_type": "markdown",
   "metadata": {},
   "source": [
    "### DATA VISUALIZATION\n",
    "\n",
    "Show examples of model output"
   ]
  },
  {
   "cell_type": "code",
   "execution_count": 19,
   "metadata": {},
   "outputs": [],
   "source": [
    "def plot_sample_predictions(predictions_ensemble,n_model=0,n_day=7):\n",
    "    \"\"\"\n",
    "    This function plots observed vs predicted values for a fixed period of time\n",
    "    \n",
    "    Args:\n",
    "        1) predictions_ensemble --> a list of predictions (one for each model)\n",
    "        2) n_model --> which model of the ensemble is selected\n",
    "        3) n_day --> how many days are plotted\n",
    "    \n",
    "    The function returns a matplotlib line plot\n",
    "    \"\"\"\n",
    "    subset= 24*n_day\n",
    "    model_predictions = predictions_ensemble[n_model]\n",
    "    \n",
    "    plt.figure(figsize=(15,7))\n",
    "    plt.title('Model results on validation set')\n",
    "    plt.xlabel('Time [Hours]')\n",
    "    plt.ylabel('Electricity Price [DKK]')\n",
    "    plt.plot(range(subset),raw_values[-subset:],color = 'b')\n",
    "    plt.plot(range(subset),model_predictions[-subset:], color = 'r')\n",
    "    plt.legend(['real','forecast'])\n",
    "    plt.show()\n",
    "    return"
   ]
  },
  {
   "cell_type": "code",
   "execution_count": 20,
   "metadata": {},
   "outputs": [
    {
     "data": {
      "image/png": "[encoded data removed]",
      "text/plain": [
       "<Figure size 1080x504 with 1 Axes>"
      ]
     },
     "metadata": {
      "needs_background": "light"
     },
     "output_type": "display_data"
    }
   ],
   "source": [
    "plot_sample_predictions(predictions_ensemble)"
   ]
  },
  {
   "cell_type": "markdown",
   "metadata": {},
   "source": [
    "## FORECAST HORIZON IMPACT ON MODEL PERFORMANCE"
   ]
  },
  {
   "cell_type": "code",
   "execution_count": 52,
   "metadata": {},
   "outputs": [],
   "source": [
    "t_try = 24\n",
    "rmse_list = list()\n",
    "mae_list = list()"
   ]
  },
  {
   "cell_type": "code",
   "execution_count": 56,
   "metadata": {},
   "outputs": [
    {
     "data": {
      "application/vnd.jupyter.widget-view+json": {
       "model_id": "0a2160fe79204f7988bbc2b16cf089a8",
       "version_major": 2,
       "version_minor": 0
      },
      "text/plain": [
       "HBox(children=(IntProgress(value=0, max=24), HTML(value='')))"
      ]
     },
     "metadata": {},
     "output_type": "display_data"
    },
    {
     "data": {
      "application/vnd.jupyter.widget-view+json": {
       "model_id": "e5ee2cc44c53438686cb6755ac4e6ec8",
       "version_major": 2,
       "version_minor": 0
      },
      "text/plain": [
       "HBox(children=(IntProgress(value=0, max=1), HTML(value='')))"
      ]
     },
     "metadata": {},
     "output_type": "display_data"
    },
    {
     "data": {
      "application/vnd.jupyter.widget-view+json": {
       "model_id": "4d3fd6318e264614a44adcd2c48f367c",
       "version_major": 2,
       "version_minor": 0
      },
      "text/plain": [
       "HBox(children=(IntProgress(value=0, max=5), HTML(value='')))"
      ]
     },
     "metadata": {},
     "output_type": "display_data"
    },
    {
     "ename": "KeyboardInterrupt",
     "evalue": "",
     "output_type": "error",
     "traceback": [
      "\u001b[1;31m---------------------------------------------------------------------------\u001b[0m",
      "\u001b[1;31mKeyboardInterrupt\u001b[0m                         Traceback (most recent call last)",
      "\u001b[1;32m<ipython-input-56-cb045d5d0352>\u001b[0m in \u001b[0;36m<module>\u001b[1;34m()\u001b[0m\n\u001b[0;32m     16\u001b[0m                               \u001b[0mparams\u001b[0m\u001b[1;33m[\u001b[0m\u001b[1;34m'arch'\u001b[0m\u001b[1;33m]\u001b[0m\u001b[1;33m[\u001b[0m\u001b[1;34m'batch_size'\u001b[0m\u001b[1;33m]\u001b[0m\u001b[1;33m,\u001b[0m\u001b[1;33m\u001b[0m\u001b[0m\n\u001b[0;32m     17\u001b[0m                               \u001b[0mparams\u001b[0m\u001b[1;33m[\u001b[0m\u001b[1;34m'arch'\u001b[0m\u001b[1;33m]\u001b[0m\u001b[1;33m[\u001b[0m\u001b[1;34m'epochs'\u001b[0m\u001b[1;33m]\u001b[0m\u001b[1;33m,\u001b[0m\u001b[1;33m\u001b[0m\u001b[0m\n\u001b[1;32m---> 18\u001b[1;33m                               params['arch']['neurons'])\n\u001b[0m\u001b[0;32m     19\u001b[0m         \u001b[0mlstm_ensemble\u001b[0m\u001b[1;33m.\u001b[0m\u001b[0mappend\u001b[0m\u001b[1;33m(\u001b[0m\u001b[0mlstm_model\u001b[0m\u001b[1;33m)\u001b[0m\u001b[1;33m\u001b[0m\u001b[0m\n\u001b[0;32m     20\u001b[0m \u001b[1;33m\u001b[0m\u001b[0m\n",
      "\u001b[1;32m<ipython-input-3-8fc2fbfb19b9>\u001b[0m in \u001b[0;36mfit_lstm\u001b[1;34m(train, val, batch_size, nb_epoch, neurons)\u001b[0m\n\u001b[0;32m    141\u001b[0m     \u001b[0mmodel\u001b[0m\u001b[1;33m.\u001b[0m\u001b[0mcompile\u001b[0m\u001b[1;33m(\u001b[0m\u001b[0mloss\u001b[0m\u001b[1;33m=\u001b[0m\u001b[1;34m'mean_squared_error'\u001b[0m\u001b[1;33m,\u001b[0m \u001b[0moptimizer\u001b[0m\u001b[1;33m=\u001b[0m\u001b[1;34m'adam'\u001b[0m\u001b[1;33m)\u001b[0m\u001b[1;33m\u001b[0m\u001b[0m\n\u001b[0;32m    142\u001b[0m     \u001b[1;32mfor\u001b[0m \u001b[0mi\u001b[0m \u001b[1;32min\u001b[0m \u001b[0mtqdm_notebook\u001b[0m\u001b[1;33m(\u001b[0m\u001b[0mrange\u001b[0m\u001b[1;33m(\u001b[0m\u001b[0mnb_epoch\u001b[0m\u001b[1;33m)\u001b[0m\u001b[1;33m,\u001b[0m\u001b[0mleave\u001b[0m\u001b[1;33m=\u001b[0m\u001b[1;32mFalse\u001b[0m\u001b[1;33m)\u001b[0m\u001b[1;33m:\u001b[0m\u001b[1;33m\u001b[0m\u001b[0m\n\u001b[1;32m--> 143\u001b[1;33m         \u001b[0mmodel\u001b[0m\u001b[1;33m.\u001b[0m\u001b[0mfit\u001b[0m\u001b[1;33m(\u001b[0m\u001b[0mX\u001b[0m\u001b[1;33m,\u001b[0m \u001b[0my\u001b[0m\u001b[1;33m,\u001b[0m \u001b[0mepochs\u001b[0m\u001b[1;33m=\u001b[0m\u001b[1;36m1\u001b[0m\u001b[1;33m,\u001b[0m \u001b[0mbatch_size\u001b[0m\u001b[1;33m=\u001b[0m\u001b[0mbatch_size\u001b[0m\u001b[1;33m,\u001b[0m \u001b[0mverbose\u001b[0m\u001b[1;33m=\u001b[0m\u001b[1;36m0\u001b[0m\u001b[1;33m,\u001b[0m \u001b[0mshuffle\u001b[0m\u001b[1;33m=\u001b[0m\u001b[1;32mFalse\u001b[0m\u001b[1;33m,\u001b[0m \u001b[0mvalidation_data\u001b[0m\u001b[1;33m=\u001b[0m\u001b[1;33m(\u001b[0m\u001b[0mX_val\u001b[0m\u001b[1;33m,\u001b[0m\u001b[0my_val\u001b[0m\u001b[1;33m)\u001b[0m\u001b[1;33m)\u001b[0m\u001b[1;33m\u001b[0m\u001b[0m\n\u001b[0m\u001b[0;32m    144\u001b[0m         \u001b[0mmodel\u001b[0m\u001b[1;33m.\u001b[0m\u001b[0mreset_states\u001b[0m\u001b[1;33m(\u001b[0m\u001b[1;33m)\u001b[0m\u001b[1;33m\u001b[0m\u001b[0m\n\u001b[0;32m    145\u001b[0m     \u001b[1;32mreturn\u001b[0m \u001b[0mmodel\u001b[0m\u001b[1;33m\u001b[0m\u001b[0m\n",
      "\u001b[1;32mC:\\ProgramData\\Anaconda3\\lib\\site-packages\\keras\\engine\\training.py\u001b[0m in \u001b[0;36mfit\u001b[1;34m(self, x, y, batch_size, epochs, verbose, callbacks, validation_split, validation_data, shuffle, class_weight, sample_weight, initial_epoch, steps_per_epoch, validation_steps, **kwargs)\u001b[0m\n\u001b[0;32m   1040\u001b[0m                                         \u001b[0minitial_epoch\u001b[0m\u001b[1;33m=\u001b[0m\u001b[0minitial_epoch\u001b[0m\u001b[1;33m,\u001b[0m\u001b[1;33m\u001b[0m\u001b[0m\n\u001b[0;32m   1041\u001b[0m                                         \u001b[0msteps_per_epoch\u001b[0m\u001b[1;33m=\u001b[0m\u001b[0msteps_per_epoch\u001b[0m\u001b[1;33m,\u001b[0m\u001b[1;33m\u001b[0m\u001b[0m\n\u001b[1;32m-> 1042\u001b[1;33m                                         validation_steps=validation_steps)\n\u001b[0m\u001b[0;32m   1043\u001b[0m \u001b[1;33m\u001b[0m\u001b[0m\n\u001b[0;32m   1044\u001b[0m     def evaluate(self, x=None, y=None,\n",
      "\u001b[1;32mC:\\ProgramData\\Anaconda3\\lib\\site-packages\\keras\\engine\\training_arrays.py\u001b[0m in \u001b[0;36mfit_loop\u001b[1;34m(model, f, ins, out_labels, batch_size, epochs, verbose, callbacks, val_f, val_ins, shuffle, callback_metrics, initial_epoch, steps_per_epoch, validation_steps)\u001b[0m\n\u001b[0;32m    193\u001b[0m                 \u001b[0mbatch_logs\u001b[0m\u001b[1;33m[\u001b[0m\u001b[1;34m'batch'\u001b[0m\u001b[1;33m]\u001b[0m \u001b[1;33m=\u001b[0m \u001b[0mbatch_index\u001b[0m\u001b[1;33m\u001b[0m\u001b[0m\n\u001b[0;32m    194\u001b[0m                 \u001b[0mbatch_logs\u001b[0m\u001b[1;33m[\u001b[0m\u001b[1;34m'size'\u001b[0m\u001b[1;33m]\u001b[0m \u001b[1;33m=\u001b[0m \u001b[0mlen\u001b[0m\u001b[1;33m(\u001b[0m\u001b[0mbatch_ids\u001b[0m\u001b[1;33m)\u001b[0m\u001b[1;33m\u001b[0m\u001b[0m\n\u001b[1;32m--> 195\u001b[1;33m                 \u001b[0mcallbacks\u001b[0m\u001b[1;33m.\u001b[0m\u001b[0mon_batch_begin\u001b[0m\u001b[1;33m(\u001b[0m\u001b[0mbatch_index\u001b[0m\u001b[1;33m,\u001b[0m \u001b[0mbatch_logs\u001b[0m\u001b[1;33m)\u001b[0m\u001b[1;33m\u001b[0m\u001b[0m\n\u001b[0m\u001b[0;32m    196\u001b[0m                 \u001b[1;32mfor\u001b[0m \u001b[0mi\u001b[0m \u001b[1;32min\u001b[0m \u001b[0mindices_for_conversion_to_dense\u001b[0m\u001b[1;33m:\u001b[0m\u001b[1;33m\u001b[0m\u001b[0m\n\u001b[0;32m    197\u001b[0m                     \u001b[0mins_batch\u001b[0m\u001b[1;33m[\u001b[0m\u001b[0mi\u001b[0m\u001b[1;33m]\u001b[0m \u001b[1;33m=\u001b[0m \u001b[0mins_batch\u001b[0m\u001b[1;33m[\u001b[0m\u001b[0mi\u001b[0m\u001b[1;33m]\u001b[0m\u001b[1;33m.\u001b[0m\u001b[0mtoarray\u001b[0m\u001b[1;33m(\u001b[0m\u001b[1;33m)\u001b[0m\u001b[1;33m\u001b[0m\u001b[0m\n",
      "\u001b[1;32mC:\\ProgramData\\Anaconda3\\lib\\site-packages\\keras\\callbacks.py\u001b[0m in \u001b[0;36mon_batch_begin\u001b[1;34m(self, batch, logs)\u001b[0m\n\u001b[0;32m     89\u001b[0m             \u001b[0mcallback\u001b[0m\u001b[1;33m.\u001b[0m\u001b[0mon_batch_begin\u001b[0m\u001b[1;33m(\u001b[0m\u001b[0mbatch\u001b[0m\u001b[1;33m,\u001b[0m \u001b[0mlogs\u001b[0m\u001b[1;33m)\u001b[0m\u001b[1;33m\u001b[0m\u001b[0m\n\u001b[0;32m     90\u001b[0m         \u001b[0mself\u001b[0m\u001b[1;33m.\u001b[0m\u001b[0m_delta_ts_batch_begin\u001b[0m\u001b[1;33m.\u001b[0m\u001b[0mappend\u001b[0m\u001b[1;33m(\u001b[0m\u001b[0mtime\u001b[0m\u001b[1;33m.\u001b[0m\u001b[0mtime\u001b[0m\u001b[1;33m(\u001b[0m\u001b[1;33m)\u001b[0m \u001b[1;33m-\u001b[0m \u001b[0mt_before_callbacks\u001b[0m\u001b[1;33m)\u001b[0m\u001b[1;33m\u001b[0m\u001b[0m\n\u001b[1;32m---> 91\u001b[1;33m         \u001b[0mdelta_t_median\u001b[0m \u001b[1;33m=\u001b[0m \u001b[0mnp\u001b[0m\u001b[1;33m.\u001b[0m\u001b[0mmedian\u001b[0m\u001b[1;33m(\u001b[0m\u001b[0mself\u001b[0m\u001b[1;33m.\u001b[0m\u001b[0m_delta_ts_batch_begin\u001b[0m\u001b[1;33m)\u001b[0m\u001b[1;33m\u001b[0m\u001b[0m\n\u001b[0m\u001b[0;32m     92\u001b[0m         if (self._delta_t_batch > 0. and\n\u001b[0;32m     93\u001b[0m            \u001b[0mdelta_t_median\u001b[0m \u001b[1;33m>\u001b[0m \u001b[1;36m0.95\u001b[0m \u001b[1;33m*\u001b[0m \u001b[0mself\u001b[0m\u001b[1;33m.\u001b[0m\u001b[0m_delta_t_batch\u001b[0m \u001b[1;32mand\u001b[0m\u001b[1;33m\u001b[0m\u001b[0m\n",
      "\u001b[1;32mC:\\ProgramData\\Anaconda3\\lib\\site-packages\\numpy\\lib\\function_base.py\u001b[0m in \u001b[0;36mmedian\u001b[1;34m(a, axis, out, overwrite_input, keepdims)\u001b[0m\n\u001b[0;32m   4117\u001b[0m     \"\"\"\n\u001b[0;32m   4118\u001b[0m     r, k = _ureduce(a, func=_median, axis=axis, out=out,\n\u001b[1;32m-> 4119\u001b[1;33m                     overwrite_input=overwrite_input)\n\u001b[0m\u001b[0;32m   4120\u001b[0m     \u001b[1;32mif\u001b[0m \u001b[0mkeepdims\u001b[0m\u001b[1;33m:\u001b[0m\u001b[1;33m\u001b[0m\u001b[0m\n\u001b[0;32m   4121\u001b[0m         \u001b[1;32mreturn\u001b[0m \u001b[0mr\u001b[0m\u001b[1;33m.\u001b[0m\u001b[0mreshape\u001b[0m\u001b[1;33m(\u001b[0m\u001b[0mk\u001b[0m\u001b[1;33m)\u001b[0m\u001b[1;33m\u001b[0m\u001b[0m\n",
      "\u001b[1;32mC:\\ProgramData\\Anaconda3\\lib\\site-packages\\numpy\\lib\\function_base.py\u001b[0m in \u001b[0;36m_ureduce\u001b[1;34m(a, func, **kwargs)\u001b[0m\n\u001b[0;32m   4031\u001b[0m         \u001b[0mkeepdim\u001b[0m \u001b[1;33m=\u001b[0m \u001b[1;33m(\u001b[0m\u001b[1;36m1\u001b[0m\u001b[1;33m,\u001b[0m\u001b[1;33m)\u001b[0m \u001b[1;33m*\u001b[0m \u001b[0ma\u001b[0m\u001b[1;33m.\u001b[0m\u001b[0mndim\u001b[0m\u001b[1;33m\u001b[0m\u001b[0m\n\u001b[0;32m   4032\u001b[0m \u001b[1;33m\u001b[0m\u001b[0m\n\u001b[1;32m-> 4033\u001b[1;33m     \u001b[0mr\u001b[0m \u001b[1;33m=\u001b[0m \u001b[0mfunc\u001b[0m\u001b[1;33m(\u001b[0m\u001b[0ma\u001b[0m\u001b[1;33m,\u001b[0m \u001b[1;33m**\u001b[0m\u001b[0mkwargs\u001b[0m\u001b[1;33m)\u001b[0m\u001b[1;33m\u001b[0m\u001b[0m\n\u001b[0m\u001b[0;32m   4034\u001b[0m     \u001b[1;32mreturn\u001b[0m \u001b[0mr\u001b[0m\u001b[1;33m,\u001b[0m \u001b[0mkeepdim\u001b[0m\u001b[1;33m\u001b[0m\u001b[0m\n\u001b[0;32m   4035\u001b[0m \u001b[1;33m\u001b[0m\u001b[0m\n",
      "\u001b[1;32mC:\\ProgramData\\Anaconda3\\lib\\site-packages\\numpy\\lib\\function_base.py\u001b[0m in \u001b[0;36m_median\u001b[1;34m(a, axis, out, overwrite_input)\u001b[0m\n\u001b[0;32m   4150\u001b[0m             \u001b[0mpart\u001b[0m \u001b[1;33m=\u001b[0m \u001b[0ma\u001b[0m\u001b[1;33m\u001b[0m\u001b[0m\n\u001b[0;32m   4151\u001b[0m     \u001b[1;32melse\u001b[0m\u001b[1;33m:\u001b[0m\u001b[1;33m\u001b[0m\u001b[0m\n\u001b[1;32m-> 4152\u001b[1;33m         \u001b[0mpart\u001b[0m \u001b[1;33m=\u001b[0m \u001b[0mpartition\u001b[0m\u001b[1;33m(\u001b[0m\u001b[0ma\u001b[0m\u001b[1;33m,\u001b[0m \u001b[0mkth\u001b[0m\u001b[1;33m,\u001b[0m \u001b[0maxis\u001b[0m\u001b[1;33m=\u001b[0m\u001b[0maxis\u001b[0m\u001b[1;33m)\u001b[0m\u001b[1;33m\u001b[0m\u001b[0m\n\u001b[0m\u001b[0;32m   4153\u001b[0m \u001b[1;33m\u001b[0m\u001b[0m\n\u001b[0;32m   4154\u001b[0m     \u001b[1;32mif\u001b[0m \u001b[0mpart\u001b[0m\u001b[1;33m.\u001b[0m\u001b[0mshape\u001b[0m \u001b[1;33m==\u001b[0m \u001b[1;33m(\u001b[0m\u001b[1;33m)\u001b[0m\u001b[1;33m:\u001b[0m\u001b[1;33m\u001b[0m\u001b[0m\n",
      "\u001b[1;32mC:\\ProgramData\\Anaconda3\\lib\\site-packages\\numpy\\core\\fromnumeric.py\u001b[0m in \u001b[0;36mpartition\u001b[1;34m(a, kth, axis, kind, order)\u001b[0m\n\u001b[0;32m    662\u001b[0m     \u001b[1;32melse\u001b[0m\u001b[1;33m:\u001b[0m\u001b[1;33m\u001b[0m\u001b[0m\n\u001b[0;32m    663\u001b[0m         \u001b[0ma\u001b[0m \u001b[1;33m=\u001b[0m \u001b[0masanyarray\u001b[0m\u001b[1;33m(\u001b[0m\u001b[0ma\u001b[0m\u001b[1;33m)\u001b[0m\u001b[1;33m.\u001b[0m\u001b[0mcopy\u001b[0m\u001b[1;33m(\u001b[0m\u001b[0morder\u001b[0m\u001b[1;33m=\u001b[0m\u001b[1;34m\"K\"\u001b[0m\u001b[1;33m)\u001b[0m\u001b[1;33m\u001b[0m\u001b[0m\n\u001b[1;32m--> 664\u001b[1;33m     \u001b[0ma\u001b[0m\u001b[1;33m.\u001b[0m\u001b[0mpartition\u001b[0m\u001b[1;33m(\u001b[0m\u001b[0mkth\u001b[0m\u001b[1;33m,\u001b[0m \u001b[0maxis\u001b[0m\u001b[1;33m=\u001b[0m\u001b[0maxis\u001b[0m\u001b[1;33m,\u001b[0m \u001b[0mkind\u001b[0m\u001b[1;33m=\u001b[0m\u001b[0mkind\u001b[0m\u001b[1;33m,\u001b[0m \u001b[0morder\u001b[0m\u001b[1;33m=\u001b[0m\u001b[0morder\u001b[0m\u001b[1;33m)\u001b[0m\u001b[1;33m\u001b[0m\u001b[0m\n\u001b[0m\u001b[0;32m    665\u001b[0m     \u001b[1;32mreturn\u001b[0m \u001b[0ma\u001b[0m\u001b[1;33m\u001b[0m\u001b[0m\n\u001b[0;32m    666\u001b[0m \u001b[1;33m\u001b[0m\u001b[0m\n",
      "\u001b[1;31mKeyboardInterrupt\u001b[0m: "
     ]
    }
   ],
   "source": [
    "for t in tqdm_notebook(range(t_try)):\n",
    "    \n",
    "    params['dataset']['time_ahead'] = t\n",
    "\n",
    "    etl_pipeline(params)\n",
    "\n",
    "    pickle_file = params['path_to_file']['path_to_pickle']+params['path_to_file']['pickle_name']\n",
    "    with open(pickle_file, \"rb\") as f:\n",
    "        saved_data = pickle.load(f)\n",
    "    \n",
    "    # fit the model\n",
    "    lstm_ensemble = list()\n",
    "    for n in tqdm_notebook(range(params['arch']['n_ensemble'])):\n",
    "        lstm_model = fit_lstm(saved_data['train_scaled'], \n",
    "                              saved_data['test_scaled'], \n",
    "                              params['arch']['batch_size'], \n",
    "                              params['arch']['epochs'], \n",
    "                              params['arch']['neurons'])\n",
    "        lstm_ensemble.append(lstm_model)\n",
    "\n",
    "    # validation set\n",
    "    rmse_ensemble, mae_ensemble, predictions_ensemble = evaluate_model_performance(lstm_ensemble, \n",
    "                                                                                   saved_data['test_scaled'], \n",
    "                                                                                   saved_data['raw_values'],\n",
    "                                                                                   saved_data['scaler'])\n",
    "\n",
    "    rmse, mae =  print_performance_metrics(rmse_ensemble,mae_ensemble)\n",
    "    \n",
    "    msg = 'model: time lag {}h, RMSE: {},MAE: {}'\n",
    "    print(msg.format(t, rmse, mae))\n",
    "    rmse_list.append(rmse)\n",
    "    mae_list.append(mae)"
   ]
  },
  {
   "cell_type": "code",
   "execution_count": 57,
   "metadata": {},
   "outputs": [
    {
     "data": {
      "text/html": [
       "<div>\n",
       "<style scoped>\n",
       "    .dataframe tbody tr th:only-of-type {\n",
       "        vertical-align: middle;\n",
       "    }\n",
       "\n",
       "    .dataframe tbody tr th {\n",
       "        vertical-align: top;\n",
       "    }\n",
       "\n",
       "    .dataframe thead th {\n",
       "        text-align: right;\n",
       "    }\n",
       "</style>\n",
       "<table border=\"1\" class=\"dataframe\">\n",
       "  <thead>\n",
       "    <tr style=\"text-align: right;\">\n",
       "      <th></th>\n",
       "      <th>lag</th>\n",
       "      <th>rmse</th>\n",
       "      <th>mae</th>\n",
       "    </tr>\n",
       "  </thead>\n",
       "  <tbody>\n",
       "    <tr>\n",
       "      <th>0</th>\n",
       "      <td>0</td>\n",
       "      <td>11.837159</td>\n",
       "      <td>4.340716</td>\n",
       "    </tr>\n",
       "    <tr>\n",
       "      <th>1</th>\n",
       "      <td>1</td>\n",
       "      <td>9.916233</td>\n",
       "      <td>3.991398</td>\n",
       "    </tr>\n",
       "    <tr>\n",
       "      <th>2</th>\n",
       "      <td>2</td>\n",
       "      <td>12.104911</td>\n",
       "      <td>5.798496</td>\n",
       "    </tr>\n",
       "    <tr>\n",
       "      <th>3</th>\n",
       "      <td>3</td>\n",
       "      <td>15.397185</td>\n",
       "      <td>8.228225</td>\n",
       "    </tr>\n",
       "    <tr>\n",
       "      <th>4</th>\n",
       "      <td>4</td>\n",
       "      <td>17.348745</td>\n",
       "      <td>9.715158</td>\n",
       "    </tr>\n",
       "  </tbody>\n",
       "</table>\n",
       "</div>"
      ],
      "text/plain": [
       "   lag       rmse       mae\n",
       "0    0  11.837159  4.340716\n",
       "1    1   9.916233  3.991398\n",
       "2    2  12.104911  5.798496\n",
       "3    3  15.397185  8.228225\n",
       "4    4  17.348745  9.715158"
      ]
     },
     "execution_count": 57,
     "metadata": {},
     "output_type": "execute_result"
    }
   ],
   "source": [
    "df_lstm_performance = pd.DataFrame({'lag':range(24),'rmse':rmse_list,'mae':mae_list})\n",
    "df_lstm_performance.head()"
   ]
  },
  {
   "cell_type": "code",
   "execution_count": 58,
   "metadata": {},
   "outputs": [],
   "source": [
    "results_pickle = params['path_to_file']['path_to_pickle']+'lstm_results.pkl'\n",
    "with open(results_pickle, \"wb\") as f:\n",
    "    pickle.dump(df_lstm_performance, f)"
   ]
  },
  {
   "cell_type": "code",
   "execution_count": null,
   "metadata": {},
   "outputs": [],
   "source": []
  }
 ],
 "metadata": {
  "kernelspec": {
   "display_name": "Python 3",
   "language": "python",
   "name": "python3"
  },
  "language_info": {
   "codemirror_mode": {
    "name": "ipython",
    "version": 3
   },
   "file_extension": ".py",
   "mimetype": "text/x-python",
   "name": "python",
   "nbconvert_exporter": "python",
   "pygments_lexer": "ipython3",
   "version": "3.6.5"
  }
 },
 "nbformat": 4,
 "nbformat_minor": 2
}
