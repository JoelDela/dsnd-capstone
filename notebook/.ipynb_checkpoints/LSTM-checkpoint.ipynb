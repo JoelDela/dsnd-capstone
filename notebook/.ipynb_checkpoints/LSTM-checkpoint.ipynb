{
 "cells": [
  {
   "cell_type": "code",
   "execution_count": 96,
   "metadata": {},
   "outputs": [],
   "source": [
    "import pandas as pd\n",
    "from pandas import DataFrame\n",
    "from pandas import Series\n",
    "from pandas import concat\n",
    "from pandas import read_csv\n",
    "from pandas import datetime\n",
    "from sklearn.metrics import mean_squared_error, mean_absolute_error\n",
    "from sklearn.preprocessing import MinMaxScaler\n",
    "from keras.models import Sequential\n",
    "from keras.layers import Dense\n",
    "from keras.layers import LSTM\n",
    "from math import sqrt\n",
    "from matplotlib import pyplot\n",
    "import numpy\n",
    "import os"
   ]
  },
  {
   "cell_type": "code",
   "execution_count": 17,
   "metadata": {},
   "outputs": [],
   "source": [
    "def load_bergen_data(years = ['2013','2014','2015']):\n",
    "    file_name_1 = 'elspot-prices_'\n",
    "    file_name_2 = '_hourly_dkk.csv'\n",
    "    data_folder = os.getcwd().replace('notebook','data\\\\')\n",
    "    all_data=[]\n",
    "    for year in years:\n",
    "        file_name_tot = data_folder + file_name_1 + year + file_name_2\n",
    "        all_data.append(pd.read_csv(file_name_tot,encoding = \"ISO-8859-1\",sep=';',decimal=','))\n",
    "    df = pd.concat(all_data, ignore_index=True,sort= True)\n",
    "    df = df[['datetime','Hours','Bergen']]\n",
    "    return df"
   ]
  },
  {
   "cell_type": "code",
   "execution_count": 5,
   "metadata": {},
   "outputs": [],
   "source": [
    "def generate_shifted_features(df,time_shift,colname):\n",
    "    pd.options.mode.chained_assignment = None\n",
    "    df = df[['datetime','Hours','Bergen']]\n",
    "    for t in time_shift:\n",
    "        df.loc[:,colname+'_'+str(t)] = df.Bergen.shift(t)\n",
    "    return df"
   ]
  },
  {
   "cell_type": "code",
   "execution_count": 6,
   "metadata": {},
   "outputs": [],
   "source": [
    "def create_train_test(df,test_size = 8000):\n",
    "    df = df.dropna()\n",
    "    train_size = df.shape[0]-test_size\n",
    "    \n",
    "    X_train = df.drop(['Bergen','Hours','datetime'],axis=1).head(train_size)\n",
    "    y_train = df['Bergen'].head(train_size)\n",
    "    X_test = df.drop(['Bergen','Hours','datetime'],axis=1).tail(test_size)\n",
    "    y_test = df['Bergen'].tail(test_size)\n",
    "    \n",
    "    return X_train, y_train, X_test, y_test"
   ]
  },
  {
   "cell_type": "code",
   "execution_count": 86,
   "metadata": {},
   "outputs": [],
   "source": [
    "# date-time parsing function for loading the dataset\n",
    "def parser(x):\n",
    "    return datetime.strptime('190'+x, '%Y-%m')\n",
    "\n",
    "# frame a sequence as a supervised learning problem\n",
    "def timeseries_to_supervised(data, lag=1):\n",
    "    df = DataFrame(data)\n",
    "    columns = [df.shift(i) for i in range(1, lag+1)]\n",
    "    columns.append(df)\n",
    "    df = concat(columns, axis=1)\n",
    "    df.fillna(0, inplace=True)\n",
    "    return df\n",
    "\n",
    "# create a differenced series\n",
    "def difference(dataset, interval=1):\n",
    "    diff = list()\n",
    "    for i in range(interval, len(dataset)):\n",
    "        value = dataset.iloc[i] - dataset.iloc[i - interval]\n",
    "        diff.append(value)\n",
    "    return Series(diff)\n",
    "\n",
    "# invert differenced value\n",
    "def inverse_difference(history, yhat, interval=1):\n",
    "    return yhat + history.iloc[-interval]\n",
    "\n",
    "# scale train and test data to [-1, 1]\n",
    "def scale(train, test):\n",
    "    # fit scaler\n",
    "    scaler = MinMaxScaler(feature_range=(-1, 1))\n",
    "    scaler = scaler.fit(train)\n",
    "    # transform train\n",
    "    train = train.reshape(train.shape[0], train.shape[1])\n",
    "    train_scaled = scaler.transform(train)\n",
    "    # transform test\n",
    "    test = test.reshape(test.shape[0], test.shape[1])\n",
    "    test_scaled = scaler.transform(test)\n",
    "    return scaler, train_scaled, test_scaled\n",
    "\n",
    "# inverse scaling for a forecasted value\n",
    "def invert_scale(scaler, X, value):\n",
    "    new_row = [x for x in X] + [value]\n",
    "    array = numpy.array(new_row)\n",
    "    array = array.reshape(1, len(array))\n",
    "    inverted = scaler.inverse_transform(array)\n",
    "    return inverted[0, -1]\n",
    "\n",
    "# fit an LSTM network to training data\n",
    "def fit_lstm(train, batch_size, nb_epoch, neurons):\n",
    "    X, y = train[:, 0:-1], train[:, -1]\n",
    "    X = X.reshape(X.shape[0], 1, X.shape[1])\n",
    "    model = Sequential()\n",
    "    model.add(LSTM(neurons, batch_input_shape=(batch_size, X.shape[1], X.shape[2]), stateful=True))\n",
    "    model.add(Dense(1))\n",
    "    model.compile(loss='mean_squared_error', optimizer='adam')\n",
    "    for i in range(nb_epoch):\n",
    "        model.fit(X, y, epochs=1, batch_size=batch_size, verbose=1, shuffle=False)\n",
    "        model.reset_states()\n",
    "    return model\n",
    "\n",
    "# make a one-step forecast\n",
    "def forecast_lstm(model, batch_size, X):\n",
    "    X = X.reshape(1, 1, len(X))\n",
    "    yhat = model.predict(X, batch_size=batch_size)\n",
    "    return yhat[0,0]\n"
   ]
  },
  {
   "cell_type": "markdown",
   "metadata": {},
   "source": [
    "## CODE"
   ]
  },
  {
   "cell_type": "code",
   "execution_count": 87,
   "metadata": {},
   "outputs": [],
   "source": [
    "df = load_bergen_data()\n",
    "\n",
    "raw_values = df['Bergen'].dropna()"
   ]
  },
  {
   "cell_type": "code",
   "execution_count": 88,
   "metadata": {},
   "outputs": [],
   "source": [
    "diff_values = difference(raw_values, 1)"
   ]
  },
  {
   "cell_type": "code",
   "execution_count": 89,
   "metadata": {},
   "outputs": [],
   "source": [
    "supervised = timeseries_to_supervised(diff_values, 1)\n",
    "supervised_values = supervised.values"
   ]
  },
  {
   "cell_type": "code",
   "execution_count": 90,
   "metadata": {},
   "outputs": [],
   "source": [
    "test_size = 8000\n",
    "train_size = len(supervised_values)-test_size\n",
    "train, test = supervised_values[0:train_size], supervised_values[train_size:]"
   ]
  },
  {
   "cell_type": "code",
   "execution_count": 91,
   "metadata": {},
   "outputs": [],
   "source": [
    "scaler, train_scaled, test_scaled = scale(train, test)"
   ]
  },
  {
   "cell_type": "code",
   "execution_count": 101,
   "metadata": {},
   "outputs": [
    {
     "name": "stdout",
     "output_type": "stream",
     "text": [
      "Epoch 1/1\n",
      "18279/18279 [==============================] - 25s 1ms/step - loss: 0.0015\n",
      "Epoch 1/1\n",
      "18279/18279 [==============================] - 24s 1ms/step - loss: 0.0014\n",
      "Epoch 1/1\n",
      "18279/18279 [==============================] - 24s 1ms/step - loss: 0.0014\n",
      "Epoch 1/1\n",
      "18279/18279 [==============================] - 24s 1ms/step - loss: 0.0014\n",
      "Epoch 1/1\n",
      "18279/18279 [==============================] - 24s 1ms/step - loss: 0.0014\n",
      "Epoch 1/1\n",
      "18279/18279 [==============================] - 24s 1ms/step - loss: 0.0014\n",
      "Epoch 1/1\n",
      "18279/18279 [==============================] - 24s 1ms/step - loss: 0.0014\n",
      "Epoch 1/1\n",
      "18279/18279 [==============================] - 24s 1ms/step - loss: 0.0014\n",
      "Epoch 1/1\n",
      "18279/18279 [==============================] - 24s 1ms/step - loss: 0.0013\n",
      "Epoch 1/1\n",
      "18279/18279 [==============================] - 24s 1ms/step - loss: 0.0013\n",
      "Epoch 1/1\n",
      "18279/18279 [==============================] - 24s 1ms/step - loss: 0.0013\n",
      "Epoch 1/1\n",
      "18279/18279 [==============================] - 24s 1ms/step - loss: 0.0013\n",
      "Epoch 1/1\n",
      "18279/18279 [==============================] - 24s 1ms/step - loss: 0.0013\n",
      "Epoch 1/1\n",
      "18279/18279 [==============================] - 24s 1ms/step - loss: 0.0013\n",
      "Epoch 1/1\n",
      "18279/18279 [==============================] - 24s 1ms/step - loss: 0.0013\n",
      "Epoch 1/1\n",
      "18279/18279 [==============================] - 24s 1ms/step - loss: 0.0013\n",
      "Epoch 1/1\n",
      "18279/18279 [==============================] - 24s 1ms/step - loss: 0.0013\n",
      "Epoch 1/1\n",
      "18279/18279 [==============================] - 24s 1ms/step - loss: 0.0013\n",
      "Epoch 1/1\n",
      "18279/18279 [==============================] - 24s 1ms/step - loss: 0.0013\n",
      "Epoch 1/1\n",
      "18279/18279 [==============================] - 24s 1ms/step - loss: 0.0013\n",
      "Epoch 1/1\n",
      "18279/18279 [==============================] - 24s 1ms/step - loss: 0.0013\n",
      "Epoch 1/1\n",
      "18279/18279 [==============================] - 24s 1ms/step - loss: 0.0013\n",
      "Epoch 1/1\n",
      "18279/18279 [==============================] - 24s 1ms/step - loss: 0.0013\n",
      "Epoch 1/1\n",
      "18279/18279 [==============================] - 24s 1ms/step - loss: 0.0013\n",
      "Epoch 1/1\n",
      "18279/18279 [==============================] - 24s 1ms/step - loss: 0.0013\n",
      "Epoch 1/1\n",
      "18279/18279 [==============================] - 24s 1ms/step - loss: 0.0013\n",
      "Epoch 1/1\n",
      "18279/18279 [==============================] - 24s 1ms/step - loss: 0.0013\n",
      "Epoch 1/1\n",
      "18279/18279 [==============================] - 24s 1ms/step - loss: 0.0013\n",
      "Epoch 1/1\n",
      "18279/18279 [==============================] - 24s 1ms/step - loss: 0.0013\n",
      "Epoch 1/1\n",
      "18279/18279 [==============================] - 24s 1ms/step - loss: 0.0013\n",
      "Epoch 1/1\n",
      "18279/18279 [==============================] - 24s 1ms/step - loss: 0.0013\n",
      "Epoch 1/1\n",
      "18279/18279 [==============================] - 24s 1ms/step - loss: 0.0013\n",
      "Epoch 1/1\n",
      "18279/18279 [==============================] - 24s 1ms/step - loss: 0.0013\n",
      "Epoch 1/1\n",
      "18279/18279 [==============================] - 24s 1ms/step - loss: 0.0013\n",
      "Epoch 1/1\n",
      "18279/18279 [==============================] - 24s 1ms/step - loss: 0.0013\n",
      "Epoch 1/1\n",
      "18279/18279 [==============================] - 24s 1ms/step - loss: 0.0013\n",
      "Epoch 1/1\n",
      "18279/18279 [==============================] - 24s 1ms/step - loss: 0.0013\n",
      "Epoch 1/1\n",
      "18279/18279 [==============================] - 24s 1ms/step - loss: 0.0013\n",
      "Epoch 1/1\n",
      "18279/18279 [==============================] - 24s 1ms/step - loss: 0.0013\n",
      "Epoch 1/1\n",
      "18279/18279 [==============================] - 24s 1ms/step - loss: 0.0013\n",
      "Epoch 1/1\n",
      "18279/18279 [==============================] - 24s 1ms/step - loss: 0.0013\n",
      "Epoch 1/1\n",
      "18279/18279 [==============================] - 24s 1ms/step - loss: 0.0013\n",
      "Epoch 1/1\n",
      "18279/18279 [==============================] - 24s 1ms/step - loss: 0.0013\n",
      "Epoch 1/1\n",
      "18279/18279 [==============================] - 24s 1ms/step - loss: 0.0013\n",
      "Epoch 1/1\n",
      "18279/18279 [==============================] - 24s 1ms/step - loss: 0.0013\n",
      "Epoch 1/1\n",
      "18279/18279 [==============================] - 24s 1ms/step - loss: 0.0013\n",
      "Epoch 1/1\n",
      "18279/18279 [==============================] - 24s 1ms/step - loss: 0.0013\n",
      "Epoch 1/1\n",
      "18279/18279 [==============================] - 24s 1ms/step - loss: 0.0013\n",
      "Epoch 1/1\n",
      "18279/18279 [==============================] - 24s 1ms/step - loss: 0.0013\n",
      "Epoch 1/1\n",
      "18279/18279 [==============================] - 24s 1ms/step - loss: 0.0013\n"
     ]
    },
    {
     "data": {
      "text/plain": [
       "array([[0.02238812],\n",
       "       [0.01998907],\n",
       "       [0.02562597],\n",
       "       ...,\n",
       "       [0.0272676 ],\n",
       "       [0.02596288],\n",
       "       [0.02862387]], dtype=float32)"
      ]
     },
     "execution_count": 101,
     "metadata": {},
     "output_type": "execute_result"
    }
   ],
   "source": [
    "# fit the model\n",
    "lstm_model = fit_lstm(train_scaled, 1, 50, 2)\n",
    "# forecast the entire training dataset to build up state for forecasting\n",
    "train_reshaped = train_scaled[:, 0].reshape(len(train_scaled), 1, 1)\n",
    "lstm_model.predict(train_reshaped, batch_size=1)"
   ]
  },
  {
   "cell_type": "markdown",
   "metadata": {},
   "source": [
    "## SAMPLE CODE"
   ]
  },
  {
   "cell_type": "code",
   "execution_count": 108,
   "metadata": {},
   "outputs": [
    {
     "name": "stdout",
     "output_type": "stream",
     "text": [
      "Month=1, Predicted=212.707954, Expected=216.010000\n",
      "Month=1001, Predicted=181.164779, Expected=181.140000\n",
      "Month=2001, Predicted=167.447543, Expected=155.700000\n",
      "Month=3001, Predicted=66.941708, Expected=69.960000\n",
      "Month=4001, Predicted=58.203264, Expected=58.580000\n",
      "Month=5001, Predicted=97.987947, Expected=83.590000\n",
      "Month=6001, Predicted=156.775477, Expected=158.880000\n",
      "Month=7001, Predicted=216.863781, Expected=222.000000\n",
      "Test RMSE: 10.599\n",
      "Test MAE: 4.120\n"
     ]
    }
   ],
   "source": [
    "# walk-forward validation on the test data\n",
    "predictions = list()\n",
    "for i in range(len(test_scaled)):\n",
    "    # make one-step forecast\n",
    "    X, y = test_scaled[i, 0:-1], test_scaled[i, -1]\n",
    "    yhat = forecast_lstm(lstm_model, 1, X)\n",
    "    # invert scaling\n",
    "    yhat = invert_scale(scaler, X, yhat)\n",
    "    # invert differencing\n",
    "    yhat = inverse_difference(raw_values, yhat, len(test_scaled)+1-i)\n",
    "    # store forecast\n",
    "    predictions.append(yhat)\n",
    "    expected = raw_values.iloc[len(train) + i + 1]\n",
    "    if (i % 1000 == 0):\n",
    "        print('Month=%d, Predicted=%f, Expected=%f' % (i+1, yhat, expected))\n",
    "\n",
    "# report performance\n",
    "rmse = sqrt(mean_squared_error(raw_values[train_size+1:], predictions))\n",
    "mae = mean_absolute_error(raw_values[train_size+1:], predictions)\n",
    "print('Test RMSE: %.3f' % rmse)\n",
    "print('Test MAE: %.3f' % mae)\n"
   ]
  },
  {
   "cell_type": "code",
   "execution_count": 114,
   "metadata": {},
   "outputs": [
    {
     "data": {
      "image/png": "[encoded data removed]",
      "text/plain": [
       "<Figure size 1080x504 with 1 Axes>"
      ]
     },
     "metadata": {},
     "output_type": "display_data"
    }
   ],
   "source": [
    "# line plot of observed vs predicted\n",
    "pyplot.figure(figsize=(15,7))\n",
    "subset= 200\n",
    "pyplot.plot(range(subset),raw_values[-subset:],color = 'b')\n",
    "pyplot.plot(range(subset),predictions[-subset:], color = 'r')\n",
    "pyplot.show()"
   ]
  },
  {
   "cell_type": "code",
   "execution_count": null,
   "metadata": {},
   "outputs": [],
   "source": []
  }
 ],
 "metadata": {
  "kernelspec": {
   "display_name": "Python 3",
   "language": "python",
   "name": "python3"
  },
  "language_info": {
   "codemirror_mode": {
    "name": "ipython",
    "version": 3
   },
   "file_extension": ".py",
   "mimetype": "text/x-python",
   "name": "python",
   "nbconvert_exporter": "python",
   "pygments_lexer": "ipython3",
   "version": "3.6.5"
  }
 },
 "nbformat": 4,
 "nbformat_minor": 2
}
