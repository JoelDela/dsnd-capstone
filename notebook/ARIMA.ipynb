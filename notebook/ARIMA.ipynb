{
 "cells": [
  {
   "cell_type": "markdown",
   "metadata": {},
   "source": [
    "### PRELIMINARY ETL PIPELINE"
   ]
  },
  {
   "cell_type": "code",
   "execution_count": 1,
   "metadata": {},
   "outputs": [
    {
     "name": "stderr",
     "output_type": "stream",
     "text": [
      "C:\\ProgramData\\Anaconda3\\lib\\site-packages\\sklearn\\ensemble\\weight_boosting.py:29: DeprecationWarning: numpy.core.umath_tests is an internal NumPy module and should not be imported. It will be removed in a future NumPy release.\n",
      "  from numpy.core.umath_tests import inner1d\n"
     ]
    }
   ],
   "source": [
    "import pandas as pd\n",
    "import numpy as np\n",
    "import os\n",
    "import glob\n",
    "from tqdm import tqdm\n",
    "from sklearn.model_selection import train_test_split\n",
    "from sklearn.model_selection import GridSearchCV, KFold\n",
    "from sklearn.ensemble import RandomForestRegressor\n",
    "from sklearn.metrics import make_scorer\n",
    "from sklearn.metrics import mean_absolute_error, mean_squared_error\n",
    "import matplotlib.pyplot as plt\n",
    "from statsmodels.tsa.arima_model import ARIMA"
   ]
  },
  {
   "cell_type": "code",
   "execution_count": 2,
   "metadata": {},
   "outputs": [
    {
     "data": {
      "text/plain": [
       "'C:\\\\Users\\\\bonano1m\\\\Documents\\\\capstone\\\\data'"
      ]
     },
     "execution_count": 2,
     "metadata": {},
     "output_type": "execute_result"
    }
   ],
   "source": [
    "os.getcwd().replace('notebook','data')"
   ]
  },
  {
   "cell_type": "code",
   "execution_count": 3,
   "metadata": {
    "scrolled": true
   },
   "outputs": [
    {
     "name": "stderr",
     "output_type": "stream",
     "text": [
      "C:\\ProgramData\\Anaconda3\\lib\\site-packages\\ipykernel_launcher.py:9: FutureWarning: Sorting because non-concatenation axis is not aligned. A future version\n",
      "of pandas will change to not sort by default.\n",
      "\n",
      "To accept the future behavior, pass 'sort=False'.\n",
      "\n",
      "To retain the current behavior and silence the warning, pass 'sort=True'.\n",
      "\n",
      "  if __name__ == '__main__':\n"
     ]
    }
   ],
   "source": [
    "file_name_1 = 'elspot-prices_'\n",
    "file_name_2 = '_hourly_dkk.csv'\n",
    "years = ['2013','2014','2015']\n",
    "data_folder = os.getcwd().replace('notebook','data\\\\')\n",
    "all_data=[]\n",
    "for year in years:\n",
    "    file_name_tot = data_folder + file_name_1 + year + file_name_2\n",
    "    all_data.append(pd.read_csv(file_name_tot,encoding = \"ISO-8859-1\",sep=';',decimal=','))\n",
    "df = pd.concat(all_data, ignore_index=True)"
   ]
  },
  {
   "cell_type": "code",
   "execution_count": 4,
   "metadata": {},
   "outputs": [
    {
     "data": {
      "text/html": [
       "<div>\n",
       "<style scoped>\n",
       "    .dataframe tbody tr th:only-of-type {\n",
       "        vertical-align: middle;\n",
       "    }\n",
       "\n",
       "    .dataframe tbody tr th {\n",
       "        vertical-align: top;\n",
       "    }\n",
       "\n",
       "    .dataframe thead th {\n",
       "        text-align: right;\n",
       "    }\n",
       "</style>\n",
       "<table border=\"1\" class=\"dataframe\">\n",
       "  <thead>\n",
       "    <tr style=\"text-align: right;\">\n",
       "      <th></th>\n",
       "      <th>Bergen</th>\n",
       "      <th>DK1</th>\n",
       "      <th>DK2</th>\n",
       "      <th>EE</th>\n",
       "      <th>ELE</th>\n",
       "      <th>FI</th>\n",
       "      <th>FRE</th>\n",
       "      <th>Hours</th>\n",
       "      <th>Kr.sand</th>\n",
       "      <th>LT</th>\n",
       "      <th>...</th>\n",
       "      <th>Molde</th>\n",
       "      <th>Oslo</th>\n",
       "      <th>SE1</th>\n",
       "      <th>SE2</th>\n",
       "      <th>SE3</th>\n",
       "      <th>SE4</th>\n",
       "      <th>SYS</th>\n",
       "      <th>Tr.heim</th>\n",
       "      <th>Tromsø</th>\n",
       "      <th>datetime</th>\n",
       "    </tr>\n",
       "  </thead>\n",
       "  <tbody>\n",
       "    <tr>\n",
       "      <th>0</th>\n",
       "      <td>246.01</td>\n",
       "      <td>104.66</td>\n",
       "      <td>104.66</td>\n",
       "      <td>232.14</td>\n",
       "      <td>232.14</td>\n",
       "      <td>231.54</td>\n",
       "      <td>NaN</td>\n",
       "      <td>00 - 01</td>\n",
       "      <td>246.01</td>\n",
       "      <td>182.16</td>\n",
       "      <td>...</td>\n",
       "      <td>231.54</td>\n",
       "      <td>246.01</td>\n",
       "      <td>231.54</td>\n",
       "      <td>231.54</td>\n",
       "      <td>231.54</td>\n",
       "      <td>231.54</td>\n",
       "      <td>231.62</td>\n",
       "      <td>231.54</td>\n",
       "      <td>231.54</td>\n",
       "      <td>01/01/2013</td>\n",
       "    </tr>\n",
       "    <tr>\n",
       "      <th>1</th>\n",
       "      <td>245.94</td>\n",
       "      <td>82.50</td>\n",
       "      <td>82.50</td>\n",
       "      <td>228.34</td>\n",
       "      <td>228.34</td>\n",
       "      <td>205.21</td>\n",
       "      <td>NaN</td>\n",
       "      <td>01 - 02</td>\n",
       "      <td>245.94</td>\n",
       "      <td>176.19</td>\n",
       "      <td>...</td>\n",
       "      <td>229.83</td>\n",
       "      <td>245.94</td>\n",
       "      <td>205.21</td>\n",
       "      <td>205.21</td>\n",
       "      <td>205.21</td>\n",
       "      <td>205.21</td>\n",
       "      <td>227.29</td>\n",
       "      <td>229.83</td>\n",
       "      <td>229.83</td>\n",
       "      <td>01/01/2013</td>\n",
       "    </tr>\n",
       "    <tr>\n",
       "      <th>2</th>\n",
       "      <td>243.11</td>\n",
       "      <td>63.41</td>\n",
       "      <td>63.41</td>\n",
       "      <td>182.31</td>\n",
       "      <td>182.31</td>\n",
       "      <td>182.31</td>\n",
       "      <td>NaN</td>\n",
       "      <td>02 - 03</td>\n",
       "      <td>243.11</td>\n",
       "      <td>178.51</td>\n",
       "      <td>...</td>\n",
       "      <td>229.53</td>\n",
       "      <td>243.11</td>\n",
       "      <td>182.31</td>\n",
       "      <td>182.31</td>\n",
       "      <td>182.31</td>\n",
       "      <td>182.31</td>\n",
       "      <td>215.73</td>\n",
       "      <td>229.53</td>\n",
       "      <td>229.53</td>\n",
       "      <td>01/01/2013</td>\n",
       "    </tr>\n",
       "    <tr>\n",
       "      <th>3</th>\n",
       "      <td>235.20</td>\n",
       "      <td>0.75</td>\n",
       "      <td>0.75</td>\n",
       "      <td>162.69</td>\n",
       "      <td>162.69</td>\n",
       "      <td>162.69</td>\n",
       "      <td>NaN</td>\n",
       "      <td>03 - 04</td>\n",
       "      <td>235.20</td>\n",
       "      <td>177.91</td>\n",
       "      <td>...</td>\n",
       "      <td>229.08</td>\n",
       "      <td>235.20</td>\n",
       "      <td>162.69</td>\n",
       "      <td>162.69</td>\n",
       "      <td>162.69</td>\n",
       "      <td>162.69</td>\n",
       "      <td>207.97</td>\n",
       "      <td>229.08</td>\n",
       "      <td>229.08</td>\n",
       "      <td>01/01/2013</td>\n",
       "    </tr>\n",
       "    <tr>\n",
       "      <th>4</th>\n",
       "      <td>227.81</td>\n",
       "      <td>14.99</td>\n",
       "      <td>14.99</td>\n",
       "      <td>166.87</td>\n",
       "      <td>166.87</td>\n",
       "      <td>166.87</td>\n",
       "      <td>NaN</td>\n",
       "      <td>04 - 05</td>\n",
       "      <td>227.81</td>\n",
       "      <td>173.51</td>\n",
       "      <td>...</td>\n",
       "      <td>228.48</td>\n",
       "      <td>227.81</td>\n",
       "      <td>166.87</td>\n",
       "      <td>166.87</td>\n",
       "      <td>166.87</td>\n",
       "      <td>166.87</td>\n",
       "      <td>201.11</td>\n",
       "      <td>228.48</td>\n",
       "      <td>228.48</td>\n",
       "      <td>01/01/2013</td>\n",
       "    </tr>\n",
       "  </tbody>\n",
       "</table>\n",
       "<p>5 rows × 21 columns</p>\n",
       "</div>"
      ],
      "text/plain": [
       "   Bergen     DK1     DK2      EE     ELE      FI  FRE    Hours  Kr.sand  \\\n",
       "0  246.01  104.66  104.66  232.14  232.14  231.54  NaN  00 - 01   246.01   \n",
       "1  245.94   82.50   82.50  228.34  228.34  205.21  NaN  01 - 02   245.94   \n",
       "2  243.11   63.41   63.41  182.31  182.31  182.31  NaN  02 - 03   243.11   \n",
       "3  235.20    0.75    0.75  162.69  162.69  162.69  NaN  03 - 04   235.20   \n",
       "4  227.81   14.99   14.99  166.87  166.87  166.87  NaN  04 - 05   227.81   \n",
       "\n",
       "       LT     ...       Molde    Oslo     SE1     SE2     SE3     SE4     SYS  \\\n",
       "0  182.16     ...      231.54  246.01  231.54  231.54  231.54  231.54  231.62   \n",
       "1  176.19     ...      229.83  245.94  205.21  205.21  205.21  205.21  227.29   \n",
       "2  178.51     ...      229.53  243.11  182.31  182.31  182.31  182.31  215.73   \n",
       "3  177.91     ...      229.08  235.20  162.69  162.69  162.69  162.69  207.97   \n",
       "4  173.51     ...      228.48  227.81  166.87  166.87  166.87  166.87  201.11   \n",
       "\n",
       "   Tr.heim  Tromsø    datetime  \n",
       "0   231.54  231.54  01/01/2013  \n",
       "1   229.83  229.83  01/01/2013  \n",
       "2   229.53  229.53  01/01/2013  \n",
       "3   229.08  229.08  01/01/2013  \n",
       "4   228.48  228.48  01/01/2013  \n",
       "\n",
       "[5 rows x 21 columns]"
      ]
     },
     "execution_count": 4,
     "metadata": {},
     "output_type": "execute_result"
    }
   ],
   "source": [
    "df.head()"
   ]
  },
  {
   "cell_type": "code",
   "execution_count": 5,
   "metadata": {},
   "outputs": [
    {
     "data": {
      "text/plain": [
       "(26283, 21)"
      ]
     },
     "execution_count": 5,
     "metadata": {},
     "output_type": "execute_result"
    }
   ],
   "source": [
    "df.shape"
   ]
  },
  {
   "cell_type": "code",
   "execution_count": 6,
   "metadata": {},
   "outputs": [],
   "source": [
    "df_bergen = df[['datetime','Hours','Bergen']]"
   ]
  },
  {
   "cell_type": "code",
   "execution_count": 7,
   "metadata": {},
   "outputs": [],
   "source": [
    "pd.options.mode.chained_assignment = None"
   ]
  },
  {
   "cell_type": "code",
   "execution_count": 8,
   "metadata": {},
   "outputs": [
    {
     "data": {
      "text/html": [
       "<div>\n",
       "<style scoped>\n",
       "    .dataframe tbody tr th:only-of-type {\n",
       "        vertical-align: middle;\n",
       "    }\n",
       "\n",
       "    .dataframe tbody tr th {\n",
       "        vertical-align: top;\n",
       "    }\n",
       "\n",
       "    .dataframe thead th {\n",
       "        text-align: right;\n",
       "    }\n",
       "</style>\n",
       "<table border=\"1\" class=\"dataframe\">\n",
       "  <thead>\n",
       "    <tr style=\"text-align: right;\">\n",
       "      <th></th>\n",
       "      <th>datetime</th>\n",
       "      <th>Hours</th>\n",
       "      <th>Bergen</th>\n",
       "    </tr>\n",
       "  </thead>\n",
       "  <tbody>\n",
       "    <tr>\n",
       "      <th>0</th>\n",
       "      <td>01/01/2013</td>\n",
       "      <td>00 - 01</td>\n",
       "      <td>246.01</td>\n",
       "    </tr>\n",
       "    <tr>\n",
       "      <th>1</th>\n",
       "      <td>01/01/2013</td>\n",
       "      <td>01 - 02</td>\n",
       "      <td>245.94</td>\n",
       "    </tr>\n",
       "    <tr>\n",
       "      <th>2</th>\n",
       "      <td>01/01/2013</td>\n",
       "      <td>02 - 03</td>\n",
       "      <td>243.11</td>\n",
       "    </tr>\n",
       "    <tr>\n",
       "      <th>3</th>\n",
       "      <td>01/01/2013</td>\n",
       "      <td>03 - 04</td>\n",
       "      <td>235.20</td>\n",
       "    </tr>\n",
       "    <tr>\n",
       "      <th>4</th>\n",
       "      <td>01/01/2013</td>\n",
       "      <td>04 - 05</td>\n",
       "      <td>227.81</td>\n",
       "    </tr>\n",
       "  </tbody>\n",
       "</table>\n",
       "</div>"
      ],
      "text/plain": [
       "     datetime    Hours  Bergen\n",
       "0  01/01/2013  00 - 01  246.01\n",
       "1  01/01/2013  01 - 02  245.94\n",
       "2  01/01/2013  02 - 03  243.11\n",
       "3  01/01/2013  03 - 04  235.20\n",
       "4  01/01/2013  04 - 05  227.81"
      ]
     },
     "execution_count": 8,
     "metadata": {},
     "output_type": "execute_result"
    }
   ],
   "source": [
    "df_bergen.head()"
   ]
  },
  {
   "cell_type": "code",
   "execution_count": 9,
   "metadata": {},
   "outputs": [],
   "source": [
    "df_bergen = df_bergen.dropna()"
   ]
  },
  {
   "cell_type": "code",
   "execution_count": 13,
   "metadata": {},
   "outputs": [],
   "source": [
    "# evaluate an ARIMA model for a given order (p,d,q)\n",
    "def evaluate_arima_model(X, arima_order):\n",
    "    # prepare training dataset\n",
    "    train_size = int(len(X) * 0.999)\n",
    "    train, test = X[0:train_size], X[train_size:]\n",
    "    history = [x for x in train]\n",
    "    # make predictions\n",
    "    predictions = list()\n",
    "    for t in tqdm(range(len(test))):\n",
    "        model = ARIMA(history, order=arima_order)\n",
    "        model_fit = model.fit(disp=0)\n",
    "        yhat = model_fit.forecast()[0]\n",
    "        predictions.append(yhat)\n",
    "        history.append(test[t])\n",
    "    # calculate out of sample error\n",
    "    mse = mean_squared_error(test, predictions)\n",
    "    mae = mean_absolute_error(test,predictions)\n",
    "    return mse,mae,test,predictions"
   ]
  },
  {
   "cell_type": "code",
   "execution_count": 14,
   "metadata": {},
   "outputs": [
    {
     "name": "stderr",
     "output_type": "stream",
     "text": [
      "100%|██████████████████████████████████████████████████████████████████████████████████| 27/27 [04:31<00:00,  8.25s/it]\n"
     ]
    }
   ],
   "source": [
    "mse,mae,test,predictions = evaluate_arima_model(list(df_bergen.Bergen),(1,1,1))"
   ]
  },
  {
   "cell_type": "code",
   "execution_count": 15,
   "metadata": {},
   "outputs": [
    {
     "data": {
      "image/png": "[encoded data removed]",
      "text/plain": [
       "<Figure size 576x576 with 1 Axes>"
      ]
     },
     "metadata": {
      "needs_background": "light"
     },
     "output_type": "display_data"
    }
   ],
   "source": [
    "plt.figure(figsize=(8,8))\n",
    "plt.plot(range(len(test)),predictions,color='r')\n",
    "plt.plot(range(len(test)),test,color='b')\n",
    "plt.show()"
   ]
  },
  {
   "cell_type": "code",
   "execution_count": 16,
   "metadata": {},
   "outputs": [
    {
     "data": {
      "text/plain": [
       "(15.235349713944588, 2.6557243253585456)"
      ]
     },
     "execution_count": 16,
     "metadata": {},
     "output_type": "execute_result"
    }
   ],
   "source": [
    "mse, mae"
   ]
  },
  {
   "cell_type": "code",
   "execution_count": null,
   "metadata": {},
   "outputs": [],
   "source": [
    "# evaluate combinations of p, d and q values for an ARIMA model\n",
    "def evaluate_models(dataset, p_values, d_values, q_values):\n",
    "    dataset = dataset.astype('float32')\n",
    "    best_score, best_cfg = float(\"inf\"), None\n",
    "    for p in p_values:\n",
    "        for d in d_values:\n",
    "            for q in q_values:\n",
    "                order = (p,d,q)\n",
    "                try:\n",
    "                    mse = evaluate_arima_model(dataset, order)\n",
    "                    if mse < best_score:\n",
    "                        best_score, best_cfg = mse, order\n",
    "                    print('ARIMA%s MSE=%.3f' % (order,mse))\n",
    "                except:\n",
    "                    continue\n",
    "    print('Best ARIMA%s MSE=%.3f' % (best_cfg, best_score))"
   ]
  }
 ],
 "metadata": {
  "kernelspec": {
   "display_name": "Python 3",
   "language": "python",
   "name": "python3"
  },
  "language_info": {
   "codemirror_mode": {
    "name": "ipython",
    "version": 3
   },
   "file_extension": ".py",
   "mimetype": "text/x-python",
   "name": "python",
   "nbconvert_exporter": "python",
   "pygments_lexer": "ipython3",
   "version": "3.7.0"
  }
 },
 "nbformat": 4,
 "nbformat_minor": 2
}
