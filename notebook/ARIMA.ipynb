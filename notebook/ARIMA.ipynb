{
 "cells": [
  {
   "cell_type": "markdown",
   "metadata": {},
   "source": [
    "### ARIMA MODEL"
   ]
  },
  {
   "cell_type": "code",
   "execution_count": 16,
   "metadata": {},
   "outputs": [],
   "source": [
    "import pandas as pd\n",
    "import numpy as np\n",
    "import os\n",
    "import glob\n",
    "from tqdm import tqdm, tqdm_notebook\n",
    "from sklearn.model_selection import train_test_split\n",
    "from sklearn.model_selection import GridSearchCV, KFold\n",
    "from sklearn.ensemble import RandomForestRegressor\n",
    "from sklearn.metrics import make_scorer\n",
    "from sklearn.metrics import mean_absolute_error, mean_squared_error\n",
    "import matplotlib.pyplot as plt\n",
    "from math import sqrt\n",
    "from statsmodels.tsa.arima_model import ARIMA\n",
    "from pandas.plotting import autocorrelation_plot"
   ]
  },
  {
   "cell_type": "code",
   "execution_count": 2,
   "metadata": {
    "scrolled": true
   },
   "outputs": [],
   "source": [
    "def load_data(years = ['2013','2014','2015']):\n",
    "    file_name_1 = 'elspot-prices_'\n",
    "    file_name_2 = '_hourly_dkk.csv'\n",
    "    data_folder = os.getcwd().replace('notebook','data\\\\')\n",
    "    all_data=[]\n",
    "    for year in years:\n",
    "        file_name_tot = data_folder + file_name_1 + year + file_name_2\n",
    "        all_data.append(pd.read_csv(file_name_tot,encoding = \"ISO-8859-1\",sep=';',decimal=','))\n",
    "    df = pd.concat(all_data, ignore_index=True,sort= True)\n",
    "    return df\n"
   ]
  },
  {
   "cell_type": "code",
   "execution_count": 3,
   "metadata": {},
   "outputs": [
    {
     "data": {
      "text/html": [
       "<div>\n",
       "<style scoped>\n",
       "    .dataframe tbody tr th:only-of-type {\n",
       "        vertical-align: middle;\n",
       "    }\n",
       "\n",
       "    .dataframe tbody tr th {\n",
       "        vertical-align: top;\n",
       "    }\n",
       "\n",
       "    .dataframe thead th {\n",
       "        text-align: right;\n",
       "    }\n",
       "</style>\n",
       "<table border=\"1\" class=\"dataframe\">\n",
       "  <thead>\n",
       "    <tr style=\"text-align: right;\">\n",
       "      <th></th>\n",
       "      <th>Bergen</th>\n",
       "      <th>DK1</th>\n",
       "      <th>DK2</th>\n",
       "      <th>EE</th>\n",
       "      <th>ELE</th>\n",
       "      <th>FI</th>\n",
       "      <th>FRE</th>\n",
       "      <th>Hours</th>\n",
       "      <th>Kr.sand</th>\n",
       "      <th>LT</th>\n",
       "      <th>...</th>\n",
       "      <th>Molde</th>\n",
       "      <th>Oslo</th>\n",
       "      <th>SE1</th>\n",
       "      <th>SE2</th>\n",
       "      <th>SE3</th>\n",
       "      <th>SE4</th>\n",
       "      <th>SYS</th>\n",
       "      <th>Tr.heim</th>\n",
       "      <th>Tromsø</th>\n",
       "      <th>datetime</th>\n",
       "    </tr>\n",
       "  </thead>\n",
       "  <tbody>\n",
       "    <tr>\n",
       "      <th>0</th>\n",
       "      <td>246.01</td>\n",
       "      <td>104.66</td>\n",
       "      <td>104.66</td>\n",
       "      <td>232.14</td>\n",
       "      <td>232.14</td>\n",
       "      <td>231.54</td>\n",
       "      <td>NaN</td>\n",
       "      <td>00 - 01</td>\n",
       "      <td>246.01</td>\n",
       "      <td>182.16</td>\n",
       "      <td>...</td>\n",
       "      <td>231.54</td>\n",
       "      <td>246.01</td>\n",
       "      <td>231.54</td>\n",
       "      <td>231.54</td>\n",
       "      <td>231.54</td>\n",
       "      <td>231.54</td>\n",
       "      <td>231.62</td>\n",
       "      <td>231.54</td>\n",
       "      <td>231.54</td>\n",
       "      <td>01/01/2013</td>\n",
       "    </tr>\n",
       "    <tr>\n",
       "      <th>1</th>\n",
       "      <td>245.94</td>\n",
       "      <td>82.50</td>\n",
       "      <td>82.50</td>\n",
       "      <td>228.34</td>\n",
       "      <td>228.34</td>\n",
       "      <td>205.21</td>\n",
       "      <td>NaN</td>\n",
       "      <td>01 - 02</td>\n",
       "      <td>245.94</td>\n",
       "      <td>176.19</td>\n",
       "      <td>...</td>\n",
       "      <td>229.83</td>\n",
       "      <td>245.94</td>\n",
       "      <td>205.21</td>\n",
       "      <td>205.21</td>\n",
       "      <td>205.21</td>\n",
       "      <td>205.21</td>\n",
       "      <td>227.29</td>\n",
       "      <td>229.83</td>\n",
       "      <td>229.83</td>\n",
       "      <td>01/01/2013</td>\n",
       "    </tr>\n",
       "    <tr>\n",
       "      <th>2</th>\n",
       "      <td>243.11</td>\n",
       "      <td>63.41</td>\n",
       "      <td>63.41</td>\n",
       "      <td>182.31</td>\n",
       "      <td>182.31</td>\n",
       "      <td>182.31</td>\n",
       "      <td>NaN</td>\n",
       "      <td>02 - 03</td>\n",
       "      <td>243.11</td>\n",
       "      <td>178.51</td>\n",
       "      <td>...</td>\n",
       "      <td>229.53</td>\n",
       "      <td>243.11</td>\n",
       "      <td>182.31</td>\n",
       "      <td>182.31</td>\n",
       "      <td>182.31</td>\n",
       "      <td>182.31</td>\n",
       "      <td>215.73</td>\n",
       "      <td>229.53</td>\n",
       "      <td>229.53</td>\n",
       "      <td>01/01/2013</td>\n",
       "    </tr>\n",
       "    <tr>\n",
       "      <th>3</th>\n",
       "      <td>235.20</td>\n",
       "      <td>0.75</td>\n",
       "      <td>0.75</td>\n",
       "      <td>162.69</td>\n",
       "      <td>162.69</td>\n",
       "      <td>162.69</td>\n",
       "      <td>NaN</td>\n",
       "      <td>03 - 04</td>\n",
       "      <td>235.20</td>\n",
       "      <td>177.91</td>\n",
       "      <td>...</td>\n",
       "      <td>229.08</td>\n",
       "      <td>235.20</td>\n",
       "      <td>162.69</td>\n",
       "      <td>162.69</td>\n",
       "      <td>162.69</td>\n",
       "      <td>162.69</td>\n",
       "      <td>207.97</td>\n",
       "      <td>229.08</td>\n",
       "      <td>229.08</td>\n",
       "      <td>01/01/2013</td>\n",
       "    </tr>\n",
       "    <tr>\n",
       "      <th>4</th>\n",
       "      <td>227.81</td>\n",
       "      <td>14.99</td>\n",
       "      <td>14.99</td>\n",
       "      <td>166.87</td>\n",
       "      <td>166.87</td>\n",
       "      <td>166.87</td>\n",
       "      <td>NaN</td>\n",
       "      <td>04 - 05</td>\n",
       "      <td>227.81</td>\n",
       "      <td>173.51</td>\n",
       "      <td>...</td>\n",
       "      <td>228.48</td>\n",
       "      <td>227.81</td>\n",
       "      <td>166.87</td>\n",
       "      <td>166.87</td>\n",
       "      <td>166.87</td>\n",
       "      <td>166.87</td>\n",
       "      <td>201.11</td>\n",
       "      <td>228.48</td>\n",
       "      <td>228.48</td>\n",
       "      <td>01/01/2013</td>\n",
       "    </tr>\n",
       "  </tbody>\n",
       "</table>\n",
       "<p>5 rows × 21 columns</p>\n",
       "</div>"
      ],
      "text/plain": [
       "   Bergen     DK1     DK2      EE     ELE      FI  FRE    Hours  Kr.sand  \\\n",
       "0  246.01  104.66  104.66  232.14  232.14  231.54  NaN  00 - 01   246.01   \n",
       "1  245.94   82.50   82.50  228.34  228.34  205.21  NaN  01 - 02   245.94   \n",
       "2  243.11   63.41   63.41  182.31  182.31  182.31  NaN  02 - 03   243.11   \n",
       "3  235.20    0.75    0.75  162.69  162.69  162.69  NaN  03 - 04   235.20   \n",
       "4  227.81   14.99   14.99  166.87  166.87  166.87  NaN  04 - 05   227.81   \n",
       "\n",
       "       LT     ...       Molde    Oslo     SE1     SE2     SE3     SE4     SYS  \\\n",
       "0  182.16     ...      231.54  246.01  231.54  231.54  231.54  231.54  231.62   \n",
       "1  176.19     ...      229.83  245.94  205.21  205.21  205.21  205.21  227.29   \n",
       "2  178.51     ...      229.53  243.11  182.31  182.31  182.31  182.31  215.73   \n",
       "3  177.91     ...      229.08  235.20  162.69  162.69  162.69  162.69  207.97   \n",
       "4  173.51     ...      228.48  227.81  166.87  166.87  166.87  166.87  201.11   \n",
       "\n",
       "   Tr.heim  Tromsø    datetime  \n",
       "0   231.54  231.54  01/01/2013  \n",
       "1   229.83  229.83  01/01/2013  \n",
       "2   229.53  229.53  01/01/2013  \n",
       "3   229.08  229.08  01/01/2013  \n",
       "4   228.48  228.48  01/01/2013  \n",
       "\n",
       "[5 rows x 21 columns]"
      ]
     },
     "execution_count": 3,
     "metadata": {},
     "output_type": "execute_result"
    }
   ],
   "source": [
    "df = load_data()\n",
    "df.head()"
   ]
  },
  {
   "cell_type": "code",
   "execution_count": 4,
   "metadata": {},
   "outputs": [],
   "source": [
    "def create_train_test(df,test_size = 8000):\n",
    "    pd.options.mode.chained_assignment = None\n",
    "    df = df[['datetime','Hours','Bergen']]\n",
    "    df = df.dropna()\n",
    "    train_size = df.shape[0]-test_size\n",
    "    \n",
    "    trainset = df['Bergen'].head(train_size)\n",
    "    testset = df['Bergen'].tail(test_size)\n",
    "    \n",
    "    return trainset, testset"
   ]
  },
  {
   "cell_type": "code",
   "execution_count": 5,
   "metadata": {},
   "outputs": [
    {
     "data": {
      "text/plain": [
       "0    246.01\n",
       "1    245.94\n",
       "2    243.11\n",
       "3    235.20\n",
       "4    227.81\n",
       "Name: Bergen, dtype: float64"
      ]
     },
     "execution_count": 5,
     "metadata": {},
     "output_type": "execute_result"
    }
   ],
   "source": [
    "trainset, testset = create_train_test(df)\n",
    "trainset.head()"
   ]
  },
  {
   "cell_type": "code",
   "execution_count": 6,
   "metadata": {},
   "outputs": [
    {
     "data": {
      "image/png": "[encoded data removed]",
      "text/plain": [
       "<Figure size 720x504 with 1 Axes>"
      ]
     },
     "metadata": {},
     "output_type": "display_data"
    }
   ],
   "source": [
    "plt.figure(figsize=(10,7))\n",
    "autocorrelation_plot(trainset)\n",
    "plt.show()"
   ]
  },
  {
   "cell_type": "code",
   "execution_count": 41,
   "metadata": {},
   "outputs": [],
   "source": [
    "# evaluate an ARIMA model for a given order (p,d,q)\n",
    "def evaluate_arima_model(train = list(trainset), test = list(testset), arima_order = (5,1,0), test_subset = 1):\n",
    "    len_test_subset = round(test_subset * len(test))\n",
    "    test = test[:len_test_subset]\n",
    "    # prepare training dataset\n",
    "    history = [x for x in train]\n",
    "    # make predictions\n",
    "    predictions = list()\n",
    "    for t in tqdm_notebook(range(len(test))):\n",
    "        model = ARIMA(history, order=arima_order)\n",
    "        model_fit = model.fit(disp=0)\n",
    "        yhat = model_fit.forecast()[0]\n",
    "        predictions.append(yhat)\n",
    "        history.append(test[t])\n",
    "    # calculate out of sample error\n",
    "    rmse = sqrt(mean_squared_error(test, predictions))\n",
    "    mae = mean_absolute_error(test,predictions)\n",
    "    return rmse,mae,test,predictions"
   ]
  },
  {
   "cell_type": "code",
   "execution_count": 42,
   "metadata": {
    "scrolled": false
   },
   "outputs": [
    {
     "data": {
      "application/vnd.jupyter.widget-view+json": {
       "model_id": "7326b2be61e44affb707917a31bb46b7",
       "version_major": 2,
       "version_minor": 0
      },
      "text/plain": [
       "HBox(children=(IntProgress(value=0, max=80), HTML(value='')))"
      ]
     },
     "metadata": {},
     "output_type": "display_data"
    }
   ],
   "source": [
    "rmse,mae,test,predictions = evaluate_arima_model(test_subset = 0.01)"
   ]
  },
  {
   "cell_type": "code",
   "execution_count": 43,
   "metadata": {},
   "outputs": [
    {
     "data": {
      "image/png": "[encoded data removed]",
      "text/plain": [
       "<Figure size 576x576 with 1 Axes>"
      ]
     },
     "metadata": {},
     "output_type": "display_data"
    }
   ],
   "source": [
    "plt.figure(figsize=(8,8))\n",
    "plt.plot(range(len(test)),predictions,color='r')\n",
    "plt.plot(range(len(test)),test,color='b')\n",
    "plt.show()"
   ]
  },
  {
   "cell_type": "code",
   "execution_count": 44,
   "metadata": {},
   "outputs": [
    {
     "data": {
      "text/plain": [
       "(35.61591586332158, 21.348117124160616)"
      ]
     },
     "execution_count": 44,
     "metadata": {},
     "output_type": "execute_result"
    }
   ],
   "source": [
    "rmse, mae"
   ]
  },
  {
   "cell_type": "code",
   "execution_count": 16,
   "metadata": {},
   "outputs": [
    {
     "data": {
      "text/plain": [
       "(15.235349713944588, 2.6557243253585456)"
      ]
     },
     "execution_count": 16,
     "metadata": {},
     "output_type": "execute_result"
    }
   ],
   "source": [
    "mse, mae"
   ]
  },
  {
   "cell_type": "code",
   "execution_count": null,
   "metadata": {},
   "outputs": [],
   "source": [
    "# evaluate combinations of p, d and q values for an ARIMA model\n",
    "def evaluate_models(dataset, p_values, d_values, q_values):\n",
    "    dataset = dataset.astype('float32')\n",
    "    best_score, best_cfg = float(\"inf\"), None\n",
    "    for p in p_values:\n",
    "        for d in d_values:\n",
    "            for q in q_values:\n",
    "                order = (p,d,q)\n",
    "                try:\n",
    "                    mse = evaluate_arima_model(dataset, order)\n",
    "                    if mse < best_score:\n",
    "                        best_score, best_cfg = mse, order\n",
    "                    print('ARIMA%s MSE=%.3f' % (order,mse))\n",
    "                except:\n",
    "                    continue\n",
    "    print('Best ARIMA%s MSE=%.3f' % (best_cfg, best_score))"
   ]
  }
 ],
 "metadata": {
  "kernelspec": {
   "display_name": "Python 3",
   "language": "python",
   "name": "python3"
  },
  "language_info": {
   "codemirror_mode": {
    "name": "ipython",
    "version": 3
   },
   "file_extension": ".py",
   "mimetype": "text/x-python",
   "name": "python",
   "nbconvert_exporter": "python",
   "pygments_lexer": "ipython3",
   "version": "3.6.5"
  }
 },
 "nbformat": 4,
 "nbformat_minor": 2
}
