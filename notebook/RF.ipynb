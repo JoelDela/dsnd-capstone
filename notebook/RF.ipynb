{
 "cells": [
  {
   "cell_type": "markdown",
   "metadata": {},
   "source": [
    "### RANDOM FOREST MODEL"
   ]
  },
  {
   "cell_type": "code",
   "execution_count": 3,
   "metadata": {},
   "outputs": [],
   "source": [
    "import pandas as pd\n",
    "import numpy as np\n",
    "import os\n",
    "import glob\n",
    "from tqdm import tqdm\n",
    "from sklearn.model_selection import train_test_split\n",
    "from sklearn.model_selection import GridSearchCV, KFold\n",
    "from sklearn.tree import DecisionTreeRegressor\n",
    "from sklearn.ensemble import RandomForestRegressor,AdaBoostRegressor\n",
    "from sklearn.metrics import make_scorer\n",
    "from sklearn.metrics import mean_absolute_error, mean_squared_error\n",
    "import matplotlib.pyplot as plt\n",
    "from math import sqrt"
   ]
  },
  {
   "cell_type": "code",
   "execution_count": 49,
   "metadata": {},
   "outputs": [],
   "source": [
    "def load_data(years = ['2013','2014','2015']):\n",
    "    file_name_1 = 'elspot-prices_'\n",
    "    file_name_2 = '_hourly_dkk.csv'\n",
    "    data_folder = os.getcwd().replace('notebook','data\\\\')\n",
    "    all_data=[]\n",
    "    for year in years:\n",
    "        file_name_tot = data_folder + file_name_1 + year + file_name_2\n",
    "        all_data.append(pd.read_csv(file_name_tot,encoding = \"ISO-8859-1\",sep=';',decimal=','))\n",
    "    df = pd.concat(all_data, ignore_index=True,sort= True)\n",
    "    return df\n",
    "    "
   ]
  },
  {
   "cell_type": "code",
   "execution_count": 84,
   "metadata": {},
   "outputs": [],
   "source": [
    "def generate_shifted_features(df,time_shift,colname):\n",
    "    pd.options.mode.chained_assignment = None\n",
    "    df = df.drop([ 'DK1', 'DK2', 'EE', 'ELE', 'FI', 'FRE', 'Kr.sand', 'LT', 'LV',\n",
    "       'Molde', 'Oslo', 'SE1', 'SE2', 'SE3', 'SE4', 'SYS', 'Tr.heim', 'Tromsø'],errors='ignore',axis=1)\n",
    "\n",
    "    for t in time_shift:\n",
    "        df.loc[:,colname+'_'+str(t)] = df.Bergen.shift(t)\n",
    "    return df"
   ]
  },
  {
   "cell_type": "code",
   "execution_count": 70,
   "metadata": {},
   "outputs": [],
   "source": [
    "def generate_shifted_labels(df,time_shift,colname):\n",
    "    pd.options.mode.chained_assignment = None\n",
    "    df = df.drop([ 'DK1', 'DK2', 'EE', 'ELE', 'FI', 'FRE', 'Kr.sand', 'LT', 'LV',\n",
    "       'Molde', 'Oslo', 'SE1', 'SE2', 'SE3', 'SE4', 'SYS', 'Tr.heim', 'Tromsø'],axis=1,errors='ignore')\n",
    "    labels = list([colname])\n",
    "    for t in time_shift:\n",
    "        df.loc[:,colname+'_plus_'+str(t)] = df[colname].shift(-t)\n",
    "        labels.append(colname+'_plus_'+str(t))\n",
    "        \n",
    "    return df, labels"
   ]
  },
  {
   "cell_type": "code",
   "execution_count": 89,
   "metadata": {},
   "outputs": [],
   "source": [
    "def generate_calendar_features(df):\n",
    "    \n",
    "    df['Month'] = df['datetime'].apply(lambda x: np.int(x[3:5]))\n",
    "    df['Hour'] = df['Hours'].apply(lambda x: np.int(x[0:2]))\n",
    "    df = pd.concat([df,pd.get_dummies(df['Month'],prefix='month'),pd.get_dummies(df['Hour'],prefix='hour')],axis=1)\n",
    "    df = df.drop(['Month','month_12','Hours','Hour','hour_0'],axis=1)\n",
    "    \n",
    "    return df"
   ]
  },
  {
   "cell_type": "code",
   "execution_count": 95,
   "metadata": {},
   "outputs": [],
   "source": [
    "def create_train_test(df,labels,test_size = 8000):\n",
    "    df = df.dropna()\n",
    "    train_size = df.shape[0]-test_size\n",
    "    \n",
    "    X_train = df.drop(['Bergen','datetime'],axis=1,errors='ignore').head(train_size)\n",
    "    X_train = X_train.drop(labels,axis=1,errors='ignore')\n",
    "    y_train = df[labels].head(train_size)\n",
    "    X_test = df.drop(['Bergen','datetime'],axis=1,errors='ignore').tail(test_size)\n",
    "    X_test = X_test.drop(labels,axis=1,errors='ignore')\n",
    "    y_test = df[labels].tail(test_size)\n",
    "    \n",
    "    return X_train, y_train, X_test, y_test\n",
    "    "
   ]
  },
  {
   "cell_type": "code",
   "execution_count": 54,
   "metadata": {},
   "outputs": [],
   "source": [
    "def gridsearch_rf(rf, X_train , y_train , param_grid , n_jobs = -1):\n",
    "    cv = KFold(4)\n",
    "    scorer = make_scorer(mean_absolute_error)\n",
    "    rf_grid = GridSearchCV(estimator = rf, param_grid = param_grid, cv = cv, scoring = scorer, verbose=2, n_jobs = n_jobs)\n",
    "    rf_grid.fit(X_train, y_train)\n",
    "    model = rf_grid.best_estimator_\n",
    "    return model"
   ]
  },
  {
   "cell_type": "code",
   "execution_count": 120,
   "metadata": {},
   "outputs": [],
   "source": [
    "def predict_model(model ,X_test ,y_test ):\n",
    "    y_pred = model.predict(X_test)\n",
    "    \n",
    "    if y_test.shape[1]==1:\n",
    "        mae = mean_absolute_error(y_test,y_pred)\n",
    "        rmse = sqrt(mean_squared_error(y_test,y_pred))\n",
    "        print('MAE = {:.2f}, RMSE = {:.2f}'.format(mae,rmse))\n",
    "    else:\n",
    "        mae=list()\n",
    "        rmse=list()\n",
    "        for i in range(y_test.shape[1]):\n",
    "            mae.append(mean_absolute_error(y_test.iloc[:,i],y_pred[:,i]))\n",
    "            rmse.append(sqrt(mean_squared_error(y_test.iloc[:,i],y_pred[:,i])))\n",
    "            \n",
    "    return y_pred,mae,rmse\n",
    "    "
   ]
  },
  {
   "cell_type": "code",
   "execution_count": 56,
   "metadata": {},
   "outputs": [],
   "source": [
    "def plot_predictions(y_test , y_pred ,plot_samples=100,size=(15,5)):\n",
    "    plt.figure(figsize=size)\n",
    "    plt.title('Example of model predictions')\n",
    "    plt.scatter(range(plot_samples),y_test[:plot_samples],color='b')\n",
    "    plt.scatter(range(plot_samples),y_pred[:plot_samples],color='r')\n",
    "    plt.show()\n",
    "    return"
   ]
  },
  {
   "cell_type": "code",
   "execution_count": 57,
   "metadata": {},
   "outputs": [
    {
     "ename": "TypeError",
     "evalue": "create_train_test() missing 1 required positional argument: 'labels'",
     "output_type": "error",
     "traceback": [
      "\u001b[1;31m---------------------------------------------------------------------------\u001b[0m",
      "\u001b[1;31mTypeError\u001b[0m                                 Traceback (most recent call last)",
      "\u001b[1;32m<ipython-input-57-130ebb1de95c>\u001b[0m in \u001b[0;36m<module>\u001b[1;34m()\u001b[0m\n\u001b[0;32m      3\u001b[0m \u001b[0mdf_bergen\u001b[0m \u001b[1;33m=\u001b[0m \u001b[0mgenerate_shifted_features\u001b[0m\u001b[1;33m(\u001b[0m\u001b[0mdf\u001b[0m\u001b[1;33m,\u001b[0m\u001b[0mtime_shift\u001b[0m\u001b[1;33m,\u001b[0m\u001b[1;34m'Bergen'\u001b[0m\u001b[1;33m)\u001b[0m\u001b[1;33m\u001b[0m\u001b[0m\n\u001b[0;32m      4\u001b[0m \u001b[0mdf_bergen\u001b[0m \u001b[1;33m=\u001b[0m \u001b[0mgenerate_calendar_features\u001b[0m\u001b[1;33m(\u001b[0m\u001b[0mdf_bergen\u001b[0m\u001b[1;33m)\u001b[0m\u001b[1;33m\u001b[0m\u001b[0m\n\u001b[1;32m----> 5\u001b[1;33m \u001b[0mX_train\u001b[0m\u001b[1;33m,\u001b[0m \u001b[0my_train\u001b[0m\u001b[1;33m,\u001b[0m \u001b[0mX_test\u001b[0m\u001b[1;33m,\u001b[0m \u001b[0my_test\u001b[0m \u001b[1;33m=\u001b[0m \u001b[0mcreate_train_test\u001b[0m\u001b[1;33m(\u001b[0m\u001b[0mdf_bergen\u001b[0m\u001b[1;33m,\u001b[0m\u001b[0mtest_size\u001b[0m \u001b[1;33m=\u001b[0m \u001b[1;36m8000\u001b[0m\u001b[1;33m)\u001b[0m\u001b[1;33m\u001b[0m\u001b[0m\n\u001b[0m",
      "\u001b[1;31mTypeError\u001b[0m: create_train_test() missing 1 required positional argument: 'labels'"
     ]
    }
   ],
   "source": [
    "df = load_data()\n",
    "time_shift = [1,3,6,9,12,24,36,48,60]\n",
    "df_bergen = generate_shifted_features(df,time_shift,'Bergen')\n",
    "df_bergen = generate_calendar_features(df_bergen)\n",
    "X_train, y_train, X_test, y_test = create_train_test(df_bergen,test_size = 8000)"
   ]
  },
  {
   "cell_type": "code",
   "execution_count": 123,
   "metadata": {},
   "outputs": [],
   "source": [
    "# Number of trees in random forest\n",
    "n_estimators = [5,10,30]\n",
    "# Number of features to consider at every split\n",
    "max_features = ['sqrt',None]\n",
    "# Maximum number of levels in tree\n",
    "max_depth = [6,9,12]\n",
    "# Minimum number of samples required to split a node\n",
    "min_samples_split = [2,4, 8]\n",
    "# Minimum number of samples required at each leaf node\n",
    "min_samples_leaf = [1, 2, 4]\n",
    "# Method of selecting samples for training each tree\n",
    "bootstrap = [True, False]\n",
    "# Create the random grid\n",
    "param_grid = {'n_estimators': n_estimators,\n",
    "               'max_features': max_features,\n",
    "               'max_depth': max_depth,\n",
    "               'min_samples_split': min_samples_split,\n",
    "               'min_samples_leaf': min_samples_leaf,\n",
    "               'bootstrap': bootstrap}"
   ]
  },
  {
   "cell_type": "code",
   "execution_count": 27,
   "metadata": {},
   "outputs": [],
   "source": [
    "# Number of trees in random forest\n",
    "base_estimator = [DecisionTreeRegressor(max_depth=15)]\n",
    "base_estimator = [RandomForestRegressor()]\n",
    "n_estimators = [5,10,20,30]\n",
    "# Number of features to consider at every split\n",
    "learning_rate = [0.1,0.5,0.75,1]\n",
    "# Maximum number of levels in tree\n",
    "loss = ['linear','square','exponential']\n",
    "# Create the random grid\n",
    "param_grid = {'base_estimator': base_estimator,\n",
    "              'n_estimators': n_estimators,\n",
    "              'learning_rate': learning_rate,\n",
    "              'loss': loss}"
   ]
  },
  {
   "cell_type": "code",
   "execution_count": 14,
   "metadata": {},
   "outputs": [
    {
     "name": "stdout",
     "output_type": "stream",
     "text": [
      "Fitting 4 folds for each of 48 candidates, totalling 192 fits\n"
     ]
    },
    {
     "name": "stderr",
     "output_type": "stream",
     "text": [
      "[Parallel(n_jobs=6)]: Done  29 tasks      | elapsed:  2.7min\n",
      "[Parallel(n_jobs=6)]: Done 150 tasks      | elapsed: 13.1min\n",
      "[Parallel(n_jobs=6)]: Done 192 out of 192 | elapsed: 16.6min finished\n"
     ]
    }
   ],
   "source": [
    "model = gridsearch_rf(AdaBoostRegressor(),n_jobs = 6)"
   ]
  },
  {
   "cell_type": "code",
   "execution_count": 15,
   "metadata": {},
   "outputs": [
    {
     "name": "stdout",
     "output_type": "stream",
     "text": [
      "AdaBoostRegressor(base_estimator=RandomForestRegressor(bootstrap=True, criterion='mse', max_depth=None,\n",
      "           max_features='auto', max_leaf_nodes=None,\n",
      "           min_impurity_decrease=0.0, min_impurity_split=None,\n",
      "           min_samples_leaf=1, min_samples_split=2,\n",
      "           min_weight_fraction_leaf=0.0, n_estimators=10, n_jobs=1,\n",
      "           oob_score=False, random_state=None, verbose=0, warm_start=False),\n",
      "         learning_rate=0.75, loss='square', n_estimators=5,\n",
      "         random_state=None)\n"
     ]
    }
   ],
   "source": [
    "print(model)"
   ]
  },
  {
   "cell_type": "code",
   "execution_count": 17,
   "metadata": {},
   "outputs": [
    {
     "name": "stdout",
     "output_type": "stream",
     "text": [
      "MAE = 5.35, RMSE = 11.52\n"
     ]
    }
   ],
   "source": [
    "y_pred, mae, rmse = predict_model()"
   ]
  },
  {
   "cell_type": "code",
   "execution_count": 19,
   "metadata": {},
   "outputs": [
    {
     "data": {
      "image/png": "[encoded data removed]",
      "text/plain": [
       "<Figure size 1080x360 with 1 Axes>"
      ]
     },
     "metadata": {},
     "output_type": "display_data"
    }
   ],
   "source": [
    "plot_predictions()"
   ]
  },
  {
   "cell_type": "markdown",
   "metadata": {},
   "source": [
    "### FEATURE IMPORTANCE AND FEATURE SELECTION"
   ]
  },
  {
   "cell_type": "code",
   "execution_count": 34,
   "metadata": {},
   "outputs": [],
   "source": [
    "def plot_importance(size=(10,10)):\n",
    "    features = X_train.columns.values\n",
    "    importances = model.feature_importances_\n",
    "    indices = np.argsort(importances)\n",
    "    plt.figure(figsize=size)\n",
    "    plt.title('Feature Importances')\n",
    "    plt.barh(range(len(indices)), importances[indices], color='b', align='center')\n",
    "    plt.yticks(range(len(indices)), [features[i] for i in indices])\n",
    "    plt.xlabel('Relative Importance')\n",
    "    plt.show()"
   ]
  },
  {
   "cell_type": "code",
   "execution_count": 40,
   "metadata": {},
   "outputs": [],
   "source": [
    "def select_top_features(X_train, X_test,top_k = 10):\n",
    "    features = X_train.columns.values\n",
    "    importances = model.feature_importances_\n",
    "    indices = np.argsort(importances)\n",
    "    indices_top_k = indices[::-1][:top_k]\n",
    "    features_top_k = features[indices_top_k]\n",
    "    X_train = X_train[features_top_k]\n",
    "    X_test = X_test[features_top_k]\n",
    "    return X_train, X_test"
   ]
  },
  {
   "cell_type": "code",
   "execution_count": 41,
   "metadata": {},
   "outputs": [],
   "source": [
    "X_train, X_test = select_top_features(X_train, X_test,top_k = 10)"
   ]
  },
  {
   "cell_type": "code",
   "execution_count": 44,
   "metadata": {},
   "outputs": [
    {
     "name": "stdout",
     "output_type": "stream",
     "text": [
      "Fitting 4 folds for each of 48 candidates, totalling 192 fits\n"
     ]
    },
    {
     "name": "stderr",
     "output_type": "stream",
     "text": [
      "[Parallel(n_jobs=8)]: Done  25 tasks      | elapsed:  1.0min\n",
      "[Parallel(n_jobs=8)]: Done 146 tasks      | elapsed:  5.1min\n",
      "[Parallel(n_jobs=8)]: Done 192 out of 192 | elapsed:  6.6min finished\n"
     ]
    }
   ],
   "source": [
    "model = gridsearch_rf(AdaBoostRegressor(),n_jobs = 8)"
   ]
  },
  {
   "cell_type": "code",
   "execution_count": 45,
   "metadata": {},
   "outputs": [
    {
     "name": "stdout",
     "output_type": "stream",
     "text": [
      "MAE = 5.35, RMSE = 11.52\n"
     ]
    }
   ],
   "source": [
    "y_pred, mae, rmse = predict_model()"
   ]
  },
  {
   "cell_type": "code",
   "execution_count": 49,
   "metadata": {},
   "outputs": [
    {
     "data": {
      "image/png": "[encoded data removed]",
      "text/plain": [
       "<Figure size 360x360 with 1 Axes>"
      ]
     },
     "metadata": {},
     "output_type": "display_data"
    }
   ],
   "source": [
    "plot_importance()"
   ]
  },
  {
   "cell_type": "markdown",
   "metadata": {},
   "source": [
    "### MULTI OUTPUT MODEL: 24H FORECAST"
   ]
  },
  {
   "cell_type": "code",
   "execution_count": 112,
   "metadata": {},
   "outputs": [
    {
     "data": {
      "text/html": [
       "<div>\n",
       "<style scoped>\n",
       "    .dataframe tbody tr th:only-of-type {\n",
       "        vertical-align: middle;\n",
       "    }\n",
       "\n",
       "    .dataframe tbody tr th {\n",
       "        vertical-align: top;\n",
       "    }\n",
       "\n",
       "    .dataframe thead th {\n",
       "        text-align: right;\n",
       "    }\n",
       "</style>\n",
       "<table border=\"1\" class=\"dataframe\">\n",
       "  <thead>\n",
       "    <tr style=\"text-align: right;\">\n",
       "      <th></th>\n",
       "      <th>Bergen</th>\n",
       "      <th>datetime</th>\n",
       "      <th>Bergen_1</th>\n",
       "      <th>Bergen_2</th>\n",
       "      <th>Bergen_3</th>\n",
       "      <th>Bergen_4</th>\n",
       "      <th>Bergen_5</th>\n",
       "      <th>Bergen_6</th>\n",
       "      <th>Bergen_7</th>\n",
       "      <th>Bergen_8</th>\n",
       "      <th>...</th>\n",
       "      <th>hour_14</th>\n",
       "      <th>hour_15</th>\n",
       "      <th>hour_16</th>\n",
       "      <th>hour_17</th>\n",
       "      <th>hour_18</th>\n",
       "      <th>hour_19</th>\n",
       "      <th>hour_20</th>\n",
       "      <th>hour_21</th>\n",
       "      <th>hour_22</th>\n",
       "      <th>hour_23</th>\n",
       "    </tr>\n",
       "  </thead>\n",
       "  <tbody>\n",
       "    <tr>\n",
       "      <th>0</th>\n",
       "      <td>246.01</td>\n",
       "      <td>01/01/2013</td>\n",
       "      <td>NaN</td>\n",
       "      <td>NaN</td>\n",
       "      <td>NaN</td>\n",
       "      <td>NaN</td>\n",
       "      <td>NaN</td>\n",
       "      <td>NaN</td>\n",
       "      <td>NaN</td>\n",
       "      <td>NaN</td>\n",
       "      <td>...</td>\n",
       "      <td>0</td>\n",
       "      <td>0</td>\n",
       "      <td>0</td>\n",
       "      <td>0</td>\n",
       "      <td>0</td>\n",
       "      <td>0</td>\n",
       "      <td>0</td>\n",
       "      <td>0</td>\n",
       "      <td>0</td>\n",
       "      <td>0</td>\n",
       "    </tr>\n",
       "    <tr>\n",
       "      <th>1</th>\n",
       "      <td>245.94</td>\n",
       "      <td>01/01/2013</td>\n",
       "      <td>246.01</td>\n",
       "      <td>NaN</td>\n",
       "      <td>NaN</td>\n",
       "      <td>NaN</td>\n",
       "      <td>NaN</td>\n",
       "      <td>NaN</td>\n",
       "      <td>NaN</td>\n",
       "      <td>NaN</td>\n",
       "      <td>...</td>\n",
       "      <td>0</td>\n",
       "      <td>0</td>\n",
       "      <td>0</td>\n",
       "      <td>0</td>\n",
       "      <td>0</td>\n",
       "      <td>0</td>\n",
       "      <td>0</td>\n",
       "      <td>0</td>\n",
       "      <td>0</td>\n",
       "      <td>0</td>\n",
       "    </tr>\n",
       "    <tr>\n",
       "      <th>2</th>\n",
       "      <td>243.11</td>\n",
       "      <td>01/01/2013</td>\n",
       "      <td>245.94</td>\n",
       "      <td>246.01</td>\n",
       "      <td>NaN</td>\n",
       "      <td>NaN</td>\n",
       "      <td>NaN</td>\n",
       "      <td>NaN</td>\n",
       "      <td>NaN</td>\n",
       "      <td>NaN</td>\n",
       "      <td>...</td>\n",
       "      <td>0</td>\n",
       "      <td>0</td>\n",
       "      <td>0</td>\n",
       "      <td>0</td>\n",
       "      <td>0</td>\n",
       "      <td>0</td>\n",
       "      <td>0</td>\n",
       "      <td>0</td>\n",
       "      <td>0</td>\n",
       "      <td>0</td>\n",
       "    </tr>\n",
       "    <tr>\n",
       "      <th>3</th>\n",
       "      <td>235.20</td>\n",
       "      <td>01/01/2013</td>\n",
       "      <td>243.11</td>\n",
       "      <td>245.94</td>\n",
       "      <td>246.01</td>\n",
       "      <td>NaN</td>\n",
       "      <td>NaN</td>\n",
       "      <td>NaN</td>\n",
       "      <td>NaN</td>\n",
       "      <td>NaN</td>\n",
       "      <td>...</td>\n",
       "      <td>0</td>\n",
       "      <td>0</td>\n",
       "      <td>0</td>\n",
       "      <td>0</td>\n",
       "      <td>0</td>\n",
       "      <td>0</td>\n",
       "      <td>0</td>\n",
       "      <td>0</td>\n",
       "      <td>0</td>\n",
       "      <td>0</td>\n",
       "    </tr>\n",
       "    <tr>\n",
       "      <th>4</th>\n",
       "      <td>227.81</td>\n",
       "      <td>01/01/2013</td>\n",
       "      <td>235.20</td>\n",
       "      <td>243.11</td>\n",
       "      <td>245.94</td>\n",
       "      <td>246.01</td>\n",
       "      <td>NaN</td>\n",
       "      <td>NaN</td>\n",
       "      <td>NaN</td>\n",
       "      <td>NaN</td>\n",
       "      <td>...</td>\n",
       "      <td>0</td>\n",
       "      <td>0</td>\n",
       "      <td>0</td>\n",
       "      <td>0</td>\n",
       "      <td>0</td>\n",
       "      <td>0</td>\n",
       "      <td>0</td>\n",
       "      <td>0</td>\n",
       "      <td>0</td>\n",
       "      <td>0</td>\n",
       "    </tr>\n",
       "  </tbody>\n",
       "</table>\n",
       "<p>5 rows × 75 columns</p>\n",
       "</div>"
      ],
      "text/plain": [
       "   Bergen    datetime  Bergen_1  Bergen_2  Bergen_3  Bergen_4  Bergen_5  \\\n",
       "0  246.01  01/01/2013       NaN       NaN       NaN       NaN       NaN   \n",
       "1  245.94  01/01/2013    246.01       NaN       NaN       NaN       NaN   \n",
       "2  243.11  01/01/2013    245.94    246.01       NaN       NaN       NaN   \n",
       "3  235.20  01/01/2013    243.11    245.94    246.01       NaN       NaN   \n",
       "4  227.81  01/01/2013    235.20    243.11    245.94    246.01       NaN   \n",
       "\n",
       "   Bergen_6  Bergen_7  Bergen_8   ...     hour_14  hour_15  hour_16  hour_17  \\\n",
       "0       NaN       NaN       NaN   ...           0        0        0        0   \n",
       "1       NaN       NaN       NaN   ...           0        0        0        0   \n",
       "2       NaN       NaN       NaN   ...           0        0        0        0   \n",
       "3       NaN       NaN       NaN   ...           0        0        0        0   \n",
       "4       NaN       NaN       NaN   ...           0        0        0        0   \n",
       "\n",
       "   hour_18  hour_19  hour_20  hour_21  hour_22  hour_23  \n",
       "0        0        0        0        0        0        0  \n",
       "1        0        0        0        0        0        0  \n",
       "2        0        0        0        0        0        0  \n",
       "3        0        0        0        0        0        0  \n",
       "4        0        0        0        0        0        0  \n",
       "\n",
       "[5 rows x 75 columns]"
      ]
     },
     "execution_count": 112,
     "metadata": {},
     "output_type": "execute_result"
    }
   ],
   "source": [
    "df = load_data()\n",
    "time_shift_features = [1,2,3,4,5,6,7,8,9,10,11,12,24,36,48,60]\n",
    "df = generate_shifted_features(df,time_shift_features,'Bergen')\n",
    "time_shift_labels = range(1,24)\n",
    "df, labels = generate_shifted_labels(df,time_shift_labels,'Bergen')\n",
    "df = generate_calendar_features(df)\n",
    "df.head()"
   ]
  },
  {
   "cell_type": "code",
   "execution_count": 113,
   "metadata": {},
   "outputs": [
    {
     "data": {
      "text/plain": [
       "Index(['Bergen', 'datetime', 'Bergen_1', 'Bergen_2', 'Bergen_3', 'Bergen_4',\n",
       "       'Bergen_5', 'Bergen_6', 'Bergen_7', 'Bergen_8', 'Bergen_9', 'Bergen_10',\n",
       "       'Bergen_11', 'Bergen_12', 'Bergen_24', 'Bergen_36', 'Bergen_48',\n",
       "       'Bergen_60', 'Bergen_plus_1', 'Bergen_plus_2', 'Bergen_plus_3',\n",
       "       'Bergen_plus_4', 'Bergen_plus_5', 'Bergen_plus_6', 'Bergen_plus_7',\n",
       "       'Bergen_plus_8', 'Bergen_plus_9', 'Bergen_plus_10', 'Bergen_plus_11',\n",
       "       'Bergen_plus_12', 'Bergen_plus_13', 'Bergen_plus_14', 'Bergen_plus_15',\n",
       "       'Bergen_plus_16', 'Bergen_plus_17', 'Bergen_plus_18', 'Bergen_plus_19',\n",
       "       'Bergen_plus_20', 'Bergen_plus_21', 'Bergen_plus_22', 'Bergen_plus_23',\n",
       "       'month_1', 'month_2', 'month_3', 'month_4', 'month_5', 'month_6',\n",
       "       'month_7', 'month_8', 'month_9', 'month_10', 'month_11', 'hour_1',\n",
       "       'hour_2', 'hour_3', 'hour_4', 'hour_5', 'hour_6', 'hour_7', 'hour_8',\n",
       "       'hour_9', 'hour_10', 'hour_11', 'hour_12', 'hour_13', 'hour_14',\n",
       "       'hour_15', 'hour_16', 'hour_17', 'hour_18', 'hour_19', 'hour_20',\n",
       "       'hour_21', 'hour_22', 'hour_23'],\n",
       "      dtype='object')"
      ]
     },
     "execution_count": 113,
     "metadata": {},
     "output_type": "execute_result"
    }
   ],
   "source": [
    "df.columns"
   ]
  },
  {
   "cell_type": "code",
   "execution_count": 114,
   "metadata": {},
   "outputs": [],
   "source": [
    "X_train, y_train, X_test, y_test = create_train_test(df,labels,test_size = 8000)"
   ]
  },
  {
   "cell_type": "code",
   "execution_count": 124,
   "metadata": {},
   "outputs": [
    {
     "name": "stdout",
     "output_type": "stream",
     "text": [
      "Fitting 4 folds for each of 324 candidates, totalling 1296 fits\n"
     ]
    },
    {
     "name": "stderr",
     "output_type": "stream",
     "text": [
      "[Parallel(n_jobs=8)]: Done  25 tasks      | elapsed:    7.7s\n",
      "[Parallel(n_jobs=8)]: Done 146 tasks      | elapsed:   25.2s\n",
      "[Parallel(n_jobs=8)]: Done 349 tasks      | elapsed:  1.1min\n",
      "[Parallel(n_jobs=8)]: Done 632 tasks      | elapsed:  2.7min\n",
      "[Parallel(n_jobs=8)]: Done 997 tasks      | elapsed:  4.4min\n",
      "[Parallel(n_jobs=8)]: Done 1296 out of 1296 | elapsed:  7.2min finished\n"
     ]
    }
   ],
   "source": [
    "model = gridsearch_rf(RandomForestRegressor(),X_train, y_train,param_grid,n_jobs = 8)"
   ]
  },
  {
   "cell_type": "code",
   "execution_count": 125,
   "metadata": {},
   "outputs": [
    {
     "data": {
      "image/png": "[encoded data removed]",
      "text/plain": [
       "<Figure size 720x1080 with 1 Axes>"
      ]
     },
     "metadata": {},
     "output_type": "display_data"
    }
   ],
   "source": [
    "plot_importance(size=(10,15))"
   ]
  },
  {
   "cell_type": "code",
   "execution_count": 126,
   "metadata": {},
   "outputs": [],
   "source": [
    "y_pred, mae, rmse = predict_model(model, X_test,y_test)"
   ]
  },
  {
   "cell_type": "code",
   "execution_count": 127,
   "metadata": {},
   "outputs": [
    {
     "name": "stdout",
     "output_type": "stream",
     "text": [
      "[14.713253582699021, 18.596738380243703, 21.529912723712386, 23.882251488616713, 25.233101048852163, 26.058012087681487, 26.40619183712375, 26.05452179757391, 26.872258893410034, 26.184803507269063, 25.89249275875291, 26.16703678367206, 26.68024895087464, 27.147012426159584, 27.050620775209847, 27.35283393532928, 27.58759820395185, 27.27781908730882, 27.377360852938484, 27.1800730704512, 26.55593793232942, 26.262096411055747, 26.53022657374939, 26.834274776597848]\n",
      "[25.459532440396885, 30.729234425174894, 34.6823948795625, 37.33696943945945, 38.75239623449966, 39.82008793031789, 40.64099331440179, 40.12017048136023, 40.69759439551625, 39.11445015295801, 38.174392333794536, 38.17648449861413, 38.85115913058738, 39.81447039338227, 40.19174583834425, 41.490098345415035, 41.146283726862144, 40.09287568894192, 40.083073427765534, 40.09356378979745, 39.52702747652749, 38.990319822925166, 39.13328736871097, 39.76683872923514]\n"
     ]
    }
   ],
   "source": [
    "print(mae)\n",
    "print(rmse)"
   ]
  },
  {
   "cell_type": "code",
   "execution_count": null,
   "metadata": {},
   "outputs": [],
   "source": []
  }
 ],
 "metadata": {
  "kernelspec": {
   "display_name": "Python 3",
   "language": "python",
   "name": "python3"
  },
  "language_info": {
   "codemirror_mode": {
    "name": "ipython",
    "version": 3
   },
   "file_extension": ".py",
   "mimetype": "text/x-python",
   "name": "python",
   "nbconvert_exporter": "python",
   "pygments_lexer": "ipython3",
   "version": "3.6.5"
  }
 },
 "nbformat": 4,
 "nbformat_minor": 2
}
