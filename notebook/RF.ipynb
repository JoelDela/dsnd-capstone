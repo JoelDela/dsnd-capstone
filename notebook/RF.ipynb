{
 "cells": [
  {
   "cell_type": "markdown",
   "metadata": {},
   "source": [
    "### RANDOM FOREST MODEL"
   ]
  },
  {
   "cell_type": "code",
   "execution_count": 1,
   "metadata": {},
   "outputs": [],
   "source": [
    "import pandas as pd\n",
    "import numpy as np\n",
    "import os\n",
    "import glob\n",
    "from tqdm import tqdm\n",
    "from sklearn.model_selection import train_test_split\n",
    "from sklearn.model_selection import GridSearchCV, KFold\n",
    "from sklearn.tree import DecisionTreeRegressor\n",
    "from sklearn.ensemble import RandomForestRegressor,AdaBoostRegressor\n",
    "from sklearn.metrics import make_scorer\n",
    "from sklearn.metrics import mean_absolute_error, mean_squared_error\n",
    "import matplotlib.pyplot as plt\n",
    "from math import sqrt"
   ]
  },
  {
   "cell_type": "code",
   "execution_count": 2,
   "metadata": {},
   "outputs": [],
   "source": [
    "def load_data(years = ['2013','2014','2015']):\n",
    "    file_name_1 = 'elspot-prices_'\n",
    "    file_name_2 = '_hourly_dkk.csv'\n",
    "    data_folder = os.getcwd().replace('notebook','data\\\\')\n",
    "    all_data=[]\n",
    "    for year in years:\n",
    "        file_name_tot = data_folder + file_name_1 + year + file_name_2\n",
    "        all_data.append(pd.read_csv(file_name_tot,encoding = \"ISO-8859-1\",sep=';',decimal=','))\n",
    "    df = pd.concat(all_data, ignore_index=True,sort= True)\n",
    "    return df\n",
    "    "
   ]
  },
  {
   "cell_type": "code",
   "execution_count": 4,
   "metadata": {},
   "outputs": [],
   "source": [
    "def generate_shifted_features(df,time_shift,colname):\n",
    "    pd.options.mode.chained_assignment = None\n",
    "    df = df[['datetime','Hours','Bergen']]\n",
    "    for t in time_shift:\n",
    "        df.loc[:,colname+'_'+str(t)] = df.Bergen.shift(t)\n",
    "    return df"
   ]
  },
  {
   "cell_type": "code",
   "execution_count": 6,
   "metadata": {},
   "outputs": [],
   "source": [
    "def generate_calendar_features(df):\n",
    "    \n",
    "    df['Month'] = df['datetime'].apply(lambda x: np.int(x[3:5]))\n",
    "    df['Hour'] = df['Hours'].apply(lambda x: np.int(x[0:2]))\n",
    "    df = pd.concat([df,pd.get_dummies(df['Month'],prefix='month'),pd.get_dummies(df['Hour'],prefix='hour')],axis=1)\n",
    "    df = df.drop(['Month','month_12','Hours','Hour','hour_0'],axis=1)\n",
    "    \n",
    "    return df"
   ]
  },
  {
   "cell_type": "code",
   "execution_count": 8,
   "metadata": {},
   "outputs": [],
   "source": [
    "def create_train_test(df,test_size = 8000):\n",
    "    df = df.dropna()\n",
    "    train_size = df.shape[0]-test_size\n",
    "    \n",
    "    X_train = df.drop(['Bergen','datetime'],axis=1).head(train_size)\n",
    "    y_train = df['Bergen'].head(train_size)\n",
    "    X_test = df.drop(['Bergen','datetime'],axis=1).tail(test_size)\n",
    "    y_test = df['Bergen'].tail(test_size)\n",
    "    \n",
    "    return X_train, y_train, X_test, y_test\n",
    "    "
   ]
  },
  {
   "cell_type": "code",
   "execution_count": 43,
   "metadata": {},
   "outputs": [],
   "source": [
    "def gridsearch_rf(rf, X_train = X_train, y_train = y_train, param_grid = param_grid, n_jobs = -1):\n",
    "    cv = KFold(4)\n",
    "    scorer = make_scorer(mean_absolute_error)\n",
    "    rf_grid = GridSearchCV(estimator = rf, param_grid = param_grid, cv = cv, scoring = scorer, verbose=2, n_jobs = n_jobs)\n",
    "    rf_grid.fit(X_train, y_train)\n",
    "    model = rf_grid.best_estimator_\n",
    "    return model"
   ]
  },
  {
   "cell_type": "code",
   "execution_count": 16,
   "metadata": {},
   "outputs": [],
   "source": [
    "def predict_model(model = model,X_test = X_test,y_test = y_test):\n",
    "    y_pred = model.predict(X_test)\n",
    "    mae = mean_absolute_error(y_test,y_pred)\n",
    "    rmse = sqrt(mean_squared_error(y_test,y_pred))\n",
    "    print('MAE = {:.2f}, RMSE = {:.2f}'.format(mae,rmse))\n",
    "    return y_pred,mae,rmse\n",
    "    "
   ]
  },
  {
   "cell_type": "code",
   "execution_count": 18,
   "metadata": {},
   "outputs": [],
   "source": [
    "def plot_predictions(y_test = y_test, y_pred = y_pred,plot_samples=100,size=(15,5)):\n",
    "    plt.figure(figsize=size)\n",
    "    plt.title('Example of model predictions')\n",
    "    plt.scatter(range(plot_samples),y_test[:plot_samples],color='b')\n",
    "    plt.scatter(range(plot_samples),y_pred[:plot_samples],color='r')\n",
    "    plt.show()\n",
    "    return"
   ]
  },
  {
   "cell_type": "code",
   "execution_count": 3,
   "metadata": {},
   "outputs": [
    {
     "data": {
      "text/html": [
       "<div>\n",
       "<style scoped>\n",
       "    .dataframe tbody tr th:only-of-type {\n",
       "        vertical-align: middle;\n",
       "    }\n",
       "\n",
       "    .dataframe tbody tr th {\n",
       "        vertical-align: top;\n",
       "    }\n",
       "\n",
       "    .dataframe thead th {\n",
       "        text-align: right;\n",
       "    }\n",
       "</style>\n",
       "<table border=\"1\" class=\"dataframe\">\n",
       "  <thead>\n",
       "    <tr style=\"text-align: right;\">\n",
       "      <th></th>\n",
       "      <th>Bergen</th>\n",
       "      <th>DK1</th>\n",
       "      <th>DK2</th>\n",
       "      <th>EE</th>\n",
       "      <th>ELE</th>\n",
       "      <th>FI</th>\n",
       "      <th>FRE</th>\n",
       "      <th>Hours</th>\n",
       "      <th>Kr.sand</th>\n",
       "      <th>LT</th>\n",
       "      <th>...</th>\n",
       "      <th>Molde</th>\n",
       "      <th>Oslo</th>\n",
       "      <th>SE1</th>\n",
       "      <th>SE2</th>\n",
       "      <th>SE3</th>\n",
       "      <th>SE4</th>\n",
       "      <th>SYS</th>\n",
       "      <th>Tr.heim</th>\n",
       "      <th>Tromsø</th>\n",
       "      <th>datetime</th>\n",
       "    </tr>\n",
       "  </thead>\n",
       "  <tbody>\n",
       "    <tr>\n",
       "      <th>0</th>\n",
       "      <td>246.01</td>\n",
       "      <td>104.66</td>\n",
       "      <td>104.66</td>\n",
       "      <td>232.14</td>\n",
       "      <td>232.14</td>\n",
       "      <td>231.54</td>\n",
       "      <td>NaN</td>\n",
       "      <td>00 - 01</td>\n",
       "      <td>246.01</td>\n",
       "      <td>182.16</td>\n",
       "      <td>...</td>\n",
       "      <td>231.54</td>\n",
       "      <td>246.01</td>\n",
       "      <td>231.54</td>\n",
       "      <td>231.54</td>\n",
       "      <td>231.54</td>\n",
       "      <td>231.54</td>\n",
       "      <td>231.62</td>\n",
       "      <td>231.54</td>\n",
       "      <td>231.54</td>\n",
       "      <td>01/01/2013</td>\n",
       "    </tr>\n",
       "    <tr>\n",
       "      <th>1</th>\n",
       "      <td>245.94</td>\n",
       "      <td>82.50</td>\n",
       "      <td>82.50</td>\n",
       "      <td>228.34</td>\n",
       "      <td>228.34</td>\n",
       "      <td>205.21</td>\n",
       "      <td>NaN</td>\n",
       "      <td>01 - 02</td>\n",
       "      <td>245.94</td>\n",
       "      <td>176.19</td>\n",
       "      <td>...</td>\n",
       "      <td>229.83</td>\n",
       "      <td>245.94</td>\n",
       "      <td>205.21</td>\n",
       "      <td>205.21</td>\n",
       "      <td>205.21</td>\n",
       "      <td>205.21</td>\n",
       "      <td>227.29</td>\n",
       "      <td>229.83</td>\n",
       "      <td>229.83</td>\n",
       "      <td>01/01/2013</td>\n",
       "    </tr>\n",
       "    <tr>\n",
       "      <th>2</th>\n",
       "      <td>243.11</td>\n",
       "      <td>63.41</td>\n",
       "      <td>63.41</td>\n",
       "      <td>182.31</td>\n",
       "      <td>182.31</td>\n",
       "      <td>182.31</td>\n",
       "      <td>NaN</td>\n",
       "      <td>02 - 03</td>\n",
       "      <td>243.11</td>\n",
       "      <td>178.51</td>\n",
       "      <td>...</td>\n",
       "      <td>229.53</td>\n",
       "      <td>243.11</td>\n",
       "      <td>182.31</td>\n",
       "      <td>182.31</td>\n",
       "      <td>182.31</td>\n",
       "      <td>182.31</td>\n",
       "      <td>215.73</td>\n",
       "      <td>229.53</td>\n",
       "      <td>229.53</td>\n",
       "      <td>01/01/2013</td>\n",
       "    </tr>\n",
       "    <tr>\n",
       "      <th>3</th>\n",
       "      <td>235.20</td>\n",
       "      <td>0.75</td>\n",
       "      <td>0.75</td>\n",
       "      <td>162.69</td>\n",
       "      <td>162.69</td>\n",
       "      <td>162.69</td>\n",
       "      <td>NaN</td>\n",
       "      <td>03 - 04</td>\n",
       "      <td>235.20</td>\n",
       "      <td>177.91</td>\n",
       "      <td>...</td>\n",
       "      <td>229.08</td>\n",
       "      <td>235.20</td>\n",
       "      <td>162.69</td>\n",
       "      <td>162.69</td>\n",
       "      <td>162.69</td>\n",
       "      <td>162.69</td>\n",
       "      <td>207.97</td>\n",
       "      <td>229.08</td>\n",
       "      <td>229.08</td>\n",
       "      <td>01/01/2013</td>\n",
       "    </tr>\n",
       "    <tr>\n",
       "      <th>4</th>\n",
       "      <td>227.81</td>\n",
       "      <td>14.99</td>\n",
       "      <td>14.99</td>\n",
       "      <td>166.87</td>\n",
       "      <td>166.87</td>\n",
       "      <td>166.87</td>\n",
       "      <td>NaN</td>\n",
       "      <td>04 - 05</td>\n",
       "      <td>227.81</td>\n",
       "      <td>173.51</td>\n",
       "      <td>...</td>\n",
       "      <td>228.48</td>\n",
       "      <td>227.81</td>\n",
       "      <td>166.87</td>\n",
       "      <td>166.87</td>\n",
       "      <td>166.87</td>\n",
       "      <td>166.87</td>\n",
       "      <td>201.11</td>\n",
       "      <td>228.48</td>\n",
       "      <td>228.48</td>\n",
       "      <td>01/01/2013</td>\n",
       "    </tr>\n",
       "  </tbody>\n",
       "</table>\n",
       "<p>5 rows × 21 columns</p>\n",
       "</div>"
      ],
      "text/plain": [
       "   Bergen     DK1     DK2      EE     ELE      FI  FRE    Hours  Kr.sand  \\\n",
       "0  246.01  104.66  104.66  232.14  232.14  231.54  NaN  00 - 01   246.01   \n",
       "1  245.94   82.50   82.50  228.34  228.34  205.21  NaN  01 - 02   245.94   \n",
       "2  243.11   63.41   63.41  182.31  182.31  182.31  NaN  02 - 03   243.11   \n",
       "3  235.20    0.75    0.75  162.69  162.69  162.69  NaN  03 - 04   235.20   \n",
       "4  227.81   14.99   14.99  166.87  166.87  166.87  NaN  04 - 05   227.81   \n",
       "\n",
       "       LT     ...       Molde    Oslo     SE1     SE2     SE3     SE4     SYS  \\\n",
       "0  182.16     ...      231.54  246.01  231.54  231.54  231.54  231.54  231.62   \n",
       "1  176.19     ...      229.83  245.94  205.21  205.21  205.21  205.21  227.29   \n",
       "2  178.51     ...      229.53  243.11  182.31  182.31  182.31  182.31  215.73   \n",
       "3  177.91     ...      229.08  235.20  162.69  162.69  162.69  162.69  207.97   \n",
       "4  173.51     ...      228.48  227.81  166.87  166.87  166.87  166.87  201.11   \n",
       "\n",
       "   Tr.heim  Tromsø    datetime  \n",
       "0   231.54  231.54  01/01/2013  \n",
       "1   229.83  229.83  01/01/2013  \n",
       "2   229.53  229.53  01/01/2013  \n",
       "3   229.08  229.08  01/01/2013  \n",
       "4   228.48  228.48  01/01/2013  \n",
       "\n",
       "[5 rows x 21 columns]"
      ]
     },
     "execution_count": 3,
     "metadata": {},
     "output_type": "execute_result"
    }
   ],
   "source": [
    "df = load_data()\n",
    "time_shift = [1,3,6,9,12,24,36,48,60]\n",
    "df_bergen = generate_shifted_features(df,time_shift,'Bergen')\n",
    "df_bergen = generate_calendar_features(df_bergen)\n",
    "X_train, y_train, X_test, y_test = create_train_test(df_bergen,test_size = 8000)"
   ]
  },
  {
   "cell_type": "code",
   "execution_count": 10,
   "metadata": {},
   "outputs": [],
   "source": [
    "# Number of trees in random forest\n",
    "n_estimators = [5,10,30]\n",
    "# Number of features to consider at every split\n",
    "max_features = ['sqrt']\n",
    "# Maximum number of levels in tree\n",
    "max_depth = [3,6,9]\n",
    "# Minimum number of samples required to split a node\n",
    "min_samples_split = [2,4, 8]\n",
    "# Minimum number of samples required at each leaf node\n",
    "min_samples_leaf = [1, 2, 4]\n",
    "# Method of selecting samples for training each tree\n",
    "bootstrap = [True, False]\n",
    "# Create the random grid\n",
    "param_grid = {'n_estimators': n_estimators,\n",
    "               'max_features': max_features,\n",
    "               'max_depth': max_depth,\n",
    "               'min_samples_split': min_samples_split,\n",
    "               'min_samples_leaf': min_samples_leaf,\n",
    "               'bootstrap': bootstrap}"
   ]
  },
  {
   "cell_type": "code",
   "execution_count": 12,
   "metadata": {},
   "outputs": [],
   "source": [
    "# Number of trees in random forest\n",
    "base_estimator = [DecisionTreeRegressor(max_depth=15)]\n",
    "base_estimator = [RandomForestRegressor()]\n",
    "n_estimators = [5,10,20,30]\n",
    "# Number of features to consider at every split\n",
    "learning_rate = [0.1,0.5,0.75,1]\n",
    "# Maximum number of levels in tree\n",
    "loss = ['linear','square','exponential']\n",
    "# Create the random grid\n",
    "param_grid = {'base_estimator': base_estimator,\n",
    "              'n_estimators': n_estimators,\n",
    "              'learning_rate': learning_rate,\n",
    "              'loss': loss}"
   ]
  },
  {
   "cell_type": "code",
   "execution_count": 14,
   "metadata": {},
   "outputs": [
    {
     "name": "stdout",
     "output_type": "stream",
     "text": [
      "Fitting 4 folds for each of 48 candidates, totalling 192 fits\n"
     ]
    },
    {
     "name": "stderr",
     "output_type": "stream",
     "text": [
      "[Parallel(n_jobs=6)]: Done  29 tasks      | elapsed:  2.7min\n",
      "[Parallel(n_jobs=6)]: Done 150 tasks      | elapsed: 13.1min\n",
      "[Parallel(n_jobs=6)]: Done 192 out of 192 | elapsed: 16.6min finished\n"
     ]
    }
   ],
   "source": [
    "model = gridsearch_rf(AdaBoostRegressor(),n_jobs = 6)"
   ]
  },
  {
   "cell_type": "code",
   "execution_count": 15,
   "metadata": {},
   "outputs": [
    {
     "name": "stdout",
     "output_type": "stream",
     "text": [
      "AdaBoostRegressor(base_estimator=RandomForestRegressor(bootstrap=True, criterion='mse', max_depth=None,\n",
      "           max_features='auto', max_leaf_nodes=None,\n",
      "           min_impurity_decrease=0.0, min_impurity_split=None,\n",
      "           min_samples_leaf=1, min_samples_split=2,\n",
      "           min_weight_fraction_leaf=0.0, n_estimators=10, n_jobs=1,\n",
      "           oob_score=False, random_state=None, verbose=0, warm_start=False),\n",
      "         learning_rate=0.75, loss='square', n_estimators=5,\n",
      "         random_state=None)\n"
     ]
    }
   ],
   "source": [
    "print(model)"
   ]
  },
  {
   "cell_type": "code",
   "execution_count": 17,
   "metadata": {},
   "outputs": [
    {
     "name": "stdout",
     "output_type": "stream",
     "text": [
      "MAE = 5.35, RMSE = 11.52\n"
     ]
    }
   ],
   "source": [
    "y_pred, mae, rmse = predict_model()"
   ]
  },
  {
   "cell_type": "code",
   "execution_count": 19,
   "metadata": {},
   "outputs": [
    {
     "data": {
      "image/png": "[encoded data removed]",
      "text/plain": [
       "<Figure size 1080x360 with 1 Axes>"
      ]
     },
     "metadata": {},
     "output_type": "display_data"
    }
   ],
   "source": [
    "plot_predictions()"
   ]
  },
  {
   "cell_type": "markdown",
   "metadata": {},
   "source": [
    "### FEATURE IMPORTANCE AND FEATURE SELECTION"
   ]
  },
  {
   "cell_type": "code",
   "execution_count": 46,
   "metadata": {},
   "outputs": [],
   "source": [
    "def plot_importance():\n",
    "    features = X_train.columns.values\n",
    "    importances = model.feature_importances_\n",
    "    indices = np.argsort(importances)\n",
    "    plt.figure(figsize=(5,10))\n",
    "    plt.title('Feature Importances')\n",
    "    plt.barh(range(len(indices)), importances[indices], color='b', align='center')\n",
    "    plt.yticks(range(len(indices)), [features[i] for i in indices])\n",
    "    plt.xlabel('Relative Importance')\n",
    "    plt.show()"
   ]
  },
  {
   "cell_type": "code",
   "execution_count": 40,
   "metadata": {},
   "outputs": [],
   "source": [
    "def select_top_features(X_train, X_test,top_k = 10):\n",
    "    features = X_train.columns.values\n",
    "    importances = model.feature_importances_\n",
    "    indices = np.argsort(importances)\n",
    "    indices_top_k = indices[::-1][:top_k]\n",
    "    features_top_k = features[indices_top_k]\n",
    "    X_train = X_train[features_top_k]\n",
    "    X_test = X_test[features_top_k]\n",
    "    return X_train, X_test"
   ]
  },
  {
   "cell_type": "code",
   "execution_count": 41,
   "metadata": {},
   "outputs": [],
   "source": [
    "X_train, X_test = select_top_features(X_train, X_test,top_k = 10)"
   ]
  },
  {
   "cell_type": "code",
   "execution_count": 44,
   "metadata": {},
   "outputs": [
    {
     "name": "stdout",
     "output_type": "stream",
     "text": [
      "Fitting 4 folds for each of 48 candidates, totalling 192 fits\n"
     ]
    },
    {
     "name": "stderr",
     "output_type": "stream",
     "text": [
      "[Parallel(n_jobs=8)]: Done  25 tasks      | elapsed:  1.0min\n",
      "[Parallel(n_jobs=8)]: Done 146 tasks      | elapsed:  5.1min\n",
      "[Parallel(n_jobs=8)]: Done 192 out of 192 | elapsed:  6.6min finished\n"
     ]
    }
   ],
   "source": [
    "model = gridsearch_rf(AdaBoostRegressor(),n_jobs = 8)"
   ]
  },
  {
   "cell_type": "code",
   "execution_count": 45,
   "metadata": {},
   "outputs": [
    {
     "name": "stdout",
     "output_type": "stream",
     "text": [
      "MAE = 5.35, RMSE = 11.52\n"
     ]
    }
   ],
   "source": [
    "y_pred, mae, rmse = predict_model()"
   ]
  },
  {
   "cell_type": "code",
   "execution_count": 47,
   "metadata": {},
   "outputs": [
    {
     "data": {
      "image/png": "[encoded data removed]",
      "text/plain": [
       "<Figure size 360x720 with 1 Axes>"
      ]
     },
     "metadata": {},
     "output_type": "display_data"
    }
   ],
   "source": [
    "plot_importance()"
   ]
  },
  {
   "cell_type": "code",
   "execution_count": null,
   "metadata": {},
   "outputs": [],
   "source": []
  }
 ],
 "metadata": {
  "kernelspec": {
   "display_name": "Python 3",
   "language": "python",
   "name": "python3"
  },
  "language_info": {
   "codemirror_mode": {
    "name": "ipython",
    "version": 3
   },
   "file_extension": ".py",
   "mimetype": "text/x-python",
   "name": "python",
   "nbconvert_exporter": "python",
   "pygments_lexer": "ipython3",
   "version": "3.6.5"
  }
 },
 "nbformat": 4,
 "nbformat_minor": 2
}
